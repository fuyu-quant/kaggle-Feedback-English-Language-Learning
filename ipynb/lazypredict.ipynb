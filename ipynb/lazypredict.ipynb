{
 "cells": [
  {
   "cell_type": "markdown",
   "id": "5c6d215b-368f-4e3a-8970-6e412e28439e",
   "metadata": {},
   "source": [
    "## LightGBM"
   ]
  },
  {
   "cell_type": "code",
   "execution_count": 1,
   "id": "856edffb-281e-416f-9bbd-09c1f2063c5d",
   "metadata": {},
   "outputs": [],
   "source": [
    "%%capture\n",
    "!pip install lazypredict"
   ]
  },
  {
   "cell_type": "code",
   "execution_count": 2,
   "id": "aac747cd-30bc-461d-b338-adf6fde85f48",
   "metadata": {},
   "outputs": [],
   "source": [
    "import pandas as pd\n",
    "import numpy as np\n",
    "\n",
    "import lightgbm as lgbm\n",
    "import pickle\n",
    "from sklearn.metrics import mean_squared_error\n",
    "from lazypredict.Supervised import LazyRegressor"
   ]
  },
  {
   "cell_type": "code",
   "execution_count": 10,
   "id": "7b52c010-7bd8-4223-83df-0dd39da4281c",
   "metadata": {},
   "outputs": [
    {
     "data": {
      "text/html": [
       "<div>\n",
       "<style scoped>\n",
       "    .dataframe tbody tr th:only-of-type {\n",
       "        vertical-align: middle;\n",
       "    }\n",
       "\n",
       "    .dataframe tbody tr th {\n",
       "        vertical-align: top;\n",
       "    }\n",
       "\n",
       "    .dataframe thead th {\n",
       "        text-align: right;\n",
       "    }\n",
       "</style>\n",
       "<table border=\"1\" class=\"dataframe\">\n",
       "  <thead>\n",
       "    <tr style=\"text-align: right;\">\n",
       "      <th></th>\n",
       "      <th>style</th>\n",
       "      <th>whitespace</th>\n",
       "      <th>locale-violation</th>\n",
       "      <th>misspelling</th>\n",
       "      <th>typographical</th>\n",
       "      <th>inconsistency</th>\n",
       "      <th>duplication</th>\n",
       "      <th>uncategorized</th>\n",
       "      <th>grammar_mistakes</th>\n",
       "      <th>error_length</th>\n",
       "      <th>sum_mistakes</th>\n",
       "    </tr>\n",
       "  </thead>\n",
       "  <tbody>\n",
       "    <tr>\n",
       "      <th>0</th>\n",
       "      <td>0</td>\n",
       "      <td>1</td>\n",
       "      <td>0</td>\n",
       "      <td>8</td>\n",
       "      <td>2</td>\n",
       "      <td>0</td>\n",
       "      <td>0</td>\n",
       "      <td>0</td>\n",
       "      <td>2</td>\n",
       "      <td>58</td>\n",
       "      <td>13</td>\n",
       "    </tr>\n",
       "    <tr>\n",
       "      <th>1</th>\n",
       "      <td>2</td>\n",
       "      <td>0</td>\n",
       "      <td>0</td>\n",
       "      <td>25</td>\n",
       "      <td>5</td>\n",
       "      <td>0</td>\n",
       "      <td>0</td>\n",
       "      <td>0</td>\n",
       "      <td>8</td>\n",
       "      <td>145</td>\n",
       "      <td>40</td>\n",
       "    </tr>\n",
       "    <tr>\n",
       "      <th>2</th>\n",
       "      <td>0</td>\n",
       "      <td>0</td>\n",
       "      <td>0</td>\n",
       "      <td>7</td>\n",
       "      <td>2</td>\n",
       "      <td>0</td>\n",
       "      <td>0</td>\n",
       "      <td>0</td>\n",
       "      <td>1</td>\n",
       "      <td>56</td>\n",
       "      <td>10</td>\n",
       "    </tr>\n",
       "    <tr>\n",
       "      <th>3</th>\n",
       "      <td>1</td>\n",
       "      <td>0</td>\n",
       "      <td>0</td>\n",
       "      <td>3</td>\n",
       "      <td>11</td>\n",
       "      <td>0</td>\n",
       "      <td>0</td>\n",
       "      <td>0</td>\n",
       "      <td>1</td>\n",
       "      <td>76</td>\n",
       "      <td>16</td>\n",
       "    </tr>\n",
       "    <tr>\n",
       "      <th>4</th>\n",
       "      <td>0</td>\n",
       "      <td>1</td>\n",
       "      <td>0</td>\n",
       "      <td>13</td>\n",
       "      <td>2</td>\n",
       "      <td>0</td>\n",
       "      <td>0</td>\n",
       "      <td>0</td>\n",
       "      <td>2</td>\n",
       "      <td>170</td>\n",
       "      <td>18</td>\n",
       "    </tr>\n",
       "  </tbody>\n",
       "</table>\n",
       "</div>"
      ],
      "text/plain": [
       "   style  whitespace  locale-violation  misspelling  typographical  \\\n",
       "0      0           1                 0            8              2   \n",
       "1      2           0                 0           25              5   \n",
       "2      0           0                 0            7              2   \n",
       "3      1           0                 0            3             11   \n",
       "4      0           1                 0           13              2   \n",
       "\n",
       "   inconsistency  duplication  uncategorized  grammar_mistakes  error_length  \\\n",
       "0              0            0              0                 2            58   \n",
       "1              0            0              0                 8           145   \n",
       "2              0            0              0                 1            56   \n",
       "3              0            0              0                 1            76   \n",
       "4              0            0              0                 2           170   \n",
       "\n",
       "   sum_mistakes  \n",
       "0            13  \n",
       "1            40  \n",
       "2            10  \n",
       "3            16  \n",
       "4            18  "
      ]
     },
     "execution_count": 10,
     "metadata": {},
     "output_type": "execute_result"
    }
   ],
   "source": [
    "df = pd.read_csv('/workspace/kaggle_data/train.csv')\n",
    "df = df.drop('full_text',axis = 1)\n",
    "#df.head()\n",
    "# 田中特徴量\n",
    "df1 = pd.read_csv('/workspace/kaggle_data/conventions_eda_data.csv')\n",
    "#df1.head()\n",
    "# 丸ちゃん特徴量\n",
    "df5 = pd.read_csv('/workspace/kaggle_data/mistake_features.csv')\n",
    "df5.head()"
   ]
  },
  {
   "cell_type": "code",
   "execution_count": 11,
   "id": "f14e38d7-7ab6-4f4d-b257-5931754cf025",
   "metadata": {},
   "outputs": [
    {
     "data": {
      "text/html": [
       "<div>\n",
       "<style scoped>\n",
       "    .dataframe tbody tr th:only-of-type {\n",
       "        vertical-align: middle;\n",
       "    }\n",
       "\n",
       "    .dataframe tbody tr th {\n",
       "        vertical-align: top;\n",
       "    }\n",
       "\n",
       "    .dataframe thead th {\n",
       "        text-align: right;\n",
       "    }\n",
       "</style>\n",
       "<table border=\"1\" class=\"dataframe\">\n",
       "  <thead>\n",
       "    <tr style=\"text-align: right;\">\n",
       "      <th></th>\n",
       "      <th>log_miss_rate</th>\n",
       "      <th>log_small_rate</th>\n",
       "      <th>target-cohesion</th>\n",
       "      <th>target-syntax</th>\n",
       "      <th>target-vocabulary</th>\n",
       "      <th>target-phraseology</th>\n",
       "      <th>target-grammar</th>\n",
       "      <th>target-conventions</th>\n",
       "      <th>style</th>\n",
       "      <th>whitespace</th>\n",
       "      <th>misspelling</th>\n",
       "      <th>typographical</th>\n",
       "      <th>grammar_mistakes</th>\n",
       "      <th>error_length</th>\n",
       "      <th>sum_mistakes</th>\n",
       "    </tr>\n",
       "  </thead>\n",
       "  <tbody>\n",
       "    <tr>\n",
       "      <th>0</th>\n",
       "      <td>0.00</td>\n",
       "      <td>0.06</td>\n",
       "      <td>3.50</td>\n",
       "      <td>3.50</td>\n",
       "      <td>3.00</td>\n",
       "      <td>3.00</td>\n",
       "      <td>4.00</td>\n",
       "      <td>3.00</td>\n",
       "      <td>0</td>\n",
       "      <td>1</td>\n",
       "      <td>8</td>\n",
       "      <td>2</td>\n",
       "      <td>2</td>\n",
       "      <td>58</td>\n",
       "      <td>13</td>\n",
       "    </tr>\n",
       "    <tr>\n",
       "      <th>1</th>\n",
       "      <td>0.00</td>\n",
       "      <td>0.01</td>\n",
       "      <td>2.50</td>\n",
       "      <td>2.50</td>\n",
       "      <td>3.00</td>\n",
       "      <td>2.00</td>\n",
       "      <td>2.00</td>\n",
       "      <td>2.50</td>\n",
       "      <td>2</td>\n",
       "      <td>0</td>\n",
       "      <td>25</td>\n",
       "      <td>5</td>\n",
       "      <td>8</td>\n",
       "      <td>145</td>\n",
       "      <td>40</td>\n",
       "    </tr>\n",
       "    <tr>\n",
       "      <th>2</th>\n",
       "      <td>0.01</td>\n",
       "      <td>0.01</td>\n",
       "      <td>3.00</td>\n",
       "      <td>3.50</td>\n",
       "      <td>3.00</td>\n",
       "      <td>3.00</td>\n",
       "      <td>3.00</td>\n",
       "      <td>2.50</td>\n",
       "      <td>0</td>\n",
       "      <td>0</td>\n",
       "      <td>7</td>\n",
       "      <td>2</td>\n",
       "      <td>1</td>\n",
       "      <td>56</td>\n",
       "      <td>10</td>\n",
       "    </tr>\n",
       "    <tr>\n",
       "      <th>3</th>\n",
       "      <td>0.00</td>\n",
       "      <td>0.00</td>\n",
       "      <td>4.50</td>\n",
       "      <td>4.50</td>\n",
       "      <td>4.50</td>\n",
       "      <td>4.50</td>\n",
       "      <td>4.00</td>\n",
       "      <td>5.00</td>\n",
       "      <td>1</td>\n",
       "      <td>0</td>\n",
       "      <td>3</td>\n",
       "      <td>11</td>\n",
       "      <td>1</td>\n",
       "      <td>76</td>\n",
       "      <td>16</td>\n",
       "    </tr>\n",
       "    <tr>\n",
       "      <th>4</th>\n",
       "      <td>0.03</td>\n",
       "      <td>0.00</td>\n",
       "      <td>2.50</td>\n",
       "      <td>3.00</td>\n",
       "      <td>3.00</td>\n",
       "      <td>3.00</td>\n",
       "      <td>2.50</td>\n",
       "      <td>2.50</td>\n",
       "      <td>0</td>\n",
       "      <td>1</td>\n",
       "      <td>13</td>\n",
       "      <td>2</td>\n",
       "      <td>2</td>\n",
       "      <td>170</td>\n",
       "      <td>18</td>\n",
       "    </tr>\n",
       "  </tbody>\n",
       "</table>\n",
       "</div>"
      ],
      "text/plain": [
       "   log_miss_rate  log_small_rate  target-cohesion  target-syntax  \\\n",
       "0           0.00            0.06             3.50           3.50   \n",
       "1           0.00            0.01             2.50           2.50   \n",
       "2           0.01            0.01             3.00           3.50   \n",
       "3           0.00            0.00             4.50           4.50   \n",
       "4           0.03            0.00             2.50           3.00   \n",
       "\n",
       "   target-vocabulary  target-phraseology  target-grammar  target-conventions  \\\n",
       "0               3.00                3.00            4.00                3.00   \n",
       "1               3.00                2.00            2.00                2.50   \n",
       "2               3.00                3.00            3.00                2.50   \n",
       "3               4.50                4.50            4.00                5.00   \n",
       "4               3.00                3.00            2.50                2.50   \n",
       "\n",
       "   style  whitespace  misspelling  typographical  grammar_mistakes  \\\n",
       "0      0           1            8              2                 2   \n",
       "1      2           0           25              5                 8   \n",
       "2      0           0            7              2                 1   \n",
       "3      1           0            3             11                 1   \n",
       "4      0           1           13              2                 2   \n",
       "\n",
       "   error_length  sum_mistakes  \n",
       "0            58            13  \n",
       "1           145            40  \n",
       "2            56            10  \n",
       "3            76            16  \n",
       "4           170            18  "
      ]
     },
     "execution_count": 11,
     "metadata": {},
     "output_type": "execute_result"
    }
   ],
   "source": [
    "# 田中\n",
    "#df['word_count'] = df1['word_count']\n",
    "#df['miss_count'] = df1['miss_count']\n",
    "#df['bos_count'] = df1['bos_count']\n",
    "#df['week_months'] = df1['week_months']\n",
    "#df['small_count'] = df1['small_count']\n",
    "#df['miss_rate'] = df1['miss_rate']\n",
    "#df['small_rate'] = df1['small_rate']\n",
    "df['log_miss_rate'] = df1['log_miss_rate']\n",
    "df['log_small_rate'] = df1['log_small_rate']\n",
    "#df['sample'] = df1['sample']\n",
    "\n",
    "# fold\n",
    "#df['fold'] = df3['fold']\n",
    "\n",
    "\n",
    "df['target-cohesion'] = df['cohesion']\n",
    "df['target-syntax'] = df['syntax']\n",
    "df['target-vocabulary'] = df['vocabulary']\n",
    "df['target-phraseology'] = df['phraseology']\n",
    "df['target-grammar'] = df['grammar']\n",
    "df['target-conventions'] = df['conventions']\n",
    "\n",
    "# まるちゃん\n",
    "df['style'] = df5['style']\n",
    "df['whitespace'] = df5['whitespace']\n",
    "#df['locale-violation'] = df5['locale-violation']  # 使えないかも\n",
    "df['misspelling'] = df5['misspelling']\n",
    "df['typographical'] = df5['typographical']\n",
    "#df['inconsistency'] = df5['inconsistency']　　　　　　# 使えないかも\n",
    "#df['duplication'] = df5['duplication']　　　　　　　　　# 使えないかも\n",
    "#df['uncategorized'] = df5['uncategorized']　　　　　　　# 使えないかも\n",
    "df['grammar_mistakes'] = df5['grammar_mistakes']\n",
    "df['error_length'] = df5['error_length']\n",
    "df['sum_mistakes'] = df5['sum_mistakes']\n",
    "\n",
    "target_list = ['cohesion','syntax','vocabulary','phraseology','grammar','conventions', 'text_id']\n",
    "df = df.drop(target_list, axis = 1)\n",
    "df.head()"
   ]
  },
  {
   "cell_type": "code",
   "execution_count": 12,
   "id": "a77d3284-95b5-441a-80d2-73cdc05fd0b8",
   "metadata": {},
   "outputs": [],
   "source": [
    "df.to_csv('/workspace/kaggle_data/features.csv')"
   ]
  },
  {
   "cell_type": "markdown",
   "id": "890d4067-bbed-42c3-aa66-823d3d7e4cf6",
   "metadata": {},
   "source": [
    "## モデルの学習"
   ]
  },
  {
   "cell_type": "code",
   "execution_count": 13,
   "id": "f013ea8a-c84b-4735-b6b7-40cdf06f6b2c",
   "metadata": {},
   "outputs": [],
   "source": [
    "from sklearn.linear_model import LinearRegression\n",
    "\n",
    "num_fold = 4\n",
    "\n",
    "data_path = '/workspace/kaggle_data/4fold_dataset/'\n",
    "#save_path = '/workspace/kaggle_data/save_models/4-fold/'\n",
    "save_path = '/workspace/kaggle_data/save_models/linear-4-fold/'\n",
    "#data_path = '/workspace/kaggle_data/10fold_dataset/'\n",
    "#save_path = '/workspace/kaggle_data/save_models/10-fold/'\n"
   ]
  },
  {
   "cell_type": "code",
   "execution_count": 14,
   "id": "1e465f57-403d-4c3d-a60d-6c35e952b73f",
   "metadata": {},
   "outputs": [],
   "source": [
    "def train_lr(t_list, column, fold, df, data_path, save_path):\n",
    "    print(f'fold:{fold}')\n",
    "    print(f'columns:{column}')\n",
    "    \n",
    "    deberta_df = pd.read_csv(data_path + f'fold{fold}.csv')\n",
    "    df['cohesion'] = deberta_df['cohesion']\n",
    "    df['syntax'] = deberta_df['syntax']\n",
    "    df['vocabulary'] = deberta_df['vocabulary']\n",
    "    df['phraseology'] = deberta_df['phraseology']\n",
    "    df['grammar'] = deberta_df['grammar']\n",
    "    df['conventions'] = deberta_df['conventions']\n",
    "    df['fold'] = deberta_df['fold']\n",
    "    \n",
    "    df_train = df[df.fold != fold]\n",
    "    df_valid = df[df.fold == fold]\n",
    "        \n",
    "    # 学習データ\n",
    "    x_train = df_train.drop(t_list, axis = 1)\n",
    "    y_train = df_train[f'target-{column}']\n",
    "        \n",
    "    # 評価用データ\n",
    "    x_valid = df_valid.drop(t_list, axis = 1)\n",
    "    y_valid = df_valid[f'target-{column}']\n",
    "    \n",
    "    reg = LazyRegressor(verbose=1,ignore_warnings=True,predictions=True)\n",
    "    models, predictions = reg.fit(x_train, x_valid, y_train, y_valid)\n",
    "    \n",
    "        \n",
    "    #rmse = np.sqrt(mean_squared_error(y_valid, y_pred))\n",
    "    print(models)\n",
    "    \n",
    "    #file = f'lgbm_{column}_{fold}.pkl'\n",
    "    #pickle.dump(lr, open(save_path + file, 'wb'))\n",
    "    \n",
    "    return #rmse, lr"
   ]
  },
  {
   "cell_type": "markdown",
   "id": "53c1d2e6-2259-46ef-bbc2-7b539fbaa939",
   "metadata": {
    "tags": []
   },
   "source": [
    "## モデルを一つ作成"
   ]
  },
  {
   "cell_type": "code",
   "execution_count": 15,
   "id": "1ea567a5-71f6-4e14-9472-9d46d8eb0b79",
   "metadata": {},
   "outputs": [
    {
     "name": "stdout",
     "output_type": "stream",
     "text": [
      "fold:0\n",
      "columns:conventions\n"
     ]
    },
    {
     "name": "stderr",
     "output_type": "stream",
     "text": [
      "  5%|▍         | 2/42 [00:00<00:06,  5.73it/s]"
     ]
    },
    {
     "name": "stdout",
     "output_type": "stream",
     "text": [
      "{'Model': 'AdaBoostRegressor', 'R-Squared': 0.5388591163922961, 'Adjusted R-Squared': 0.5316687699742966, 'RMSE': 0.4480699664189301, 'Time taken': 0.2194051742553711}\n",
      "{'Model': 'BaggingRegressor', 'R-Squared': 0.5009234698288283, 'Adjusted R-Squared': 0.49314161125027567, 'RMSE': 0.4661359456600626, 'Time taken': 0.14252042770385742}\n"
     ]
    },
    {
     "name": "stderr",
     "output_type": "stream",
     "text": [
      " 19%|█▉        | 8/42 [00:00<00:01, 18.60it/s]"
     ]
    },
    {
     "name": "stdout",
     "output_type": "stream",
     "text": [
      "{'Model': 'BayesianRidge', 'R-Squared': 0.551871948605521, 'Adjusted R-Squared': 0.544884504976709, 'RMSE': 0.4417027326377005, 'Time taken': 0.0988767147064209}\n",
      "{'Model': 'DecisionTreeRegressor', 'R-Squared': 0.13924989914125985, 'Adjusted R-Squared': 0.12582863977236058, 'RMSE': 0.6121636842202571, 'Time taken': 0.028383731842041016}\n",
      "{'Model': 'DummyRegressor', 'R-Squared': -1.277543581590379e-05, 'Adjusted R-Squared': -0.015605490229513741, 'RMSE': 0.6598296014724808, 'Time taken': 0.00438690185546875}\n",
      "{'Model': 'ElasticNet', 'R-Squared': 0.059703645877888456, 'Adjusted R-Squared': 0.04504206031465385, 'RMSE': 0.6398252824366856, 'Time taken': 0.023259639739990234}\n",
      "{'Model': 'ElasticNetCV', 'R-Squared': 0.5523610452614404, 'Adjusted R-Squared': 0.545381227879862, 'RMSE': 0.44146162487021134, 'Time taken': 0.047911643981933594}\n",
      "{'Model': 'ExtraTreeRegressor', 'R-Squared': 0.12398420840297386, 'Adjusted R-Squared': 0.11032491851320736, 'RMSE': 0.6175682901890566, 'Time taken': 0.02387547492980957}\n",
      "{'Model': 'ExtraTreesRegressor', 'R-Squared': 0.5325178130943462, 'Adjusted R-Squared': 0.5252285898057965, 'RMSE': 0.45114022777011853, 'Time taken': 0.5979423522949219}\n",
      "{'Model': 'GammaRegressor', 'R-Squared': 0.5429660227346347, 'Adjusted R-Squared': 0.535839713317815, 'RMSE': 0.44607025554019897, 'Time taken': 0.022642850875854492}\n"
     ]
    },
    {
     "name": "stderr",
     "output_type": "stream",
     "text": [
      " 26%|██▌       | 11/42 [00:01<00:06,  4.76it/s]"
     ]
    },
    {
     "name": "stdout",
     "output_type": "stream",
     "text": [
      "{'Model': 'GaussianProcessRegressor', 'R-Squared': -0.8750167133988835, 'Adjusted R-Squared': -0.9042529407387829, 'RMSE': 0.9035071476055122, 'Time taken': 0.6919782161712646}\n"
     ]
    },
    {
     "name": "stderr",
     "output_type": "stream",
     "text": [
      " 31%|███       | 13/42 [00:02<00:07,  3.70it/s]"
     ]
    },
    {
     "name": "stdout",
     "output_type": "stream",
     "text": [
      "{'Model': 'GradientBoostingRegressor', 'R-Squared': 0.5430645791414652, 'Adjusted R-Squared': 0.5359398064669558, 'RMSE': 0.4460221568712697, 'Time taken': 0.6707460880279541}\n",
      "{'Model': 'HistGradientBoostingRegressor', 'R-Squared': 0.5265264325019341, 'Adjusted R-Squared': 0.5191437885180765, 'RMSE': 0.4540219925627082, 'Time taken': 0.17919135093688965}\n",
      "{'Model': 'HuberRegressor', 'R-Squared': 0.5496697400444434, 'Adjusted R-Squared': 0.5426479584443047, 'RMSE': 0.44278671903063066, 'Time taken': 0.035805463790893555}\n",
      "{'Model': 'KNeighborsRegressor', 'R-Squared': 0.45266627283730043, 'Adjusted R-Squared': 0.4441319631622064, 'RMSE': 0.4881520598520837, 'Time taken': 0.036492109298706055}\n"
     ]
    },
    {
     "name": "stderr",
     "output_type": "stream",
     "text": [
      " 48%|████▊     | 20/42 [00:03<00:02,  7.57it/s]"
     ]
    },
    {
     "name": "stdout",
     "output_type": "stream",
     "text": [
      "{'Model': 'KernelRidge', 'R-Squared': -21.499172556209732, 'Adjusted R-Squared': -21.84999125511113, 'RMSE': 3.1297690693420606, 'Time taken': 0.23557233810424805}\n",
      "{'Model': 'Lars', 'R-Squared': 0.5357068769102722, 'Adjusted R-Squared': 0.5284673791489978, 'RMSE': 0.44959880322671514, 'Time taken': 0.007524251937866211}\n",
      "{'Model': 'LarsCV', 'R-Squared': 0.5538088990164165, 'Adjusted R-Squared': 0.5468516573170883, 'RMSE': 0.44074710981286047, 'Time taken': 0.0363154411315918}\n",
      "{'Model': 'Lasso', 'R-Squared': -1.277543581590379e-05, 'Adjusted R-Squared': -0.015605490229513741, 'RMSE': 0.6598296014724808, 'Time taken': 0.010342121124267578}\n",
      "{'Model': 'LassoCV', 'R-Squared': 0.5522202662614222, 'Adjusted R-Squared': 0.5452382537810909, 'RMSE': 0.44153103755190265, 'Time taken': 0.05009961128234863}\n",
      "{'Model': 'LassoLars', 'R-Squared': -1.277543581590379e-05, 'Adjusted R-Squared': -0.015605490229513741, 'RMSE': 0.6598296014724808, 'Time taken': 0.02335190773010254}\n"
     ]
    },
    {
     "name": "stderr",
     "output_type": "stream",
     "text": [
      " 57%|█████▋    | 24/42 [00:03<00:01,  9.51it/s]"
     ]
    },
    {
     "name": "stdout",
     "output_type": "stream",
     "text": [
      "{'Model': 'LassoLarsCV', 'R-Squared': 0.552287798978027, 'Adjusted R-Squared': 0.5453068395026324, 'RMSE': 0.44149774114238993, 'Time taken': 0.0763545036315918}\n",
      "{'Model': 'LassoLarsIC', 'R-Squared': 0.5524932941141114, 'Adjusted R-Squared': 0.5455155388248304, 'RMSE': 0.44139640813079745, 'Time taken': 0.08296322822570801}\n",
      "{'Model': 'LinearRegression', 'R-Squared': 0.5513066560550326, 'Adjusted R-Squared': 0.5443103980933127, 'RMSE': 0.4419812384907498, 'Time taken': 0.07672452926635742}\n",
      "{'Model': 'LinearSVR', 'R-Squared': 0.5485005622320844, 'Adjusted R-Squared': 0.5414605502086762, 'RMSE': 0.4433611428140257, 'Time taken': 0.10839486122131348}\n"
     ]
    },
    {
     "name": "stderr",
     "output_type": "stream",
     "text": [
      " 62%|██████▏   | 26/42 [00:04<00:03,  4.49it/s]"
     ]
    },
    {
     "name": "stdout",
     "output_type": "stream",
     "text": [
      "{'Model': 'MLPRegressor', 'R-Squared': 0.5100338294159239, 'Adjusted R-Squared': 0.5023940242612865, 'RMSE': 0.4618618264861634, 'Time taken': 1.003502368927002}\n"
     ]
    },
    {
     "name": "stderr",
     "output_type": "stream",
     "text": [
      " 67%|██████▋   | 28/42 [00:04<00:02,  4.96it/s]"
     ]
    },
    {
     "name": "stdout",
     "output_type": "stream",
     "text": [
      "{'Model': 'NuSVR', 'R-Squared': 0.5322139519880704, 'Adjusted R-Squared': 0.5249199907404831, 'RMSE': 0.4512868234092641, 'Time taken': 0.28371644020080566}\n",
      "{'Model': 'OrthogonalMatchingPursuit', 'R-Squared': 0.5526157880149098, 'Adjusted R-Squared': 0.5456399427136871, 'RMSE': 0.44133599331734824, 'Time taken': 0.005178689956665039}\n",
      "{'Model': 'OrthogonalMatchingPursuitCV', 'R-Squared': 0.5489112359731727, 'Adjusted R-Squared': 0.5418776273864758, 'RMSE': 0.4431594612768904, 'Time taken': 0.008871078491210938}\n",
      "{'Model': 'PassiveAggressiveRegressor', 'R-Squared': 0.08617032023215898, 'Adjusted R-Squared': 0.07192141670147534, 'RMSE': 0.6307563778363712, 'Time taken': 0.006154060363769531}\n",
      "{'Model': 'PoissonRegressor', 'R-Squared': 0.5494499421754209, 'Adjusted R-Squared': 0.5424247333735823, 'RMSE': 0.4428947638516935, 'Time taken': 0.006886720657348633}\n"
     ]
    },
    {
     "name": "stderr",
     "output_type": "stream",
     "text": [
      " 76%|███████▌  | 32/42 [02:37<02:47, 16.77s/it]"
     ]
    },
    {
     "name": "stdout",
     "output_type": "stream",
     "text": [
      "{'Model': 'QuantileRegressor', 'R-Squared': -0.01575557650795223, 'Adjusted R-Squared': -0.03159376117283719, 'RMSE': 0.6650030368767326, 'Time taken': 152.55125498771667}\n",
      "{'Model': 'RANSACRegressor', 'R-Squared': -0.3003916949835084, 'Adjusted R-Squared': -0.3206680727639166, 'RMSE': 0.7524300201958839, 'Time taken': 0.060427188873291016}\n"
     ]
    },
    {
     "name": "stderr",
     "output_type": "stream",
     "text": [
      " 81%|████████  | 34/42 [02:38<01:43, 12.96s/it]"
     ]
    },
    {
     "name": "stdout",
     "output_type": "stream",
     "text": [
      "{'Model': 'RandomForestRegressor', 'R-Squared': 0.534452387110253, 'Adjusted R-Squared': 0.5271933286972112, 'RMSE': 0.45020578684780077, 'Time taken': 1.3922357559204102}\n",
      "{'Model': 'Ridge', 'R-Squared': 0.5513823175249195, 'Adjusted R-Squared': 0.5443872393158486, 'RMSE': 0.4419439721032579, 'Time taken': 0.0060503482818603516}\n",
      "{'Model': 'RidgeCV', 'R-Squared': 0.5520652752162478, 'Adjusted R-Squared': 0.545080846035628, 'RMSE': 0.44160744502538407, 'Time taken': 0.011798381805419922}\n",
      "{'Model': 'SGDRegressor', 'R-Squared': 0.5561157520013021, 'Adjusted R-Squared': 0.5491944799431103, 'RMSE': 0.4396062798497485, 'Time taken': 0.011854171752929688}\n"
     ]
    },
    {
     "name": "stderr",
     "output_type": "stream",
     "text": [
      " 90%|█████████ | 38/42 [02:39<00:31,  7.76s/it]"
     ]
    },
    {
     "name": "stdout",
     "output_type": "stream",
     "text": [
      "{'Model': 'SVR', 'R-Squared': 0.5221152908748076, 'Adjusted R-Squared': 0.5146638660963483, 'RMSE': 0.45613204934081497, 'Time taken': 0.41259050369262695}\n",
      "{'Model': 'TransformedTargetRegressor', 'R-Squared': 0.5513066560550326, 'Adjusted R-Squared': 0.5443103980933127, 'RMSE': 0.4419812384907498, 'Time taken': 0.011428356170654297}\n",
      "{'Model': 'TweedieRegressor', 'R-Squared': 0.5406962949311467, 'Adjusted R-Squared': 0.5335345947481605, 'RMSE': 0.4471765235671145, 'Time taken': 0.027156352996826172}\n"
     ]
    },
    {
     "name": "stderr",
     "output_type": "stream",
     "text": [
      "100%|██████████| 42/42 [02:39<00:00,  3.80s/it]"
     ]
    },
    {
     "name": "stdout",
     "output_type": "stream",
     "text": [
      "{'Model': 'XGBRegressor', 'R-Squared': 0.4725075222783178, 'Adjusted R-Squared': 0.4642825875945078, 'RMSE': 0.47922245134900243, 'Time taken': 0.2510080337524414}\n",
      "{'Model': 'LGBMRegressor', 'R-Squared': 0.5231171426363285, 'Adjusted R-Squared': 0.515681339247082, 'RMSE': 0.4556536740709381, 'Time taken': 0.07076287269592285}\n",
      "                               Adjusted R-Squared  R-Squared  RMSE  Time Taken\n",
      "Model                                                                         \n",
      "SGDRegressor                                 0.55       0.56  0.44        0.01\n",
      "LarsCV                                       0.55       0.55  0.44        0.04\n",
      "OrthogonalMatchingPursuit                    0.55       0.55  0.44        0.01\n",
      "LassoLarsIC                                  0.55       0.55  0.44        0.08\n",
      "ElasticNetCV                                 0.55       0.55  0.44        0.05\n",
      "LassoLarsCV                                  0.55       0.55  0.44        0.08\n",
      "LassoCV                                      0.55       0.55  0.44        0.05\n",
      "RidgeCV                                      0.55       0.55  0.44        0.01\n",
      "BayesianRidge                                0.54       0.55  0.44        0.10\n",
      "Ridge                                        0.54       0.55  0.44        0.01\n",
      "TransformedTargetRegressor                   0.54       0.55  0.44        0.01\n",
      "LinearRegression                             0.54       0.55  0.44        0.08\n",
      "HuberRegressor                               0.54       0.55  0.44        0.04\n",
      "PoissonRegressor                             0.54       0.55  0.44        0.01\n",
      "OrthogonalMatchingPursuitCV                  0.54       0.55  0.44        0.01\n",
      "LinearSVR                                    0.54       0.55  0.44        0.11\n",
      "GradientBoostingRegressor                    0.54       0.54  0.45        0.67\n",
      "GammaRegressor                               0.54       0.54  0.45        0.02\n",
      "TweedieRegressor                             0.53       0.54  0.45        0.03\n",
      "AdaBoostRegressor                            0.53       0.54  0.45        0.22\n",
      "Lars                                         0.53       0.54  0.45        0.01\n",
      "RandomForestRegressor                        0.53       0.53  0.45        1.39\n",
      "ExtraTreesRegressor                          0.53       0.53  0.45        0.60\n",
      "NuSVR                                        0.52       0.53  0.45        0.28\n",
      "HistGradientBoostingRegressor                0.52       0.53  0.45        0.18\n",
      "LGBMRegressor                                0.52       0.52  0.46        0.07\n",
      "SVR                                          0.51       0.52  0.46        0.41\n",
      "MLPRegressor                                 0.50       0.51  0.46        1.00\n",
      "BaggingRegressor                             0.49       0.50  0.47        0.14\n",
      "XGBRegressor                                 0.46       0.47  0.48        0.25\n",
      "KNeighborsRegressor                          0.44       0.45  0.49        0.04\n",
      "DecisionTreeRegressor                        0.13       0.14  0.61        0.03\n",
      "ExtraTreeRegressor                           0.11       0.12  0.62        0.02\n",
      "PassiveAggressiveRegressor                   0.07       0.09  0.63        0.01\n",
      "ElasticNet                                   0.05       0.06  0.64        0.02\n",
      "DummyRegressor                              -0.02      -0.00  0.66        0.00\n",
      "LassoLars                                   -0.02      -0.00  0.66        0.02\n",
      "Lasso                                       -0.02      -0.00  0.66        0.01\n",
      "QuantileRegressor                           -0.03      -0.02  0.67      152.55\n",
      "RANSACRegressor                             -0.32      -0.30  0.75        0.06\n",
      "GaussianProcessRegressor                    -0.90      -0.88  0.90        0.69\n",
      "KernelRidge                                -21.85     -21.50  3.13        0.24\n"
     ]
    },
    {
     "name": "stderr",
     "output_type": "stream",
     "text": [
      "\n"
     ]
    }
   ],
   "source": [
    "input_df = pd.read_csv('/workspace/kaggle_data/features.csv',index_col=0)\n",
    "fold = 0\n",
    "columns_name = 'conventions'\n",
    "target_list = ['target-cohesion','target-syntax','target-vocabulary','target-phraseology','target-grammar','target-conventions', 'fold']\n",
    "\n",
    "train_lr(target_list, columns_name, fold, input_df, data_path, save_path)"
   ]
  },
  {
   "cell_type": "markdown",
   "id": "e5a1d188-6776-48df-a5a1-244cdd255453",
   "metadata": {},
   "source": [
    "## 複数のモデルを作成"
   ]
  },
  {
   "cell_type": "code",
   "execution_count": 45,
   "id": "2bcd741b-0da0-43bc-9a5c-129474e4ed90",
   "metadata": {},
   "outputs": [
    {
     "name": "stdout",
     "output_type": "stream",
     "text": [
      "fold:0\n",
      "columns:cohesion\n",
      "0.48163520946591154\n",
      "fold:1\n",
      "columns:cohesion\n",
      "0.4944749265830755\n",
      "fold:2\n",
      "columns:cohesion\n",
      "0.48388129173244326\n",
      "fold:3\n",
      "columns:cohesion\n",
      "0.48354603887218256\n",
      "fold:0\n",
      "columns:syntax\n",
      "0.4417261153143638\n",
      "fold:1\n",
      "columns:syntax\n",
      "0.4465423545345618\n",
      "fold:2\n",
      "columns:syntax\n",
      "0.455118772916972\n",
      "fold:3\n",
      "columns:syntax\n",
      "0.445404394438398\n",
      "fold:0\n",
      "columns:vocabulary\n",
      "0.415228161859009\n",
      "fold:1\n",
      "columns:vocabulary\n",
      "0.4278479926934982\n",
      "fold:2\n",
      "columns:vocabulary\n",
      "0.4215183830076695\n",
      "fold:3\n",
      "columns:vocabulary\n",
      "0.4109452733843547\n",
      "fold:0\n",
      "columns:phraseology\n",
      "0.46213185435503495\n",
      "fold:1\n",
      "columns:phraseology\n",
      "0.4596532939455766\n",
      "fold:2\n",
      "columns:phraseology\n",
      "0.47050502700802926\n",
      "fold:3\n",
      "columns:phraseology\n",
      "0.43630163997725563\n",
      "fold:0\n",
      "columns:grammar\n",
      "0.471759423050848\n",
      "fold:1\n",
      "columns:grammar\n",
      "0.47875091547830645\n",
      "fold:2\n",
      "columns:grammar\n",
      "0.4920073722227463\n",
      "fold:3\n",
      "columns:grammar\n",
      "0.4631084674498509\n",
      "fold:0\n",
      "columns:conventions\n",
      "0.4410319317849214\n",
      "fold:1\n",
      "columns:conventions\n",
      "0.4498589822533331\n",
      "fold:2\n",
      "columns:conventions\n",
      "0.46072027818229366\n",
      "fold:3\n",
      "columns:conventions\n",
      "0.43554546310925046\n"
     ]
    }
   ],
   "source": [
    "input_df = pd.read_csv('/workspace/kaggle_data/features.csv',index_col=0)\n",
    "column_list = ['cohesion','syntax','vocabulary','phraseology','grammar','conventions']\n",
    "target_list = ['target-cohesion','target-syntax','target-vocabulary','target-phraseology','target-grammar','target-conventions', 'fold']\n",
    "\n",
    "\n",
    "score_list = []\n",
    "for i in column_list:\n",
    "    columns_name = i\n",
    "    score_l = []\n",
    "    for j in range(num_fold):\n",
    "        fold = j\n",
    "        score, models = train_lr(target_list, columns_name, fold, input_df, data_path, save_path)\n",
    "        score_l.append(score)\n",
    "    score_list.append(score_l)"
   ]
  },
  {
   "cell_type": "code",
   "execution_count": 46,
   "id": "68baa299-7dec-433d-a82d-df7698a7aea7",
   "metadata": {},
   "outputs": [
    {
     "data": {
      "text/plain": [
       "[[0.48163520946591154,\n",
       "  0.4944749265830755,\n",
       "  0.48388129173244326,\n",
       "  0.48354603887218256],\n",
       " [0.4417261153143638,\n",
       "  0.4465423545345618,\n",
       "  0.455118772916972,\n",
       "  0.445404394438398],\n",
       " [0.415228161859009,\n",
       "  0.4278479926934982,\n",
       "  0.4215183830076695,\n",
       "  0.4109452733843547],\n",
       " [0.46213185435503495,\n",
       "  0.4596532939455766,\n",
       "  0.47050502700802926,\n",
       "  0.43630163997725563],\n",
       " [0.471759423050848,\n",
       "  0.47875091547830645,\n",
       "  0.4920073722227463,\n",
       "  0.4631084674498509],\n",
       " [0.4410319317849214,\n",
       "  0.4498589822533331,\n",
       "  0.46072027818229366,\n",
       "  0.43554546310925046]]"
      ]
     },
     "execution_count": 46,
     "metadata": {},
     "output_type": "execute_result"
    }
   ],
   "source": [
    "score_list"
   ]
  },
  {
   "cell_type": "code",
   "execution_count": 47,
   "id": "6e88d216-409c-4ad6-9130-a4486eb54b68",
   "metadata": {},
   "outputs": [
    {
     "data": {
      "text/plain": [
       "array([0.48588437, 0.44719791, 0.41888495, 0.45714795, 0.47640654,\n",
       "       0.44678916])"
      ]
     },
     "execution_count": 47,
     "metadata": {},
     "output_type": "execute_result"
    }
   ],
   "source": [
    "a = np.mean(score_list, axis=1)\n",
    "a"
   ]
  },
  {
   "cell_type": "code",
   "execution_count": null,
   "id": "ddeb811c-1cd0-4122-a7f8-e8aa7d4f3fd4",
   "metadata": {},
   "outputs": [],
   "source": [
    "array([0.48589099, 0.4464214 , 0.41856567, 0.45673136, 0.47393116,\n",
    "       0.44643672])"
   ]
  },
  {
   "cell_type": "code",
   "execution_count": null,
   "id": "5ef58aa3-a0a9-4ce9-9efb-b42dda4e114f",
   "metadata": {},
   "outputs": [],
   "source": [
    "array([0.48504205, 0.44759053, 0.41836747, 0.45859022, 0.47132155,\n",
    "       0.44778736])"
   ]
  },
  {
   "cell_type": "code",
   "execution_count": null,
   "id": "d132a8b2-61fc-4bda-a246-7a91e52e5f6d",
   "metadata": {},
   "outputs": [],
   "source": [
    "array([0.48560059, 0.44780822, 0.41822542, 0.45880633, 0.47248896,\n",
    "       0.44809342])"
   ]
  },
  {
   "cell_type": "code",
   "execution_count": 299,
   "id": "b3fe2670-39f0-41ae-aaec-69e41729706f",
   "metadata": {},
   "outputs": [
    {
     "data": {
      "text/plain": [
       "0.4547831953513021"
      ]
     },
     "execution_count": 299,
     "metadata": {},
     "output_type": "execute_result"
    }
   ],
   "source": [
    "np.mean(a)"
   ]
  },
  {
   "cell_type": "code",
   "execution_count": null,
   "id": "4a3f5b01-e563-4179-a8c0-500c6a6e4cea",
   "metadata": {},
   "outputs": [],
   "source": [
    "0.48210887, 0.44654392, 0.41677376, 0.45779343, 0.4719515 ,0.44809007\n",
    "0.4538403352286591"
   ]
  },
  {
   "cell_type": "markdown",
   "id": "17da0a44-13f1-4de4-85a1-5d28c9118526",
   "metadata": {},
   "source": [
    "## モデルの読み込み"
   ]
  },
  {
   "cell_type": "code",
   "execution_count": 8,
   "id": "bef56066-5b6c-4973-9e14-dbd8544d0b7d",
   "metadata": {},
   "outputs": [
    {
     "name": "stdout",
     "output_type": "stream",
     "text": [
      "RMSE : 0.4461\n"
     ]
    }
   ],
   "source": [
    "fold = 0\n",
    "column = 'conventions'\n",
    "\n",
    "t_list = ['target-cohesion','target-syntax','target-vocabulary','target-phraseology','target-grammar','target-conventions', 'fold']\n",
    "\n",
    "\n",
    "lgbm = pickle.load(open(save_path + f'lgbm_{column}_{fold}.pkl', 'rb'))\n",
    "\n",
    "df = pd.read_csv('/workspace/kaggle_data/features.csv',index_col=0)\n",
    "deberta_df = pd.read_csv(data_path + f'fold{fold}.csv')\n",
    "df['cohesion'] = deberta_df['cohesion']\n",
    "df['syntax'] = deberta_df['syntax']\n",
    "df['vocabulary'] = deberta_df['vocabulary']\n",
    "df['phraseology'] = deberta_df['phraseology']\n",
    "df['grammar'] = deberta_df['grammar']\n",
    "df['conventions'] = deberta_df['conventions']\n",
    "df['fold'] = deberta_df['fold']\n",
    "df = df[df.fold == fold]\n",
    "X = df.drop(t_list, axis = 1)\n",
    "y = df[f'target-{column}']\n",
    "\n",
    "\n",
    "# 予測\n",
    "preds = lgbm.predict(X)\n",
    "rmse = np.sqrt(mean_squared_error(y, preds))\n",
    "\n",
    "print('RMSE : {:.4f}'.format(rmse))"
   ]
  },
  {
   "cell_type": "markdown",
   "id": "b374cec8-7e2c-47d4-8f0f-07a4f0f7e26d",
   "metadata": {},
   "source": [
    "## 特徴量重要度の可視化"
   ]
  },
  {
   "cell_type": "code",
   "execution_count": 95,
   "id": "30307177-0128-4291-9408-a11e0b202e93",
   "metadata": {},
   "outputs": [
    {
     "data": {
      "text/plain": [
       "<AxesSubplot:title={'center':'Feature importance'}, xlabel='Feature importance', ylabel='Features'>"
      ]
     },
     "execution_count": 95,
     "metadata": {},
     "output_type": "execute_result"
    },
    {
     "data": {
      "image/png": "[encoded data removed]",
      "text/plain": [
       "<Figure size 1000x500 with 1 Axes>"
      ]
     },
     "metadata": {},
     "output_type": "display_data"
    }
   ],
   "source": [
    "lgbm.plot_importance(models, height = 0.8 ,figsize = (10,5),importance_type='split',)"
   ]
  },
  {
   "cell_type": "code",
   "execution_count": 96,
   "id": "251d4772-1fef-4078-8e68-f3c405ebb552",
   "metadata": {},
   "outputs": [
    {
     "data": {
      "text/plain": [
       "<AxesSubplot:title={'center':'Feature importance'}, xlabel='Feature importance', ylabel='Features'>"
      ]
     },
     "execution_count": 96,
     "metadata": {},
     "output_type": "execute_result"
    },
    {
     "data": {
      "image/png": "[encoded data removed]",
      "text/plain": [
       "<Figure size 1000x500 with 1 Axes>"
      ]
     },
     "metadata": {},
     "output_type": "display_data"
    }
   ],
   "source": [
    "lgbm.plot_importance(models, height = 0.8 ,figsize = (10,5),importance_type='gain',)"
   ]
  },
  {
   "cell_type": "code",
   "execution_count": 63,
   "id": "8c2dc079-7749-4654-b451-8a325239259a",
   "metadata": {},
   "outputs": [
    {
     "data": {
      "text/plain": [
       "0.46006674999999997"
      ]
     },
     "execution_count": 63,
     "metadata": {},
     "output_type": "execute_result"
    }
   ],
   "source": [
    "(0.488253 + 0.443372 + 0.452601 + 0.456041)/4"
   ]
  },
  {
   "cell_type": "code",
   "execution_count": 42,
   "id": "7778e1d4-5458-430d-a713-d496f3af4bcf",
   "metadata": {},
   "outputs": [
    {
     "data": {
      "text/plain": [
       "0.413216"
      ]
     },
     "execution_count": 42,
     "metadata": {},
     "output_type": "execute_result"
    }
   ],
   "source": [
    "0.44905\n",
    "0.42415\n",
    "0.430138\n",
    "0.413216"
   ]
  },
  {
   "cell_type": "code",
   "execution_count": null,
   "id": "230240b7-8ed8-473d-8038-9752ae72c4f5",
   "metadata": {},
   "outputs": [],
   "source": [
    "0.447626\n",
    "0.423544\n",
    "0.430148\n",
    "0.415338"
   ]
  },
  {
   "cell_type": "code",
   "execution_count": 53,
   "id": "47e7782c-f049-45d3-95db-4563964e8e75",
   "metadata": {},
   "outputs": [
    {
     "data": {
      "text/plain": [
       "0.42438175"
      ]
     },
     "execution_count": 53,
     "metadata": {},
     "output_type": "execute_result"
    }
   ],
   "source": [
    "(0.444326 + 0.419902 + 0.424559 + 0.40874)/4"
   ]
  },
  {
   "cell_type": "code",
   "execution_count": null,
   "id": "4e9ac4a9-5fcf-466d-9aab-4f74d3d09673",
   "metadata": {},
   "outputs": [],
   "source": []
  }
 ],
 "metadata": {
  "kernelspec": {
   "display_name": "Python 3 (ipykernel)",
   "language": "python",
   "name": "python3"
  },
  "language_info": {
   "codemirror_mode": {
    "name": "ipython",
    "version": 3
   },
   "file_extension": ".py",
   "mimetype": "text/x-python",
   "name": "python",
   "nbconvert_exporter": "python",
   "pygments_lexer": "ipython3",
   "version": "3.9.7"
  }
 },
 "nbformat": 4,
 "nbformat_minor": 5
}
