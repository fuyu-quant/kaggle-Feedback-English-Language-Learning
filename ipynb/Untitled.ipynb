{
 "cells": [
  {
   "cell_type": "code",
   "execution_count": null,
   "id": "ccda7d3b-acd8-4add-9f09-0a4eec18f2b7",
   "metadata": {},
   "outputs": [],
   "source": [
    "fold = 0\n",
    "column = 'conventions'\n",
    "\n",
    "t_list = ['target-cohesion','target-syntax','target-vocabulary','target-phraseology','target-grammar','target-conventions', 'fold']\n",
    "\n",
    "\n",
    "lgbm = pickle.load(open(save_path + f'lgbm_{column}_{fold}.pkl', 'rb'))\n",
    "\n",
    "df = pd.read_csv('/workspace/kaggle_data/features.csv',index_col=0)\n",
    "deberta_df = pd.read_csv(data_path + f'fold{fold}.csv')\n",
    "df['cohesion'] = deberta_df['cohesion']\n",
    "df['syntax'] = deberta_df['syntax']\n",
    "df['vocabulary'] = deberta_df['vocabulary']\n",
    "df['phraseology'] = deberta_df['phraseology']\n",
    "df['grammar'] = deberta_df['grammar']\n",
    "df['conventions'] = deberta_df['conventions']\n",
    "df['fold'] = deberta_df['fold']\n",
    "df = df[df.fold == fold]\n",
    "X = df.drop(t_list, axis = 1)\n",
    "y = df[f'target-{column}']\n",
    "\n",
    "\n",
    "# 予測\n",
    "preds = lgbm.predict(X)\n",
    "rmse = np.sqrt(mean_squared_error(y, preds))\n",
    "\n",
    "print('RMSE : {:.4f}'.format(rmse))"
   ]
  }
 ],
 "metadata": {
  "kernelspec": {
   "display_name": "Python 3 (ipykernel)",
   "language": "python",
   "name": "python3"
  },
  "language_info": {
   "codemirror_mode": {
    "name": "ipython",
    "version": 3
   },
   "file_extension": ".py",
   "mimetype": "text/x-python",
   "name": "python",
   "nbconvert_exporter": "python",
   "pygments_lexer": "ipython3",
   "version": "3.9.7"
  }
 },
 "nbformat": 4,
 "nbformat_minor": 5
}
