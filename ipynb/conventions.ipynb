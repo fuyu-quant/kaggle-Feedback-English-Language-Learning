{
 "cells": [
  {
   "cell_type": "markdown",
   "id": "e49191c7-5b9c-4b55-92c9-6832e5b26713",
   "metadata": {},
   "source": [
    "## Conventions\n",
    "* スペルミス\n",
    "* 文頭は大文字(コロン，疑問符)\n",
    "* 文字数も関係してる気がする(スペルミスなどが多いのに点数が高かったり，少ないのに点数が低かったりするため)\n",
    "* 引用の後は大文字になっているか\n",
    "* 曜日，月，祝日は大文字\n",
    "* 小文字，句読点の間違い\n",
    "* 固有表現抽出(https://qiita.com/m__k/items/ffd3b7774f2fde1083fa#%E5%9B%BA%E6%9C%89%E8%A1%A8%E7%8F%BE%E6%8A%BD%E5%87%BAnamed-entities)"
   ]
  },
  {
   "cell_type": "code",
   "execution_count": null,
   "id": "ff460a65-8b89-41b4-86ab-ce677d490af4",
   "metadata": {},
   "outputs": [],
   "source": [
    "!pip3 install wordninja"
   ]
  },
  {
   "cell_type": "code",
   "execution_count": 1,
   "id": "aa9cf3b8-7760-465e-8142-9f2e421aaa03",
   "metadata": {},
   "outputs": [],
   "source": [
    "import pandas as pd\n",
    "import numpy as np\n",
    "import matplotlib.pyplot as plt\n",
    "import seaborn as sns\n",
    "import re\n",
    "import random"
   ]
  },
  {
   "cell_type": "markdown",
   "id": "6d66f34d-de8d-4a39-bf19-e713456c6b49",
   "metadata": {},
   "source": [
    "## スペルミス\n",
    "* https://qiita.com/seigot/items/3b29b4d03297c4275bb1"
   ]
  },
  {
   "cell_type": "markdown",
   "id": "bcec558e-abca-40e9-ad87-ca505b815d16",
   "metadata": {
    "tags": []
   },
   "source": [
    "### pyspellchecker\n",
    "* 句読点を全て削除してからが良さそう"
   ]
  },
  {
   "cell_type": "code",
   "execution_count": 4,
   "id": "071f584f-dc06-40a7-8883-eee53e2fb3f4",
   "metadata": {},
   "outputs": [
    {
     "name": "stdout",
     "output_type": "stream",
     "text": [
      "Collecting pyspellchecker\n",
      "  Downloading pyspellchecker-0.7.0-py3-none-any.whl (2.5 MB)\n",
      "\u001b[2K     \u001b[90m━━━━━━━━━━━━━━━━━━━━━━━━━━━━━━━━━━━━━━━━\u001b[0m \u001b[32m2.5/2.5 MB\u001b[0m \u001b[31m50.0 MB/s\u001b[0m eta \u001b[36m0:00:00\u001b[0ma \u001b[36m0:00:01\u001b[0m\n",
      "\u001b[?25hInstalling collected packages: pyspellchecker\n",
      "Successfully installed pyspellchecker-0.7.0\n",
      "\u001b[33mWARNING: Running pip as the 'root' user can result in broken permissions and conflicting behaviour with the system package manager. It is recommended to use a virtual environment instead: https://pip.pypa.io/warnings/venv\u001b[0m\u001b[33m\n",
      "\u001b[0m"
     ]
    }
   ],
   "source": [
    "%%capture\n",
    "!pip install pyspellchecker"
   ]
  },
  {
   "cell_type": "code",
   "execution_count": 2,
   "id": "c99c8a3a-5111-4570-b2fb-f1dcd1062ea3",
   "metadata": {},
   "outputs": [],
   "source": [
    "from spellchecker import SpellChecker\n",
    "\n",
    "spell = SpellChecker()"
   ]
  },
  {
   "cell_type": "code",
   "execution_count": 3,
   "id": "65f278c6-51dd-481b-8b50-89db2981255d",
   "metadata": {},
   "outputs": [
    {
     "name": "stdout",
     "output_type": "stream",
     "text": [
      "happening\n",
      "{'penning', 'henning', 'happening'}\n"
     ]
    }
   ],
   "source": [
    "misspelled = spell.unknown(['something', 'is', 'hapenning', 'here'])\n",
    "\n",
    "for word in misspelled:\n",
    "    # Get the one `most likely` answer\n",
    "    print(spell.correction(word))\n",
    "\n",
    "    # Get a list of `likely` options\n",
    "    print(spell.candidates(word))"
   ]
  },
  {
   "cell_type": "code",
   "execution_count": 4,
   "id": "9b9227f9-5aed-4abc-93fc-b30e8368aa1e",
   "metadata": {},
   "outputs": [],
   "source": [
    "df = pd.read_csv('/workspace/kaggle_data/train.csv')\n",
    "text = df['full_text']"
   ]
  },
  {
   "cell_type": "code",
   "execution_count": 9,
   "id": "4157059b-7802-442b-9f32-5f79b280fe35",
   "metadata": {},
   "outputs": [],
   "source": [
    "# 正しいのにカウントされているもの\n",
    "# you're\n",
    "# tv\n",
    "# 'がついているもの\n",
    "# `がついている\n",
    "# 1文字のもの\n",
    "# シングルクオートがついている省略表現を列挙"
   ]
  },
  {
   "cell_type": "markdown",
   "id": "6377862f-19de-4a17-a8f7-1ed947214cb0",
   "metadata": {},
   "source": [
    "#### ミススペルをカウントする関数"
   ]
  },
  {
   "cell_type": "code",
   "execution_count": 11,
   "id": "b77a12a8-a667-452b-88ee-33a3b5eb8f2c",
   "metadata": {},
   "outputs": [],
   "source": [
    "def misspell_count(text):\n",
    "    # 改行の削除\n",
    "    text = text.replace('\\n', '')\n",
    "    text = text.replace('\\r', '')\n",
    "    # 句読点を抜く\n",
    "    text = text.replace('.', ' ')\n",
    "    text = text.replace(',', ' ')\n",
    "    text = text.replace('!', ' ')\n",
    "    text = text.replace('?', ' ')\n",
    "    # ダブルクォーテーションで囲まれているものの中身だけ取り出す\n",
    "    #text = text.strip('\"')\n",
    "    text = text.replace('\"', ' ')\n",
    "    # シングルクオートをそのまま削除するのは上手くいかない\n",
    "    #text = text.replace(\"''\", ' ')   \n",
    "    text = text.replace(':', ' ')\n",
    "    text = text.replace(';', ' ')\n",
    "    text = text.replace('/', ' ')\n",
    "    text = text.replace('-', ' ')\n",
    "    text = text.replace('(', ' ')\n",
    "    text = text.replace(')', ' ')\n",
    "    text = text.replace('_', ' ')\n",
    "    #text = text.replace('\\', ' ')\n",
    "    \n",
    "    # 固有名詞も除きたいかも\n",
    "    \n",
    "    text_words = text.split()\n",
    "    misspelled = spell.unknown(text_words)\n",
    "    count = 0\n",
    "    for word in misspelled:\n",
    "        # 一文字をミススペルに入れた方が相関係数が高い\n",
    "        #if len(word) == 1:\n",
    "         #   count = count\n",
    "        # 数字が含まれる時はカウントしない\n",
    "        # 数字が含まれているものも未知語としてカウントされるため\n",
    "        if any(chr.isdigit() for chr in word):\n",
    "            count = count\n",
    "        else:\n",
    "            count += 1\n",
    "            # スペルミス\n",
    "            #print(word)\n",
    "        # 最も可能性の高い単語\n",
    "        #print(spell.correction(word))\n",
    "    #print(count)\n",
    "    return count "
   ]
  },
  {
   "cell_type": "code",
   "execution_count": 12,
   "id": "54e5a654-f537-4fea-b96f-75bd3279d8be",
   "metadata": {},
   "outputs": [],
   "source": [
    "# ミススペルのカウント\n",
    "miss_count = []\n",
    "\n",
    "for i in range(3911):\n",
    "    check_text = text[i]\n",
    "    m_count = misspell_count(check_text)\n",
    "    miss_count.append(m_count)"
   ]
  },
  {
   "cell_type": "code",
   "execution_count": null,
   "id": "a9ab076d-9918-401e-8102-4e77c22c1bc6",
   "metadata": {},
   "outputs": [
    {
     "name": "stdout",
     "output_type": "stream",
     "text": [
      "Get:1 http://deb.debian.org/debian buster InRelease [122 kB]\n",
      "Get:2 http://security.debian.org/debian-security buster/updates InRelease [34.8 kB]\n",
      "Get:3 http://deb.debian.org/debian buster-updates InRelease [56.6 kB]m\u001b[33m\n",
      "Get:4 http://security.debian.org/debian-security buster/updates/main arm64 Packages [383 kB]\n",
      "Get:5 http://deb.debian.org/debian buster/main arm64 Packages [7737 kB]\n",
      "Get:6 http://deb.debian.org/debian buster-updates/main arm64 Packages [8780 B]\n",
      "Fetched 8343 kB in 1s (7298 kB/s)3m\u001b[33m\u001b[33m\n",
      "Reading package lists... Done\n",
      "Building dependency tree       \n",
      "Reading state information... Done\n",
      "115 packages can be upgraded. Run 'apt list --upgradable' to see them.\n",
      "Reading package lists... Done\n",
      "Building dependency tree       \n",
      "Reading state information... Done\n",
      "The following additional packages will be installed:\n",
      "  aspell aspell-en dictionaries-common emacsen-common hunspell-en-us\n",
      "  libaspell15 libenchant1c2a libhunspell-1.7-0 libtext-iconv-perl\n",
      "Suggested packages:\n",
      "  aspell-doc spellutils wordlist hunspell openoffice.org-hunspell\n",
      "  | openoffice.org-core libenchant-voikko\n",
      "The following NEW packages will be installed:\n",
      "  aspell aspell-en dictionaries-common emacsen-common enchant hunspell-en-us\n",
      "  libaspell15 libenchant1c2a libhunspell-1.7-0 libtext-iconv-perl\n",
      "0 upgraded, 10 newly installed, 0 to remove and 115 not upgraded.\n",
      "Need to get 1527 kB of archives.\n",
      "After this operation, 5925 kB of additional disk space will be used.\n",
      "Do you want to continue? [Y/n] ^C\n",
      "The following additional packages will be installed:\n",
      "  aspell aspell-en dictionaries-common emacsen-common hunspell-en-us\n",
      "  libaspell15 libenchant1c2a libhunspell-1.7-0 libtext-iconv-perl\n",
      "Suggested packages:\n",
      "  aspell-doc spellutils wordlist hunspell openoffice.org-hunspell\n",
      "  | openoffice.org-core libenchant-voikko\n",
      "The following NEW packages will be installed:\n",
      "  aspell aspell-en dictionaries-common emacsen-common enchant hunspell-en-us\n",
      "  libaspell15 libenchant1c2a libhunspell-1.7-0 libtext-iconv-perl\n",
      "0 upgraded, 10 newly installed, 0 to remove and 115 not upgraded.\n",
      "Need to get 1527 kB of archives.\n",
      "After this operation, 5925 kB of additional disk space will be used.\n",
      "Do you want to continue? [Y/n] "
     ]
    }
   ],
   "source": [
    "!apt update\n",
    "!apt install enchant --fix-missing\n",
    "!apt install -qq enchant\n",
    "!pip install pyenchant"
   ]
  },
  {
   "cell_type": "code",
   "execution_count": null,
   "id": "cd7272f8-642f-4ead-b226-39e1b821d74a",
   "metadata": {},
   "outputs": [],
   "source": [
    "#%%capture\n",
    "!pip install pyenchant"
   ]
  },
  {
   "cell_type": "code",
   "execution_count": null,
   "id": "65b3d332-7383-47da-967b-476a3390620a",
   "metadata": {},
   "outputs": [],
   "source": [
    "import enchant\n",
    "d = enchant.Dict(\"en_US\")\n",
    "d.check(\"Hello\")"
   ]
  },
  {
   "cell_type": "code",
   "execution_count": null,
   "id": "6554a503-ecac-4e63-be2f-9db65f632120",
   "metadata": {},
   "outputs": [],
   "source": [
    "d.check(\"Helo\")"
   ]
  },
  {
   "cell_type": "markdown",
   "id": "e1276397-a5ef-4538-be51-032437c063fa",
   "metadata": {},
   "source": [
    "## 文頭の大文字"
   ]
  },
  {
   "cell_type": "code",
   "execution_count": 23,
   "id": "6ffdd59c-031f-4896-8f10-0409d84e212a",
   "metadata": {},
   "outputs": [],
   "source": [
    "df = pd.read_csv('/workspace/kaggle_data/train.csv')\n",
    "text = df['full_text']"
   ]
  },
  {
   "cell_type": "code",
   "execution_count": 25,
   "id": "2497a074-2625-4fa4-bd57-b7f766974d48",
   "metadata": {},
   "outputs": [],
   "source": [
    "def BOS_check(text):\n",
    "    count = 0\n",
    "    # 改行を無くす\n",
    "    full_text = text.replace('\\n', '')\n",
    "    full_text = full_text.replace('\\r', '')\n",
    "    # コロン，?,!で区切る\n",
    "    texts = re.split('[.?!]', full_text)\n",
    "    for i in range(len(texts)):\n",
    "        # 文を単語ごとに分割\n",
    "        text = texts[i].split()\n",
    "        # 文が空じゃないなら\n",
    "        if text != []:\n",
    "            # 一単語目の一文字目が大文字ならTrue(一文字目の前に空白があっても良い)\n",
    "            if text[0].istitle():\n",
    "                count = count\n",
    "            else:\n",
    "                count += 1\n",
    "    return count"
   ]
  },
  {
   "cell_type": "code",
   "execution_count": 26,
   "id": "06758e5e-5480-4d22-9002-d9b51beb375d",
   "metadata": {},
   "outputs": [],
   "source": [
    "# 大文字から始まらない文章をカウントする\n",
    "bos_count = []\n",
    "\n",
    "for i in range(3911):\n",
    "    check_text = text[i]\n",
    "    bos = BOS_check(check_text)\n",
    "    bos_count.append(bos)"
   ]
  },
  {
   "cell_type": "markdown",
   "id": "0d7b7f8c-bf9f-4417-957f-641defaa0317",
   "metadata": {},
   "source": [
    "## 文字数，単語数のカウント"
   ]
  },
  {
   "cell_type": "code",
   "execution_count": 35,
   "id": "4d59475f-9c33-4c71-af6a-56d2127151fb",
   "metadata": {},
   "outputs": [],
   "source": [
    "df = pd.read_csv('/workspace/kaggle_data/train.csv')\n",
    "text = df['full_text']"
   ]
  },
  {
   "cell_type": "code",
   "execution_count": 36,
   "id": "9e7bdeeb-7556-4a60-b9d8-b8b4189f376d",
   "metadata": {},
   "outputs": [
    {
     "data": {
      "text/plain": [
       "399"
      ]
     },
     "execution_count": 36,
     "metadata": {},
     "output_type": "execute_result"
    }
   ],
   "source": [
    "a = text[16].replace('\\n', ' ')\n",
    "a = a.replace('\\r', ' ')\n",
    "words_count = len(a.split())\n",
    "words_count"
   ]
  },
  {
   "cell_type": "code",
   "execution_count": 37,
   "id": "2f9ad448-2fcf-42bf-a108-24683e834e4b",
   "metadata": {},
   "outputs": [],
   "source": [
    "def word_count(text):\n",
    "    text = text.replace('\\n', ' ')\n",
    "    text = text.replace('\\r', ' ')\n",
    "    text = text.replace('.', ' ')\n",
    "    text = text.replace(',', ' ')\n",
    "    text = text.replace('!', ' ')\n",
    "    text = text.replace('?', ' ')\n",
    "    # ダブルクォーテーションで囲まれているものの中身だけ取り出す\n",
    "    #text = text.strip('\"')\n",
    "    text = text.replace('\"', ' ')\n",
    "    # シングルクオートをそのまま削除するのは上手くいかない\n",
    "    #text = text.replace(\"''\", ' ')   \n",
    "    text = text.replace(':', ' ')\n",
    "    text = text.replace(';', ' ')\n",
    "    text = text.replace('/', ' ')\n",
    "    text = text.replace('-', ' ')\n",
    "    text = text.replace('(', ' ')\n",
    "    text = text.replace(')', ' ')\n",
    "    text = text.replace('_', ' ')\n",
    "    num_word = len(text.split())\n",
    "    return num_word"
   ]
  },
  {
   "cell_type": "code",
   "execution_count": 38,
   "id": "fb7df247-8f13-41ab-9928-d7c9935421c0",
   "metadata": {},
   "outputs": [],
   "source": [
    "# 単語数のカウント\n",
    "num_words = []\n",
    "\n",
    "for i in range(3911):\n",
    "    check_text = text[i]\n",
    "    count = word_count(check_text)\n",
    "    num_words.append(count)"
   ]
  },
  {
   "cell_type": "markdown",
   "id": "e83e16e3-acc7-4d6e-bb15-2de14be4948d",
   "metadata": {},
   "source": [
    "## 曜日，月が大文字になっているのかの確認"
   ]
  },
  {
   "cell_type": "code",
   "execution_count": 75,
   "id": "d476ee05-595b-49d5-81d0-53dc100d74ba",
   "metadata": {},
   "outputs": [],
   "source": [
    "df = pd.read_csv('/workspace/kaggle_data/train.csv')\n",
    "text = df['full_text']"
   ]
  },
  {
   "cell_type": "code",
   "execution_count": 137,
   "id": "047c7003-5e75-41df-ae4c-ed2aa2c3617a",
   "metadata": {},
   "outputs": [],
   "source": [
    "week_list = ['monday', 'tuesday', 'wednesday', 'thursday', 'friday', 'saturday', 'sunday']\n",
    "# Mayは判定できないので除外\n",
    "months_list = ['january', 'february', 'march', 'april', 'june', 'july', 'august', 'september', 'october', 'november', 'december']\n",
    "\n",
    "week_months_counts = []\n",
    "\n",
    "a = len(text)\n",
    "for i in range(a):\n",
    "    count = 0\n",
    "    for j in week_list:\n",
    "        # jには曜日が入る\n",
    "        week_count = text[i].count(j)\n",
    "        count = count + week_count\n",
    "    for k in months_list:\n",
    "        # kには月が入る\n",
    "        months_count = text[i].count(k)\n",
    "        count = count + months_count\n",
    "    #if count != 0:\n",
    "    #    print(i)\n",
    "    #    print(count)\n",
    "    week_months_counts.append(count)"
   ]
  },
  {
   "cell_type": "code",
   "execution_count": 134,
   "id": "20e1284d-93c4-4eb2-9fb7-fdc1d1d84781",
   "metadata": {},
   "outputs": [
    {
     "data": {
      "text/plain": [
       "3911"
      ]
     },
     "execution_count": 134,
     "metadata": {},
     "output_type": "execute_result"
    }
   ],
   "source": [
    "len(week_months_counts)"
   ]
  },
  {
   "cell_type": "markdown",
   "id": "3d7473e4-14fb-4d46-9549-bd2dbfb2c2b2",
   "metadata": {},
   "source": [
    "## 固有名詞抽出"
   ]
  },
  {
   "cell_type": "code",
   "execution_count": 167,
   "id": "c8513f61-f2b1-4d1a-9470-46e03cb7e16a",
   "metadata": {},
   "outputs": [
    {
     "name": "stdout",
     "output_type": "stream",
     "text": [
      "Requirement already satisfied: nltk in /usr/local/lib/python3.9/site-packages (3.7)\n",
      "Requirement already satisfied: joblib in /usr/local/lib/python3.9/site-packages (from nltk) (1.2.0)\n",
      "Requirement already satisfied: tqdm in /usr/local/lib/python3.9/site-packages (from nltk) (4.64.1)\n",
      "Requirement already satisfied: regex>=2021.8.3 in /usr/local/lib/python3.9/site-packages (from nltk) (2022.10.31)\n",
      "Requirement already satisfied: click in /usr/local/lib/python3.9/site-packages (from nltk) (8.1.3)\n",
      "\u001b[33mWARNING: Running pip as the 'root' user can result in broken permissions and conflicting behaviour with the system package manager. It is recommended to use a virtual environment instead: https://pip.pypa.io/warnings/venv\u001b[0m\u001b[33m\n",
      "\u001b[0m"
     ]
    }
   ],
   "source": [
    "!pip install nltk"
   ]
  },
  {
   "cell_type": "code",
   "execution_count": null,
   "id": "d55abb51-2801-445e-9b6f-c6bcb60e5740",
   "metadata": {},
   "outputs": [],
   "source": [
    "import nltk\n",
    "nltk.download('all')"
   ]
  },
  {
   "cell_type": "code",
   "execution_count": 168,
   "id": "cdc39631-698f-4749-a17a-317094338b20",
   "metadata": {},
   "outputs": [],
   "source": [
    "df = pd.read_csv('/workspace/kaggle_data/train.csv')\n",
    "text = df['full_text']"
   ]
  },
  {
   "cell_type": "code",
   "execution_count": 183,
   "id": "c9fd808c-e8db-44d3-8887-6519312e9a47",
   "metadata": {},
   "outputs": [
    {
     "name": "stdout",
     "output_type": "stream",
     "text": [
      "[('Do', 'VBP'), ('you', 'PRP'), ('think', 'VB'), ('its', 'PRP$'), ('a', 'DT'), ('good', 'JJ'), ('idea', 'NN'), ('for', 'IN'), ('students', 'NNS'), ('to', 'TO'), ('commit', 'VB'), ('to', 'TO'), ('a', 'DT'), ('career', 'NN'), ('at', 'IN'), ('a', 'DT'), ('young', 'JJ'), ('age', 'NN'), ('?', '.'), ('In', 'IN'), ('some', 'DT'), ('societies', 'NNS'), (',', ','), ('students', 'NNS'), ('are', 'VBP'), ('expected', 'VBN'), ('to', 'TO'), ('identity', 'VB'), ('a', 'DT'), ('career', 'NN'), ('by', 'IN'), ('the', 'DT'), ('time', 'NN'), ('they', 'PRP'), ('enter', 'VBP'), ('high', 'JJ'), ('school', 'NN'), ('.', '.'), ('Yes', 'VB'), ('it', 'PRP'), ('is', 'VBZ'), ('a', 'DT'), ('good', 'JJ'), ('idea', 'NN'), ('to', 'TO'), ('start', 'VB'), ('young', 'JJ'), ('because', 'IN'), ('your', 'PRP$'), ('already', 'RB'), ('step', 'NN'), ('ahead', 'RB'), (',', ','), ('you', 'PRP'), ('will', 'MD'), ('have', 'VB'), ('background', 'VBN'), ('knowledge', 'NN'), ('about', 'IN'), ('the', 'DT'), ('career', 'NN'), ('classes', 'VBZ'), ('you', 'PRP'), ('choose', 'VBP'), ('and', 'CC'), ('once', 'RB'), ('you', 'PRP'), ('get', 'VBP'), ('older', 'JJR'), ('you', 'PRP'), ('wo', 'MD'), (\"n't\", 'RB'), ('have', 'VB'), ('time', 'NN'), ('to', 'TO'), ('choose', 'VB'), ('an', 'DT'), ('career', 'NN'), ('.', '.'), ('Also', 'RB'), ('taking', 'VBG'), ('courses', 'NNS'), ('in', 'IN'), ('high', 'JJ'), ('school', 'NN'), ('will', 'MD'), ('help', 'VB'), ('you', 'PRP'), ('choose', 'VB'), ('your', 'PRP$'), ('career', 'NN'), ('like', 'IN'), ('for', 'IN'), ('an', 'DT'), ('example', 'NN'), ('academy', 'NN'), ('classes', 'NNS'), ('.', '.'), ('As', 'IN'), ('a', 'DT'), ('students', 'NNS'), ('taking', 'VBG'), ('a', 'DT'), ('career', 'NN'), ('course', 'NN'), (',', ','), ('will', 'MD'), ('help', 'VB'), ('them', 'PRP'), ('learn', 'VB'), ('more', 'JJR'), ('about', 'IN'), ('that', 'DT'), ('career', 'NN'), ('and', 'CC'), ('you', 'PRP'), ('will', 'MD'), ('have', 'VB'), ('background', 'VBN'), ('knowledge', 'NN'), ('about', 'IN'), ('that', 'DT'), ('career', 'NN'), ('.', '.'), ('for', 'IN'), ('an', 'DT'), ('example', 'NN'), ('I', 'PRP'), (\"'m\", 'VBP'), ('taking', 'VBG'), ('auto', 'NN'), ('technology', 'NN'), ('in', 'IN'), ('highschol', 'NN'), ('becuase', 'NN'), ('I', 'PRP'), ('want', 'VBP'), ('to', 'TO'), ('learn', 'VB'), ('more', 'JJR'), ('about', 'IN'), ('cars', 'NNS'), ('and', 'CC'), ('how', 'WRB'), ('to', 'TO'), ('fix', 'VB'), ('them', 'PRP'), ('.', '.'), ('after', 'IN'), ('high', 'JJ'), ('school', 'NN'), ('I', 'PRP'), ('will', 'MD'), ('be', 'VB'), ('going', 'VBG'), ('to', 'TO'), ('a', 'DT'), ('community', 'NN'), ('college', 'NN'), ('so', 'IN'), ('I', 'PRP'), ('can', 'MD'), ('learn', 'VB'), ('an', 'DT'), ('advance', 'JJ'), ('auto', 'NN'), ('technology', 'NN'), ('class', 'NN'), ('and', 'CC'), ('move', 'VB'), ('on', 'IN'), ('and', 'CC'), ('thats', 'NNS'), ('I', 'PRP'), (\"'m\", 'VBP'), ('going', 'VBG'), ('to', 'TO'), ('succeed', 'VB'), ('in', 'IN'), ('life', 'NN'), ('.', '.'), ('Another', 'DT'), ('reason', 'NN'), ('why', 'WRB'), ('its', 'PRP$'), ('a', 'DT'), ('good', 'JJ'), ('idea', 'NN'), ('for', 'IN'), ('students', 'NNS'), ('to', 'TO'), ('commit', 'VB'), ('to', 'TO'), ('a', 'DT'), ('career', 'NN'), ('at', 'IN'), ('young', 'JJ'), ('age', 'NN'), ('is', 'VBZ'), ('becuase', 'VBN'), ('it', 'PRP'), ('will', 'MD'), ('help', 'VB'), ('students', 'NNS'), ('choose', 'VB'), ('a', 'DT'), ('good', 'JJ'), ('career', 'NN'), ('that', 'WDT'), ('pays', 'VBZ'), ('good', 'JJ'), ('money', 'NN'), ('and', 'CC'), ('the', 'DT'), ('students', 'NNS'), ('will', 'MD'), ('be', 'VB'), ('a', 'DT'), ('one', 'CD'), ('step', 'NN'), ('ahead', 'RB'), ('.', '.'), ('by', 'IN'), ('doing', 'VBG'), ('this', 'DT'), ('they', 'PRP'), ('will', 'MD'), ('accomplish', 'VB'), ('their', 'PRP$'), ('goals', 'NNS'), ('.', '.'), ('others', 'NNS'), ('may', 'MD'), ('say', 'VB'), ('that', 'IN'), ('its', 'PRP$'), ('not', 'RB'), ('a', 'DT'), ('good', 'JJ'), ('idea', 'NN'), ('for', 'IN'), ('students', 'NNS'), ('to', 'TO'), ('commit', 'VB'), ('a', 'DT'), ('career', 'NN'), ('at', 'IN'), ('a', 'DT'), ('young', 'JJ'), ('age', 'NN'), ('becuase', 'NN'), ('they', 'PRP'), ('think', 'VBP'), ('its', 'PRP$'), ('waste', 'NN'), ('of', 'IN'), ('time', 'NN'), ('however', 'RB'), (',', ','), ('its', 'PRP$'), ('not', 'RB'), ('waste', 'NN'), ('of', 'IN'), ('their', 'PRP$'), ('time', 'NN'), (',', ','), ('becuase', 'NN'), ('once', 'RB'), ('your', 'PRP$'), ('getting', 'VBG'), ('older', 'JJR'), ('you', 'PRP'), ('wont', 'VBP'), ('have', 'VBP'), ('time', 'NN'), ('to', 'TO'), ('choose', 'VB'), ('an', 'DT'), ('career', 'NN'), ('that', 'WDT'), ('will', 'MD'), ('last', 'JJ'), ('.', '.'), ('In', 'IN'), ('conclusion', 'NN'), (',', ','), ('I', 'PRP'), ('think', 'VBP'), ('its', 'PRP$'), ('a', 'DT'), ('good', 'JJ'), ('a', 'DT'), ('idea', 'NN'), ('for', 'IN'), ('students', 'NNS'), ('to', 'TO'), ('commit', 'VB'), ('to', 'TO'), ('a', 'DT'), ('career', 'NN'), ('at', 'IN'), ('a', 'DT'), ('young', 'JJ'), ('age', 'NN'), ('becuase', 'NN'), ('you', 'PRP'), ('will', 'MD'), ('have', 'VB'), ('some', 'DT'), ('background', 'NN'), ('knowledge', 'NN'), ('to', 'TO'), ('that', 'DT'), ('specific', 'JJ'), ('career', 'NN'), (',', ','), ('you', 'PRP'), ('will', 'MD'), ('be', 'VB'), ('one', 'CD'), ('step', 'NN'), ('ahead', 'RB'), (',', ','), ('and', 'CC'), ('once', 'RB'), ('you', 'PRP'), ('get', 'VBP'), ('older', 'JJR'), ('you', 'PRP'), ('wo', 'MD'), (\"n't\", 'RB'), ('have', 'VB'), ('time', 'NN'), ('to', 'TO'), ('choose', 'VB'), ('a', 'DT'), ('career', 'NN'), ('.', '.')]\n"
     ]
    }
   ],
   "source": [
    "s = text[10]\n",
    "morph = nltk.word_tokenize(s)\n",
    "pos = nltk.pos_tag(morph)\n",
    "# chunk.ne_chunkに品詞情報を渡す\n",
    "#entities = nltk.chunk.ne_chunk(pos)\n",
    "print(pos)"
   ]
  },
  {
   "cell_type": "code",
   "execution_count": 186,
   "id": "9ea22755-dc3f-4c12-b541-17b03641c514",
   "metadata": {},
   "outputs": [
    {
     "data": {
      "text/plain": [
       "11"
      ]
     },
     "execution_count": 186,
     "metadata": {},
     "output_type": "execute_result"
    }
   ],
   "source": [
    "s = \"Hi, I'm Taro Yamada I woke up at 8am\"\n",
    "morph = nltk.word_tokenize(s)\n",
    "pos = nltk.pos_tag(morph)\n",
    "len(pos)"
   ]
  },
  {
   "cell_type": "code",
   "execution_count": 184,
   "id": "32f14360-2644-48ac-955b-b9ca93052e2d",
   "metadata": {},
   "outputs": [
    {
     "data": {
      "text/plain": [
       "338"
      ]
     },
     "execution_count": 184,
     "metadata": {},
     "output_type": "execute_result"
    }
   ],
   "source": [
    "len(pos)"
   ]
  },
  {
   "cell_type": "code",
   "execution_count": null,
   "id": "8e1986cb-1c1d-47c8-927a-d351f223e711",
   "metadata": {},
   "outputs": [],
   "source": [
    "\n",
    "for i in range(len(text)):\n",
    "    morph = nltk.word_tokenize(text[i])\n",
    "    pos = nltk.pos_tag(morph)\n",
    "    for j in range(len(pos)):\n",
    "        if pos[j][1] == 'NNP':\n",
    "            print(pos[j][0])\n",
    "#nnp = 'NNP'\n",
    "\n",
    "#for i in range(a):\n",
    "#    count = 0\n",
    "#    for j in week_list:"
   ]
  },
  {
   "cell_type": "markdown",
   "id": "b504469a-fdca-4d5e-b3c1-75ef9a181daa",
   "metadata": {},
   "source": [
    "## まとめ"
   ]
  },
  {
   "cell_type": "code",
   "execution_count": 192,
   "id": "d9f0a081-048d-4fdc-9845-1778e6d2e1d8",
   "metadata": {},
   "outputs": [
    {
     "data": {
      "text/html": [
       "<div>\n",
       "<style scoped>\n",
       "    .dataframe tbody tr th:only-of-type {\n",
       "        vertical-align: middle;\n",
       "    }\n",
       "\n",
       "    .dataframe tbody tr th {\n",
       "        vertical-align: top;\n",
       "    }\n",
       "\n",
       "    .dataframe thead th {\n",
       "        text-align: right;\n",
       "    }\n",
       "</style>\n",
       "<table border=\"1\" class=\"dataframe\">\n",
       "  <thead>\n",
       "    <tr style=\"text-align: right;\">\n",
       "      <th></th>\n",
       "      <th>text_id</th>\n",
       "      <th>full_text</th>\n",
       "      <th>cohesion</th>\n",
       "      <th>syntax</th>\n",
       "      <th>vocabulary</th>\n",
       "      <th>phraseology</th>\n",
       "      <th>grammar</th>\n",
       "      <th>conventions</th>\n",
       "      <th>word_count</th>\n",
       "      <th>miss_count</th>\n",
       "      <th>bos_count</th>\n",
       "      <th>week_months</th>\n",
       "      <th>small_count</th>\n",
       "      <th>miss_rate</th>\n",
       "      <th>small_rate</th>\n",
       "      <th>log_miss_rate</th>\n",
       "      <th>log_small_rate</th>\n",
       "      <th>sample</th>\n",
       "    </tr>\n",
       "  </thead>\n",
       "  <tbody>\n",
       "    <tr>\n",
       "      <th>0</th>\n",
       "      <td>0016926B079C</td>\n",
       "      <td>I think that students would benefit from learn...</td>\n",
       "      <td>3.5</td>\n",
       "      <td>3.5</td>\n",
       "      <td>3.0</td>\n",
       "      <td>3.0</td>\n",
       "      <td>4.0</td>\n",
       "      <td>3.0</td>\n",
       "      <td>262</td>\n",
       "      <td>0</td>\n",
       "      <td>15</td>\n",
       "      <td>0</td>\n",
       "      <td>15</td>\n",
       "      <td>0.000000</td>\n",
       "      <td>0.057252</td>\n",
       "      <td>0.000000</td>\n",
       "      <td>0.055673</td>\n",
       "      <td>0.055673</td>\n",
       "    </tr>\n",
       "    <tr>\n",
       "      <th>1</th>\n",
       "      <td>0022683E9EA5</td>\n",
       "      <td>When a problem is a change you have to let it ...</td>\n",
       "      <td>2.5</td>\n",
       "      <td>2.5</td>\n",
       "      <td>3.0</td>\n",
       "      <td>2.0</td>\n",
       "      <td>2.0</td>\n",
       "      <td>2.5</td>\n",
       "      <td>533</td>\n",
       "      <td>1</td>\n",
       "      <td>4</td>\n",
       "      <td>0</td>\n",
       "      <td>4</td>\n",
       "      <td>0.001876</td>\n",
       "      <td>0.007505</td>\n",
       "      <td>0.001874</td>\n",
       "      <td>0.007477</td>\n",
       "      <td>0.010288</td>\n",
       "    </tr>\n",
       "    <tr>\n",
       "      <th>2</th>\n",
       "      <td>00299B378633</td>\n",
       "      <td>Dear, Principal\\n\\nIf u change the school poli...</td>\n",
       "      <td>3.0</td>\n",
       "      <td>3.5</td>\n",
       "      <td>3.0</td>\n",
       "      <td>3.0</td>\n",
       "      <td>3.0</td>\n",
       "      <td>2.5</td>\n",
       "      <td>320</td>\n",
       "      <td>4</td>\n",
       "      <td>2</td>\n",
       "      <td>0</td>\n",
       "      <td>2</td>\n",
       "      <td>0.012500</td>\n",
       "      <td>0.006250</td>\n",
       "      <td>0.012423</td>\n",
       "      <td>0.006231</td>\n",
       "      <td>0.024864</td>\n",
       "    </tr>\n",
       "    <tr>\n",
       "      <th>3</th>\n",
       "      <td>003885A45F42</td>\n",
       "      <td>The best time in life is when you become yours...</td>\n",
       "      <td>4.5</td>\n",
       "      <td>4.5</td>\n",
       "      <td>4.5</td>\n",
       "      <td>4.5</td>\n",
       "      <td>4.0</td>\n",
       "      <td>5.0</td>\n",
       "      <td>727</td>\n",
       "      <td>1</td>\n",
       "      <td>2</td>\n",
       "      <td>0</td>\n",
       "      <td>2</td>\n",
       "      <td>0.001376</td>\n",
       "      <td>0.002751</td>\n",
       "      <td>0.001375</td>\n",
       "      <td>0.002747</td>\n",
       "      <td>0.004809</td>\n",
       "    </tr>\n",
       "    <tr>\n",
       "      <th>4</th>\n",
       "      <td>0049B1DF5CCC</td>\n",
       "      <td>Small act of kindness can impact in other peop...</td>\n",
       "      <td>2.5</td>\n",
       "      <td>3.0</td>\n",
       "      <td>3.0</td>\n",
       "      <td>3.0</td>\n",
       "      <td>2.5</td>\n",
       "      <td>2.5</td>\n",
       "      <td>234</td>\n",
       "      <td>7</td>\n",
       "      <td>0</td>\n",
       "      <td>0</td>\n",
       "      <td>0</td>\n",
       "      <td>0.029915</td>\n",
       "      <td>0.000000</td>\n",
       "      <td>0.029476</td>\n",
       "      <td>0.000000</td>\n",
       "      <td>0.044214</td>\n",
       "    </tr>\n",
       "  </tbody>\n",
       "</table>\n",
       "</div>"
      ],
      "text/plain": [
       "        text_id                                          full_text  cohesion  \\\n",
       "0  0016926B079C  I think that students would benefit from learn...       3.5   \n",
       "1  0022683E9EA5  When a problem is a change you have to let it ...       2.5   \n",
       "2  00299B378633  Dear, Principal\\n\\nIf u change the school poli...       3.0   \n",
       "3  003885A45F42  The best time in life is when you become yours...       4.5   \n",
       "4  0049B1DF5CCC  Small act of kindness can impact in other peop...       2.5   \n",
       "\n",
       "   syntax  vocabulary  phraseology  grammar  conventions  word_count  \\\n",
       "0     3.5         3.0          3.0      4.0          3.0         262   \n",
       "1     2.5         3.0          2.0      2.0          2.5         533   \n",
       "2     3.5         3.0          3.0      3.0          2.5         320   \n",
       "3     4.5         4.5          4.5      4.0          5.0         727   \n",
       "4     3.0         3.0          3.0      2.5          2.5         234   \n",
       "\n",
       "   miss_count  bos_count  week_months  small_count  miss_rate  small_rate  \\\n",
       "0           0         15            0           15   0.000000    0.057252   \n",
       "1           1          4            0            4   0.001876    0.007505   \n",
       "2           4          2            0            2   0.012500    0.006250   \n",
       "3           1          2            0            2   0.001376    0.002751   \n",
       "4           7          0            0            0   0.029915    0.000000   \n",
       "\n",
       "   log_miss_rate  log_small_rate    sample  \n",
       "0       0.000000        0.055673  0.055673  \n",
       "1       0.001874        0.007477  0.010288  \n",
       "2       0.012423        0.006231  0.024864  \n",
       "3       0.001375        0.002747  0.004809  \n",
       "4       0.029476        0.000000  0.044214  "
      ]
     },
     "execution_count": 192,
     "metadata": {},
     "output_type": "execute_result"
    }
   ],
   "source": [
    "df = pd.read_csv('/workspace/kaggle_data/train.csv')\n",
    "\n",
    "# 文章の単語数\n",
    "df['word_count'] = num_words\n",
    "\n",
    "# スペルミスのカウント\n",
    "df['miss_count'] = miss_count\n",
    "\n",
    "# 文頭が大文字になっていない数\n",
    "df['bos_count'] = bos_count\n",
    "# 曜日や月の一文字目が大文字になっているか\n",
    "df['week_months'] = week_months_counts\n",
    "df['small_count'] = df['bos_count'] + df['week_months']\n",
    "\n",
    "# 単語数に対する割合の計算\n",
    "df['miss_rate'] = df['miss_count']/df['word_count']\n",
    "df['small_rate'] = df['small_count']/df['word_count']\n",
    "\n",
    "# 対数変換\n",
    "df['log_miss_rate'] = np.log(df['miss_rate'] + 1)\n",
    "df['log_small_rate'] = np.log(df['small_rate'] + 1)\n",
    "\n",
    "# 神の数字(0.5067)\n",
    "df['sample'] = 1.5 * df['log_miss_rate'] + df['log_small_rate']\n",
    "df.head()"
   ]
  },
  {
   "cell_type": "code",
   "execution_count": 193,
   "id": "c27e3971-c29c-4841-b480-6c3cf44401d5",
   "metadata": {},
   "outputs": [
    {
     "data": {
      "text/plain": [
       "'/workspace/kaggle-Feedback-English-Language-Learning/ipynb'"
      ]
     },
     "execution_count": 193,
     "metadata": {},
     "output_type": "execute_result"
    }
   ],
   "source": [
    "pwd"
   ]
  },
  {
   "cell_type": "code",
   "execution_count": 194,
   "id": "e555ea53-e2e2-4407-bb0f-c3711bdb85d7",
   "metadata": {},
   "outputs": [],
   "source": [
    "df.to_csv('/workspace/kaggle_data/conventions_eda_data.csv',index=False)"
   ]
  },
  {
   "cell_type": "code",
   "execution_count": 165,
   "id": "fcaa989e-82d8-474e-8bbd-3c73f770b032",
   "metadata": {},
   "outputs": [],
   "source": [
    "def correlation_check(a):\n",
    "    a = df[a].to_numpy()\n",
    "    col_list = ['cohesion', 'syntax', 'vocabulary','phraseology', 'grammar', 'conventions']\n",
    "    for i in col_list:\n",
    "        col = df[i].to_numpy()\n",
    "        print(np.corrcoef(a, col))\n",
    "    return "
   ]
  },
  {
   "cell_type": "code",
   "execution_count": 166,
   "id": "d60a2014-4d33-43f4-ae0f-d89c0eefc287",
   "metadata": {},
   "outputs": [
    {
     "name": "stdout",
     "output_type": "stream",
     "text": [
      "[[ 1.         -0.34564302]\n",
      " [-0.34564302  1.        ]]\n",
      "[[ 1.        -0.3499449]\n",
      " [-0.3499449  1.       ]]\n",
      "[[ 1.         -0.35929639]\n",
      " [-0.35929639  1.        ]]\n",
      "[[ 1.         -0.34317281]\n",
      " [-0.34317281  1.        ]]\n",
      "[[ 1.         -0.30753152]\n",
      " [-0.30753152  1.        ]]\n",
      "[[ 1.        -0.5067407]\n",
      " [-0.5067407  1.       ]]\n"
     ]
    }
   ],
   "source": [
    "correlation_check('sample')"
   ]
  },
  {
   "cell_type": "code",
   "execution_count": 45,
   "id": "7ba2416a-e013-47ab-a41e-ffdc3a25a1e8",
   "metadata": {},
   "outputs": [],
   "source": [
    "text = df['full_text']"
   ]
  },
  {
   "cell_type": "code",
   "execution_count": 51,
   "id": "6aa9b1df-cdf3-4b48-aa04-a94b5b7acb0b",
   "metadata": {},
   "outputs": [
    {
     "data": {
      "text/plain": [
       "(array([1.576e+03, 8.660e+02, 4.010e+02, 1.560e+02, 2.540e+02, 1.850e+02,\n",
       "        1.330e+02, 5.200e+01, 8.100e+01, 5.700e+01, 2.500e+01, 2.900e+01,\n",
       "        2.400e+01, 1.900e+01, 8.000e+00, 1.400e+01, 4.000e+00, 3.000e+00,\n",
       "        5.000e+00, 2.000e+00, 6.000e+00, 1.000e+00, 2.000e+00, 1.000e+00,\n",
       "        1.000e+00, 1.000e+00, 1.000e+00, 0.000e+00, 0.000e+00, 0.000e+00,\n",
       "        1.000e+00, 2.000e+00, 0.000e+00, 0.000e+00, 0.000e+00, 0.000e+00,\n",
       "        0.000e+00, 0.000e+00, 0.000e+00, 0.000e+00, 0.000e+00, 0.000e+00,\n",
       "        0.000e+00, 0.000e+00, 0.000e+00, 0.000e+00, 0.000e+00, 0.000e+00,\n",
       "        0.000e+00, 1.000e+00]),\n",
       " array([ 0.  ,  1.72,  3.44,  5.16,  6.88,  8.6 , 10.32, 12.04, 13.76,\n",
       "        15.48, 17.2 , 18.92, 20.64, 22.36, 24.08, 25.8 , 27.52, 29.24,\n",
       "        30.96, 32.68, 34.4 , 36.12, 37.84, 39.56, 41.28, 43.  , 44.72,\n",
       "        46.44, 48.16, 49.88, 51.6 , 53.32, 55.04, 56.76, 58.48, 60.2 ,\n",
       "        61.92, 63.64, 65.36, 67.08, 68.8 , 70.52, 72.24, 73.96, 75.68,\n",
       "        77.4 , 79.12, 80.84, 82.56, 84.28, 86.  ]),\n",
       " <BarContainer object of 50 artists>)"
      ]
     },
     "execution_count": 51,
     "metadata": {},
     "output_type": "execute_result"
    },
    {
     "data": {
      "image/png": "[encoded data removed]",
      "text/plain": [
       "<Figure size 640x480 with 1 Axes>"
      ]
     },
     "metadata": {},
     "output_type": "display_data"
    }
   ],
   "source": [
    "x = df['miss_count']\n",
    "plt.hist(x, bins=50)"
   ]
  },
  {
   "cell_type": "markdown",
   "id": "2f7bbdd1-87c6-407a-ab9b-7f09defe4647",
   "metadata": {
    "tags": []
   },
   "source": [
    "## LightGBMでの予測"
   ]
  },
  {
   "cell_type": "code",
   "execution_count": 364,
   "id": "1a329787-9409-4eb1-a5e4-acd6d91691fd",
   "metadata": {},
   "outputs": [
    {
     "data": {
      "text/html": [
       "<div>\n",
       "<style scoped>\n",
       "    .dataframe tbody tr th:only-of-type {\n",
       "        vertical-align: middle;\n",
       "    }\n",
       "\n",
       "    .dataframe tbody tr th {\n",
       "        vertical-align: top;\n",
       "    }\n",
       "\n",
       "    .dataframe thead th {\n",
       "        text-align: right;\n",
       "    }\n",
       "</style>\n",
       "<table border=\"1\" class=\"dataframe\">\n",
       "  <thead>\n",
       "    <tr style=\"text-align: right;\">\n",
       "      <th></th>\n",
       "      <th>text_id</th>\n",
       "      <th>full_text</th>\n",
       "      <th>cohesion</th>\n",
       "      <th>syntax</th>\n",
       "      <th>vocabulary</th>\n",
       "      <th>phraseology</th>\n",
       "      <th>grammar</th>\n",
       "      <th>conventions</th>\n",
       "      <th>miss_count</th>\n",
       "      <th>bos_count</th>\n",
       "      <th>word_count</th>\n",
       "      <th>miss_rate</th>\n",
       "      <th>bos_rate</th>\n",
       "    </tr>\n",
       "  </thead>\n",
       "  <tbody>\n",
       "    <tr>\n",
       "      <th>0</th>\n",
       "      <td>0016926B079C</td>\n",
       "      <td>I think that students would benefit from learn...</td>\n",
       "      <td>3.5</td>\n",
       "      <td>3.5</td>\n",
       "      <td>3.0</td>\n",
       "      <td>3.0</td>\n",
       "      <td>4.0</td>\n",
       "      <td>3.0</td>\n",
       "      <td>0</td>\n",
       "      <td>15</td>\n",
       "      <td>262</td>\n",
       "      <td>0.000000</td>\n",
       "      <td>0.057252</td>\n",
       "    </tr>\n",
       "    <tr>\n",
       "      <th>1</th>\n",
       "      <td>0022683E9EA5</td>\n",
       "      <td>When a problem is a change you have to let it ...</td>\n",
       "      <td>2.5</td>\n",
       "      <td>2.5</td>\n",
       "      <td>3.0</td>\n",
       "      <td>2.0</td>\n",
       "      <td>2.0</td>\n",
       "      <td>2.5</td>\n",
       "      <td>1</td>\n",
       "      <td>4</td>\n",
       "      <td>533</td>\n",
       "      <td>0.001876</td>\n",
       "      <td>0.007505</td>\n",
       "    </tr>\n",
       "    <tr>\n",
       "      <th>2</th>\n",
       "      <td>00299B378633</td>\n",
       "      <td>Dear, Principal\\n\\nIf u change the school poli...</td>\n",
       "      <td>3.0</td>\n",
       "      <td>3.5</td>\n",
       "      <td>3.0</td>\n",
       "      <td>3.0</td>\n",
       "      <td>3.0</td>\n",
       "      <td>2.5</td>\n",
       "      <td>4</td>\n",
       "      <td>2</td>\n",
       "      <td>320</td>\n",
       "      <td>0.012500</td>\n",
       "      <td>0.006250</td>\n",
       "    </tr>\n",
       "    <tr>\n",
       "      <th>3</th>\n",
       "      <td>003885A45F42</td>\n",
       "      <td>The best time in life is when you become yours...</td>\n",
       "      <td>4.5</td>\n",
       "      <td>4.5</td>\n",
       "      <td>4.5</td>\n",
       "      <td>4.5</td>\n",
       "      <td>4.0</td>\n",
       "      <td>5.0</td>\n",
       "      <td>1</td>\n",
       "      <td>2</td>\n",
       "      <td>727</td>\n",
       "      <td>0.001376</td>\n",
       "      <td>0.002751</td>\n",
       "    </tr>\n",
       "    <tr>\n",
       "      <th>4</th>\n",
       "      <td>0049B1DF5CCC</td>\n",
       "      <td>Small act of kindness can impact in other peop...</td>\n",
       "      <td>2.5</td>\n",
       "      <td>3.0</td>\n",
       "      <td>3.0</td>\n",
       "      <td>3.0</td>\n",
       "      <td>2.5</td>\n",
       "      <td>2.5</td>\n",
       "      <td>7</td>\n",
       "      <td>0</td>\n",
       "      <td>234</td>\n",
       "      <td>0.029915</td>\n",
       "      <td>0.000000</td>\n",
       "    </tr>\n",
       "  </tbody>\n",
       "</table>\n",
       "</div>"
      ],
      "text/plain": [
       "        text_id                                          full_text  cohesion  \\\n",
       "0  0016926B079C  I think that students would benefit from learn...       3.5   \n",
       "1  0022683E9EA5  When a problem is a change you have to let it ...       2.5   \n",
       "2  00299B378633  Dear, Principal\\n\\nIf u change the school poli...       3.0   \n",
       "3  003885A45F42  The best time in life is when you become yours...       4.5   \n",
       "4  0049B1DF5CCC  Small act of kindness can impact in other peop...       2.5   \n",
       "\n",
       "   syntax  vocabulary  phraseology  grammar  conventions  miss_count  \\\n",
       "0     3.5         3.0          3.0      4.0          3.0           0   \n",
       "1     2.5         3.0          2.0      2.0          2.5           1   \n",
       "2     3.5         3.0          3.0      3.0          2.5           4   \n",
       "3     4.5         4.5          4.5      4.0          5.0           1   \n",
       "4     3.0         3.0          3.0      2.5          2.5           7   \n",
       "\n",
       "   bos_count  word_count  miss_rate  bos_rate  \n",
       "0         15         262   0.000000  0.057252  \n",
       "1          4         533   0.001876  0.007505  \n",
       "2          2         320   0.012500  0.006250  \n",
       "3          2         727   0.001376  0.002751  \n",
       "4          0         234   0.029915  0.000000  "
      ]
     },
     "execution_count": 364,
     "metadata": {},
     "output_type": "execute_result"
    }
   ],
   "source": [
    "df.head()"
   ]
  },
  {
   "cell_type": "code",
   "execution_count": 371,
   "id": "c488dfac-3a36-4791-91b2-2e723ec567b1",
   "metadata": {},
   "outputs": [],
   "source": [
    "import lightgbm as lgbm\n",
    "\n",
    "from sklearn.model_selection import train_test_split"
   ]
  },
  {
   "cell_type": "code",
   "execution_count": 372,
   "id": "ab3ff73f-4ba9-4cac-8587-23b1c87f71f1",
   "metadata": {},
   "outputs": [],
   "source": [
    "x = df[['miss_count','bos_count','word_count','miss_rate','bos_rate']]\n",
    "y = df['conventions']"
   ]
  },
  {
   "cell_type": "code",
   "execution_count": 375,
   "id": "3498b1ef-c488-4eea-b21f-a72727858906",
   "metadata": {},
   "outputs": [],
   "source": [
    "x_train,x_valid,y_train,y_valid = train_test_split(x,y,test_size = 0.3, random_state=3655)"
   ]
  },
  {
   "cell_type": "code",
   "execution_count": 379,
   "id": "d8ac72f9-cc89-420b-bd67-c78e6a11de01",
   "metadata": {},
   "outputs": [
    {
     "name": "stdout",
     "output_type": "stream",
     "text": [
      "[LightGBM] [Warning] Auto-choosing col-wise multi-threading, the overhead of testing was 0.001119 seconds.\n",
      "You can set `force_col_wise=true` to remove the overhead.\n",
      "[LightGBM] [Info] Total Bins 821\n",
      "[LightGBM] [Info] Number of data points in the train set: 2737, number of used features: 5\n",
      "[LightGBM] [Info] Start training from score 3.071246\n",
      "Training until validation scores don't improve for 20 rounds\n",
      "[10]\ttraining's rmse: 0.60747\tvalid_1's rmse: 0.605989\n",
      "[20]\ttraining's rmse: 0.57837\tvalid_1's rmse: 0.584795\n",
      "[30]\ttraining's rmse: 0.564741\tvalid_1's rmse: 0.577608\n",
      "[40]\ttraining's rmse: 0.557666\tvalid_1's rmse: 0.575333\n",
      "[50]\ttraining's rmse: 0.553032\tvalid_1's rmse: 0.575127\n",
      "[60]\ttraining's rmse: 0.549615\tvalid_1's rmse: 0.575744\n",
      "Early stopping, best iteration is:\n",
      "[46]\ttraining's rmse: 0.554705\tvalid_1's rmse: 0.574914\n",
      "[LightGBM] [Warning] Unknown parameter: num_interation\n"
     ]
    }
   ],
   "source": [
    "\n",
    "categorical_features = []\n",
    "\n",
    "#LightGBM用の訓練データセットを作成\n",
    "lgb_train = lgb.Dataset(x_train,y_train,categorical_feature=categorical_features,free_raw_data=False)\n",
    "\n",
    "#LightGBM用の評価データセットを作成\n",
    "lgb_eval = lgb.Dataset(x_valid,y_valid,reference=lgb_train,categorical_feature=categorical_features,free_raw_data=False)\n",
    "\n",
    "\n",
    "#ハイパーパラメータを設定\n",
    "params = {\n",
    "    'boosting_type': 'gbdt',\n",
    "\n",
    "    #'objective': 'binary', 二値分類\n",
    "    'objective': 'regression', #回帰\n",
    "    \n",
    "    'metric':'rmse',\n",
    "    #'metric': {'l2', 'l1'}, \n",
    "\n",
    "    'num_leaves': 10,\n",
    "    'learning_rate': 0.05,\n",
    "    #'feature_fraction': 0.9,\n",
    "    #'bagging_fraction': 0.8,\n",
    "    #'bagging_freq': 5,\n",
    "    #'vervose': 0\n",
    "    \n",
    "}\n",
    "\n",
    "#LightGBMの学習\n",
    "lgbm_model = lgbm.train(params,lgb_train,\n",
    "                 valid_sets=[lgb_train,lgb_eval],\n",
    "                 verbose_eval=10,\n",
    "                 num_boost_round=100,\n",
    "                 early_stopping_rounds= 20)\n",
    "\n",
    "#最もスコアの良いモデルの保存\n",
    "optimum_boost_rounds = lgbm_model.best_iteration\n",
    "\n",
    "#LightGBMの予測\n",
    "y_pred = lgbm_model.predict(x_valid,num_interation=lgbm_model.best_iteration)"
   ]
  },
  {
   "cell_type": "markdown",
   "id": "b1a111a6-b45d-4054-8fda-325cbaa845b5",
   "metadata": {
    "jp-MarkdownHeadingCollapsed": true,
    "tags": []
   },
   "source": [
    "## 線形回帰"
   ]
  },
  {
   "cell_type": "code",
   "execution_count": 380,
   "id": "4a15fcd4-88c4-446a-83cb-7bb7d74da6e4",
   "metadata": {},
   "outputs": [
    {
     "data": {
      "text/plain": [
       "LinearRegression()"
      ]
     },
     "execution_count": 380,
     "metadata": {},
     "output_type": "execute_result"
    }
   ],
   "source": [
    "from sklearn.linear_model import LinearRegression\n",
    "from sklearn.metrics import mean_squared_error\n",
    "\n",
    "\n",
    "lr = LinearRegression()\n",
    "lr.fit(x_train, y_train)"
   ]
  },
  {
   "cell_type": "code",
   "execution_count": 383,
   "id": "353ca773-9164-4a8b-a231-f950789ee392",
   "metadata": {},
   "outputs": [
    {
     "data": {
      "text/plain": [
       "0.5832381459822951"
      ]
     },
     "execution_count": 383,
     "metadata": {},
     "output_type": "execute_result"
    }
   ],
   "source": [
    "y_pred = lr.predict(x_valid) \n",
    "mean_squared_error(y_valid, y_pred,squared=False) # RMSE"
   ]
  }
 ],
 "metadata": {
  "kernelspec": {
   "display_name": "Python 3 (ipykernel)",
   "language": "python",
   "name": "python3"
  },
  "language_info": {
   "codemirror_mode": {
    "name": "ipython",
    "version": 3
   },
   "file_extension": ".py",
   "mimetype": "text/x-python",
   "name": "python",
   "nbconvert_exporter": "python",
   "pygments_lexer": "ipython3",
   "version": "3.9.7"
  }
 },
 "nbformat": 4,
 "nbformat_minor": 5
}
