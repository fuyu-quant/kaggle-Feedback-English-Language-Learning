{
 "cells": [
  {
   "cell_type": "markdown",
   "id": "e49191c7-5b9c-4b55-92c9-6832e5b26713",
   "metadata": {},
   "source": [
    "## Conventions\n",
    "* スペルミス，大文字，小文字，句読点の間違い"
   ]
  },
  {
   "cell_type": "code",
   "execution_count": 8,
   "id": "aa9cf3b8-7760-465e-8142-9f2e421aaa03",
   "metadata": {},
   "outputs": [],
   "source": [
    "import pandas as pd\n",
    "import numpy as np\n",
    "import matplotlib.pyplot as plt\n",
    "import seaborn as sns"
   ]
  },
  {
   "cell_type": "markdown",
   "id": "bcec558e-abca-40e9-ad87-ca505b815d16",
   "metadata": {
    "tags": []
   },
   "source": [
    "### pyspellchecker"
   ]
  },
  {
   "cell_type": "code",
   "execution_count": 4,
   "id": "071f584f-dc06-40a7-8883-eee53e2fb3f4",
   "metadata": {},
   "outputs": [
    {
     "name": "stdout",
     "output_type": "stream",
     "text": [
      "Collecting pyspellchecker\n",
      "  Downloading pyspellchecker-0.7.0-py3-none-any.whl (2.5 MB)\n",
      "\u001b[2K     \u001b[90m━━━━━━━━━━━━━━━━━━━━━━━━━━━━━━━━━━━━━━━━\u001b[0m \u001b[32m2.5/2.5 MB\u001b[0m \u001b[31m50.0 MB/s\u001b[0m eta \u001b[36m0:00:00\u001b[0ma \u001b[36m0:00:01\u001b[0m\n",
      "\u001b[?25hInstalling collected packages: pyspellchecker\n",
      "Successfully installed pyspellchecker-0.7.0\n",
      "\u001b[33mWARNING: Running pip as the 'root' user can result in broken permissions and conflicting behaviour with the system package manager. It is recommended to use a virtual environment instead: https://pip.pypa.io/warnings/venv\u001b[0m\u001b[33m\n",
      "\u001b[0m"
     ]
    }
   ],
   "source": [
    "%%capture\n",
    "!pip install pyspellchecker"
   ]
  },
  {
   "cell_type": "code",
   "execution_count": 5,
   "id": "c99c8a3a-5111-4570-b2fb-f1dcd1062ea3",
   "metadata": {},
   "outputs": [],
   "source": [
    "from spellchecker import SpellChecker\n",
    "\n",
    "spell = SpellChecker()"
   ]
  },
  {
   "cell_type": "code",
   "execution_count": 6,
   "id": "65f278c6-51dd-481b-8b50-89db2981255d",
   "metadata": {},
   "outputs": [
    {
     "name": "stdout",
     "output_type": "stream",
     "text": [
      "happening\n",
      "{'happening', 'henning', 'penning'}\n"
     ]
    }
   ],
   "source": [
    "misspelled = spell.unknown(['something', 'is', 'hapenning', 'here'])\n",
    "\n",
    "for word in misspelled:\n",
    "    # Get the one `most likely` answer\n",
    "    print(spell.correction(word))\n",
    "\n",
    "    # Get a list of `likely` options\n",
    "    print(spell.candidates(word))"
   ]
  },
  {
   "cell_type": "code",
   "execution_count": 9,
   "id": "9b9227f9-5aed-4abc-93fc-b30e8368aa1e",
   "metadata": {},
   "outputs": [],
   "source": [
    "df = pd.read_csv('/workspace/kaggle_data/train.csv')\n",
    "text = df['full_text']"
   ]
  },
  {
   "cell_type": "code",
   "execution_count": 10,
   "id": "e9c0d4b1-237a-47d5-a817-726eb283ef09",
   "metadata": {},
   "outputs": [
    {
     "data": {
      "text/plain": [
       "\"I think that students would benefit from learning at home,because they wont have to change and get up early in the morning to shower and do there hair. taking only classes helps them because at there house they'll be pay more attention. they will be comfortable at home.\\n\\nThe hardest part of school is getting ready. you wake up go brush your teeth and go to your closet and look at your cloths. after you think you picked a outfit u go look in the mirror and youll either not like it or you look and see a stain. Then you'll have to change. with the online classes you can wear anything and stay home and you wont need to stress about what to wear.\\n\\nmost students usually take showers before school. they either take it before they sleep or when they wake up. some students do both to smell good. that causes them do miss the bus and effects on there lesson time cause they come late to school. when u have online classes u wont need to miss lessons cause you can get everything set up and go take a shower and when u get out your ready to go.\\n\\nwhen your home your comfortable and you pay attention. it gives then an advantage to be smarter and even pass there classmates on class work. public schools are difficult even if you try. some teacher dont know how to teach it in then way that students understand it. that causes students to fail and they may repeat the class.              \""
      ]
     },
     "execution_count": 10,
     "metadata": {},
     "output_type": "execute_result"
    }
   ],
   "source": [
    "text[0]"
   ]
  },
  {
   "cell_type": "markdown",
   "id": "84635579-5d5a-42e0-a7a6-1ab4f7db8407",
   "metadata": {
    "tags": []
   },
   "source": [
    "### PyEnchant\n",
    "* pythonのスペルチェッカー"
   ]
  },
  {
   "cell_type": "code",
   "execution_count": 2,
   "id": "a9ab076d-9918-401e-8102-4e77c22c1bc6",
   "metadata": {},
   "outputs": [
    {
     "name": "stdout",
     "output_type": "stream",
     "text": [
      "Get:1 http://deb.debian.org/debian buster InRelease [122 kB]\n",
      "Get:2 http://security.debian.org/debian-security buster/updates InRelease [34.8 kB]\n",
      "Get:3 http://deb.debian.org/debian buster-updates InRelease [56.6 kB]\u001b[0m\u001b[33m\n",
      "Get:4 http://security.debian.org/debian-security buster/updates/main arm64 Packages [375 kB]\n",
      "Get:5 http://deb.debian.org/debian buster/main arm64 Packages [7737 kB]\n",
      "Get:6 http://deb.debian.org/debian buster-updates/main arm64 Packages [8780 B]\n",
      "Fetched 8334 kB in 1s (7703 kB/s)3m                       \u001b[0m\u001b[33m\u001b[33m\u001b[33m\n",
      "Reading package lists... Done\n",
      "Building dependency tree       \n",
      "Reading state information... Done\n",
      "109 packages can be upgraded. Run 'apt list --upgradable' to see them.\n",
      "Reading package lists... Done\n",
      "Building dependency tree       \n",
      "Reading state information... Done\n",
      "The following additional packages will be installed:\n",
      "  aspell aspell-en dictionaries-common emacsen-common hunspell-en-us\n",
      "  libaspell15 libenchant1c2a libhunspell-1.7-0 libtext-iconv-perl\n",
      "Suggested packages:\n",
      "  aspell-doc spellutils wordlist hunspell openoffice.org-hunspell\n",
      "  | openoffice.org-core libenchant-voikko\n",
      "The following NEW packages will be installed:\n",
      "  aspell aspell-en dictionaries-common emacsen-common enchant hunspell-en-us\n",
      "  libaspell15 libenchant1c2a libhunspell-1.7-0 libtext-iconv-perl\n",
      "0 upgraded, 10 newly installed, 0 to remove and 109 not upgraded.\n",
      "Need to get 1527 kB of archives.\n",
      "After this operation, 5925 kB of additional disk space will be used.\n",
      "Do you want to continue? [Y/n] ^C\n",
      "The following additional packages will be installed:\n",
      "  aspell aspell-en dictionaries-common emacsen-common hunspell-en-us\n",
      "  libaspell15 libenchant1c2a libhunspell-1.7-0 libtext-iconv-perl\n",
      "Suggested packages:\n",
      "  aspell-doc spellutils wordlist hunspell openoffice.org-hunspell\n",
      "  | openoffice.org-core libenchant-voikko\n",
      "The following NEW packages will be installed:\n",
      "  aspell aspell-en dictionaries-common emacsen-common enchant hunspell-en-us\n",
      "  libaspell15 libenchant1c2a libhunspell-1.7-0 libtext-iconv-perl\n",
      "0 upgraded, 10 newly installed, 0 to remove and 109 not upgraded.\n",
      "Need to get 1527 kB of archives.\n",
      "After this operation, 5925 kB of additional disk space will be used.\n",
      "Do you want to continue? [Y/n] ^C\n",
      "Requirement already satisfied: pyenchant in /usr/local/lib/python3.9/site-packages (3.2.2)\n",
      "\u001b[33mWARNING: Running pip as the 'root' user can result in broken permissions and conflicting behaviour with the system package manager. It is recommended to use a virtual environment instead: https://pip.pypa.io/warnings/venv\u001b[0m\u001b[33m\n",
      "\u001b[0m"
     ]
    }
   ],
   "source": [
    "!apt update\n",
    "!apt install enchant --fix-missing\n",
    "!apt install -qq enchant\n",
    "!pip install pyenchant"
   ]
  },
  {
   "cell_type": "code",
   "execution_count": 8,
   "id": "cd7272f8-642f-4ead-b226-39e1b821d74a",
   "metadata": {},
   "outputs": [
    {
     "name": "stdout",
     "output_type": "stream",
     "text": [
      "Requirement already satisfied: pyenchant in /usr/local/lib/python3.9/site-packages (3.2.2)\n",
      "\u001b[33mWARNING: Running pip as the 'root' user can result in broken permissions and conflicting behaviour with the system package manager. It is recommended to use a virtual environment instead: https://pip.pypa.io/warnings/venv\u001b[0m\u001b[33m\n",
      "\u001b[0m"
     ]
    }
   ],
   "source": [
    "#%%capture\n",
    "!pip install pyenchant"
   ]
  },
  {
   "cell_type": "code",
   "execution_count": 3,
   "id": "65b3d332-7383-47da-967b-476a3390620a",
   "metadata": {},
   "outputs": [
    {
     "ename": "ImportError",
     "evalue": "The 'enchant' C library was not found and maybe needs to be installed.\nSee  https://pyenchant.github.io/pyenchant/install.html\nfor details\n",
     "output_type": "error",
     "traceback": [
      "\u001b[0;31m---------------------------------------------------------------------------\u001b[0m",
      "\u001b[0;31mImportError\u001b[0m                               Traceback (most recent call last)",
      "Cell \u001b[0;32mIn [3], line 1\u001b[0m\n\u001b[0;32m----> 1\u001b[0m \u001b[38;5;28;01mimport\u001b[39;00m \u001b[38;5;21;01menchant\u001b[39;00m\n\u001b[1;32m      2\u001b[0m d \u001b[38;5;241m=\u001b[39m enchant\u001b[38;5;241m.\u001b[39mDict(\u001b[38;5;124m\"\u001b[39m\u001b[38;5;124men_US\u001b[39m\u001b[38;5;124m\"\u001b[39m)\n\u001b[1;32m      3\u001b[0m d\u001b[38;5;241m.\u001b[39mcheck(\u001b[38;5;124m\"\u001b[39m\u001b[38;5;124mHello\u001b[39m\u001b[38;5;124m\"\u001b[39m)\n",
      "File \u001b[0;32m/usr/local/lib/python3.9/site-packages/enchant/__init__.py:81\u001b[0m\n\u001b[1;32m     78\u001b[0m \u001b[38;5;28;01mimport\u001b[39;00m \u001b[38;5;21;01mwarnings\u001b[39;00m\n\u001b[1;32m     80\u001b[0m \u001b[38;5;28;01mtry\u001b[39;00m:\n\u001b[0;32m---> 81\u001b[0m     \u001b[38;5;28;01mfrom\u001b[39;00m \u001b[38;5;21;01menchant\u001b[39;00m \u001b[38;5;28;01mimport\u001b[39;00m _enchant \u001b[38;5;28;01mas\u001b[39;00m _e\n\u001b[1;32m     82\u001b[0m \u001b[38;5;28;01mexcept\u001b[39;00m \u001b[38;5;167;01mImportError\u001b[39;00m:\n\u001b[1;32m     83\u001b[0m     \u001b[38;5;28;01mif\u001b[39;00m \u001b[38;5;129;01mnot\u001b[39;00m os\u001b[38;5;241m.\u001b[39menviron\u001b[38;5;241m.\u001b[39mget(\u001b[38;5;124m\"\u001b[39m\u001b[38;5;124mPYENCHANT_IGNORE_MISSING_LIB\u001b[39m\u001b[38;5;124m\"\u001b[39m, \u001b[38;5;28;01mFalse\u001b[39;00m):\n",
      "File \u001b[0;32m/usr/local/lib/python3.9/site-packages/enchant/_enchant.py:157\u001b[0m\n\u001b[1;32m    149\u001b[0m \u001b[38;5;28;01mif\u001b[39;00m enchant_lib_path \u001b[38;5;129;01mis\u001b[39;00m \u001b[38;5;28;01mNone\u001b[39;00m:\n\u001b[1;32m    150\u001b[0m     msg \u001b[38;5;241m=\u001b[39m textwrap\u001b[38;5;241m.\u001b[39mdedent(\n\u001b[1;32m    151\u001b[0m         \u001b[38;5;124;03m\"\"\"\\\u001b[39;00m\n\u001b[1;32m    152\u001b[0m \u001b[38;5;124;03m        The 'enchant' C library was not found and maybe needs to be installed.\u001b[39;00m\n\u001b[0;32m   (...)\u001b[0m\n\u001b[1;32m    155\u001b[0m \u001b[38;5;124;03m        \"\"\"\u001b[39;00m\n\u001b[1;32m    156\u001b[0m     )\n\u001b[0;32m--> 157\u001b[0m     \u001b[38;5;28;01mraise\u001b[39;00m \u001b[38;5;167;01mImportError\u001b[39;00m(msg)\n\u001b[1;32m    160\u001b[0m find_message(\u001b[38;5;124m\"\u001b[39m\u001b[38;5;124mloading library \u001b[39m\u001b[38;5;124m\"\u001b[39m, enchant_lib_path)\n\u001b[1;32m    161\u001b[0m e \u001b[38;5;241m=\u001b[39m ctypes\u001b[38;5;241m.\u001b[39mcdll\u001b[38;5;241m.\u001b[39mLoadLibrary(enchant_lib_path)\n",
      "\u001b[0;31mImportError\u001b[0m: The 'enchant' C library was not found and maybe needs to be installed.\nSee  https://pyenchant.github.io/pyenchant/install.html\nfor details\n"
     ]
    }
   ],
   "source": [
    "import enchant\n",
    "d = enchant.Dict(\"en_US\")\n",
    "d.check(\"Hello\")"
   ]
  },
  {
   "cell_type": "code",
   "execution_count": null,
   "id": "6554a503-ecac-4e63-be2f-9db65f632120",
   "metadata": {},
   "outputs": [],
   "source": [
    "d.check(\"Helo\")"
   ]
  }
 ],
 "metadata": {
  "kernelspec": {
   "display_name": "Python 3 (ipykernel)",
   "language": "python",
   "name": "python3"
  },
  "language_info": {
   "codemirror_mode": {
    "name": "ipython",
    "version": 3
   },
   "file_extension": ".py",
   "mimetype": "text/x-python",
   "name": "python",
   "nbconvert_exporter": "python",
   "pygments_lexer": "ipython3",
   "version": "3.9.7"
  }
 },
 "nbformat": 4,
 "nbformat_minor": 5
}
