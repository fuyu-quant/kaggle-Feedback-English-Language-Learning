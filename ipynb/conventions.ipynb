{
 "cells": [
  {
   "cell_type": "markdown",
   "id": "e49191c7-5b9c-4b55-92c9-6832e5b26713",
   "metadata": {},
   "source": [
    "## Conventions\n",
    "* スペルミス，大文字，小文字，句読点の間違い"
   ]
  },
  {
   "cell_type": "code",
   "execution_count": 8,
   "id": "aa9cf3b8-7760-465e-8142-9f2e421aaa03",
   "metadata": {},
   "outputs": [],
   "source": [
    "import pandas as pd\n",
    "import numpy as np\n",
    "import matplotlib.pyplot as plt\n",
    "import seaborn as sns"
   ]
  },
  {
   "cell_type": "markdown",
   "id": "bcec558e-abca-40e9-ad87-ca505b815d16",
   "metadata": {
    "tags": []
   },
   "source": [
    "### pyspellchecker\n",
    "* 句読点を全て削除してからが良さそう"
   ]
  },
  {
   "cell_type": "code",
   "execution_count": 4,
   "id": "071f584f-dc06-40a7-8883-eee53e2fb3f4",
   "metadata": {},
   "outputs": [
    {
     "name": "stdout",
     "output_type": "stream",
     "text": [
      "Collecting pyspellchecker\n",
      "  Downloading pyspellchecker-0.7.0-py3-none-any.whl (2.5 MB)\n",
      "\u001b[2K     \u001b[90m━━━━━━━━━━━━━━━━━━━━━━━━━━━━━━━━━━━━━━━━\u001b[0m \u001b[32m2.5/2.5 MB\u001b[0m \u001b[31m50.0 MB/s\u001b[0m eta \u001b[36m0:00:00\u001b[0ma \u001b[36m0:00:01\u001b[0m\n",
      "\u001b[?25hInstalling collected packages: pyspellchecker\n",
      "Successfully installed pyspellchecker-0.7.0\n",
      "\u001b[33mWARNING: Running pip as the 'root' user can result in broken permissions and conflicting behaviour with the system package manager. It is recommended to use a virtual environment instead: https://pip.pypa.io/warnings/venv\u001b[0m\u001b[33m\n",
      "\u001b[0m"
     ]
    }
   ],
   "source": [
    "%%capture\n",
    "!pip install pyspellchecker"
   ]
  },
  {
   "cell_type": "code",
   "execution_count": 5,
   "id": "c99c8a3a-5111-4570-b2fb-f1dcd1062ea3",
   "metadata": {},
   "outputs": [],
   "source": [
    "from spellchecker import SpellChecker\n",
    "\n",
    "spell = SpellChecker()"
   ]
  },
  {
   "cell_type": "code",
   "execution_count": 6,
   "id": "65f278c6-51dd-481b-8b50-89db2981255d",
   "metadata": {},
   "outputs": [
    {
     "name": "stdout",
     "output_type": "stream",
     "text": [
      "happening\n",
      "{'happening', 'henning', 'penning'}\n"
     ]
    }
   ],
   "source": [
    "misspelled = spell.unknown(['something', 'is', 'hapenning', 'here'])\n",
    "\n",
    "for word in misspelled:\n",
    "    # Get the one `most likely` answer\n",
    "    print(spell.correction(word))\n",
    "\n",
    "    # Get a list of `likely` options\n",
    "    print(spell.candidates(word))"
   ]
  },
  {
   "cell_type": "code",
   "execution_count": 9,
   "id": "9b9227f9-5aed-4abc-93fc-b30e8368aa1e",
   "metadata": {},
   "outputs": [],
   "source": [
    "df = pd.read_csv('/workspace/kaggle_data/train.csv')\n",
    "text = df['full_text']"
   ]
  },
  {
   "cell_type": "code",
   "execution_count": 13,
   "id": "e9c0d4b1-237a-47d5-a817-726eb283ef09",
   "metadata": {},
   "outputs": [
    {
     "data": {
      "text/plain": [
       "\"I think that students would benefit from learning at home,because they wont have to change and get up early in the morning to shower and do there hair. taking only classes helps them because at there house they'll be pay more attention. they will be comfortable at home.\\n\\nThe hardest part of school is getting ready. you wake up go brush your teeth and go to your closet and look at your cloths. after you think you picked a outfit u go look in the mirror and youll either not like it or you look and see a stain. Then you'll have to change. with the online classes you can wear anything and stay home and you wont need to stress about what to wear.\\n\\nmost students usually take showers before school. they either take it before they sleep or when they wake up. some students do both to smell good. that causes them do miss the bus and effects on there lesson time cause they come late to school. when u have online classes u wont need to miss lessons cause you can get everything set up and go take a shower and when u get out your ready to go.\\n\\nwhen your home your comfortable and you pay attention. it gives then an advantage to be smarter and even pass there classmates on class work. public schools are difficult even if you try. some teacher dont know how to teach it in then way that students understand it. that causes students to fail and they may repeat the class.              \""
      ]
     },
     "execution_count": 13,
     "metadata": {},
     "output_type": "execute_result"
    }
   ],
   "source": [
    "text[0]"
   ]
  },
  {
   "cell_type": "code",
   "execution_count": 20,
   "id": "9512fa88-1d98-4a2e-9574-a9e285ab1a47",
   "metadata": {},
   "outputs": [],
   "source": [
    "# 改行の削除\n",
    "new_text = text[0].replace('\\n', '')\n",
    "# 句読点を抜く\n",
    "new_text = new_text.replace('.', ' ')\n",
    "new_text = new_text.replace(',', ' ')"
   ]
  },
  {
   "cell_type": "code",
   "execution_count": 21,
   "id": "a97d144e-dccc-4454-be8a-2ec6131496ca",
   "metadata": {},
   "outputs": [
    {
     "data": {
      "text/plain": [
       "\"I think that students would benefit from learning at home because they wont have to change and get up early in the morning to shower and do there hair  taking only classes helps them because at there house they'll be pay more attention  they will be comfortable at home The hardest part of school is getting ready  you wake up go brush your teeth and go to your closet and look at your cloths  after you think you picked a outfit u go look in the mirror and youll either not like it or you look and see a stain  Then you'll have to change  with the online classes you can wear anything and stay home and you wont need to stress about what to wear most students usually take showers before school  they either take it before they sleep or when they wake up  some students do both to smell good  that causes them do miss the bus and effects on there lesson time cause they come late to school  when u have online classes u wont need to miss lessons cause you can get everything set up and go take a shower and when u get out your ready to go when your home your comfortable and you pay attention  it gives then an advantage to be smarter and even pass there classmates on class work  public schools are difficult even if you try  some teacher dont know how to teach it in then way that students understand it  that causes students to fail and they may repeat the class               \""
      ]
     },
     "execution_count": 21,
     "metadata": {},
     "output_type": "execute_result"
    }
   ],
   "source": [
    "new_text"
   ]
  },
  {
   "cell_type": "code",
   "execution_count": 22,
   "id": "7da61d4d-bb8b-4711-bf62-d8caad109f69",
   "metadata": {},
   "outputs": [
    {
     "name": "stdout",
     "output_type": "stream",
     "text": [
      "['I', 'think', 'that', 'students', 'would', 'benefit', 'from', 'learning', 'at', 'home', 'because', 'they', 'wont', 'have', 'to', 'change', 'and', 'get', 'up', 'early', 'in', 'the', 'morning', 'to', 'shower', 'and', 'do', 'there', 'hair', 'taking', 'only', 'classes', 'helps', 'them', 'because', 'at', 'there', 'house', \"they'll\", 'be', 'pay', 'more', 'attention', 'they', 'will', 'be', 'comfortable', 'at', 'home', 'The', 'hardest', 'part', 'of', 'school', 'is', 'getting', 'ready', 'you', 'wake', 'up', 'go', 'brush', 'your', 'teeth', 'and', 'go', 'to', 'your', 'closet', 'and', 'look', 'at', 'your', 'cloths', 'after', 'you', 'think', 'you', 'picked', 'a', 'outfit', 'u', 'go', 'look', 'in', 'the', 'mirror', 'and', 'youll', 'either', 'not', 'like', 'it', 'or', 'you', 'look', 'and', 'see', 'a', 'stain', 'Then', \"you'll\", 'have', 'to', 'change', 'with', 'the', 'online', 'classes', 'you', 'can', 'wear', 'anything', 'and', 'stay', 'home', 'and', 'you', 'wont', 'need', 'to', 'stress', 'about', 'what', 'to', 'wear', 'most', 'students', 'usually', 'take', 'showers', 'before', 'school', 'they', 'either', 'take', 'it', 'before', 'they', 'sleep', 'or', 'when', 'they', 'wake', 'up', 'some', 'students', 'do', 'both', 'to', 'smell', 'good', 'that', 'causes', 'them', 'do', 'miss', 'the', 'bus', 'and', 'effects', 'on', 'there', 'lesson', 'time', 'cause', 'they', 'come', 'late', 'to', 'school', 'when', 'u', 'have', 'online', 'classes', 'u', 'wont', 'need', 'to', 'miss', 'lessons', 'cause', 'you', 'can', 'get', 'everything', 'set', 'up', 'and', 'go', 'take', 'a', 'shower', 'and', 'when', 'u', 'get', 'out', 'your', 'ready', 'to', 'go', 'when', 'your', 'home', 'your', 'comfortable', 'and', 'you', 'pay', 'attention', 'it', 'gives', 'then', 'an', 'advantage', 'to', 'be', 'smarter', 'and', 'even', 'pass', 'there', 'classmates', 'on', 'class', 'work', 'public', 'schools', 'are', 'difficult', 'even', 'if', 'you', 'try', 'some', 'teacher', 'dont', 'know', 'how', 'to', 'teach', 'it', 'in', 'then', 'way', 'that', 'students', 'understand', 'it', 'that', 'causes', 'students', 'to', 'fail', 'and', 'they', 'may', 'repeat', 'the', 'class']\n"
     ]
    }
   ],
   "source": [
    "text_words = new_text.split()\n",
    "print(text_words)"
   ]
  },
  {
   "cell_type": "markdown",
   "id": "6377862f-19de-4a17-a8f7-1ed947214cb0",
   "metadata": {},
   "source": [
    "#### ミススペルをカウントする関数"
   ]
  },
  {
   "cell_type": "code",
   "execution_count": 36,
   "id": "b77a12a8-a667-452b-88ee-33a3b5eb8f2c",
   "metadata": {},
   "outputs": [],
   "source": [
    "def misspell_count(text):\n",
    "    # 改行の削除\n",
    "    text = text.replace('\\n', '')\n",
    "    # 句読点を抜く\n",
    "    text = text.replace('.', ' ')\n",
    "    text = text.replace(',', ' ')\n",
    "    text_words = text.split()\n",
    "    misspelled = spell.unknown(text_words)\n",
    "    count = 0\n",
    "    for word in misspelled:\n",
    "        count += 1\n",
    "        # スペルミス\n",
    "        #print(word)\n",
    "        # 最も可能性の高い単語\n",
    "        #print(spell.correction(word))\n",
    "    #print(count)\n",
    "    return count "
   ]
  },
  {
   "cell_type": "code",
   "execution_count": 37,
   "id": "54e5a654-f537-4fea-b96f-75bd3279d8be",
   "metadata": {},
   "outputs": [],
   "source": [
    "miss_count = []\n",
    "\n",
    "for i in range(3911):\n",
    "    check_text = text[i]\n",
    "    m_count = misspell_count(check_text)\n",
    "    miss_count.append(m_count)\n",
    "\n",
    "#miss_count"
   ]
  },
  {
   "cell_type": "markdown",
   "id": "70ad18c4-19f9-4d48-a1d6-efb928fb84e7",
   "metadata": {},
   "source": [
    "#### 各目的変数ごとの平均"
   ]
  },
  {
   "cell_type": "code",
   "execution_count": 52,
   "id": "c0655a10-97d2-4bbc-9032-cec254258eaf",
   "metadata": {},
   "outputs": [],
   "source": [
    "df['miss_count'] = miss_count"
   ]
  },
  {
   "cell_type": "code",
   "execution_count": 53,
   "id": "bb3afb75-d050-4ed0-9392-3b733dafd447",
   "metadata": {},
   "outputs": [
    {
     "data": {
      "text/html": [
       "<div>\n",
       "<style scoped>\n",
       "    .dataframe tbody tr th:only-of-type {\n",
       "        vertical-align: middle;\n",
       "    }\n",
       "\n",
       "    .dataframe tbody tr th {\n",
       "        vertical-align: top;\n",
       "    }\n",
       "\n",
       "    .dataframe thead th {\n",
       "        text-align: right;\n",
       "    }\n",
       "</style>\n",
       "<table border=\"1\" class=\"dataframe\">\n",
       "  <thead>\n",
       "    <tr style=\"text-align: right;\">\n",
       "      <th></th>\n",
       "      <th>text_id</th>\n",
       "      <th>full_text</th>\n",
       "      <th>cohesion</th>\n",
       "      <th>syntax</th>\n",
       "      <th>vocabulary</th>\n",
       "      <th>phraseology</th>\n",
       "      <th>grammar</th>\n",
       "      <th>conventions</th>\n",
       "      <th>miss_count</th>\n",
       "    </tr>\n",
       "  </thead>\n",
       "  <tbody>\n",
       "    <tr>\n",
       "      <th>0</th>\n",
       "      <td>0016926B079C</td>\n",
       "      <td>I think that students would benefit from learn...</td>\n",
       "      <td>3.5</td>\n",
       "      <td>3.5</td>\n",
       "      <td>3.0</td>\n",
       "      <td>3.0</td>\n",
       "      <td>4.0</td>\n",
       "      <td>3.0</td>\n",
       "      <td>0</td>\n",
       "    </tr>\n",
       "    <tr>\n",
       "      <th>1</th>\n",
       "      <td>0022683E9EA5</td>\n",
       "      <td>When a problem is a change you have to let it ...</td>\n",
       "      <td>2.5</td>\n",
       "      <td>2.5</td>\n",
       "      <td>3.0</td>\n",
       "      <td>2.0</td>\n",
       "      <td>2.0</td>\n",
       "      <td>2.5</td>\n",
       "      <td>1</td>\n",
       "    </tr>\n",
       "    <tr>\n",
       "      <th>2</th>\n",
       "      <td>00299B378633</td>\n",
       "      <td>Dear, Principal\\n\\nIf u change the school poli...</td>\n",
       "      <td>3.0</td>\n",
       "      <td>3.5</td>\n",
       "      <td>3.0</td>\n",
       "      <td>3.0</td>\n",
       "      <td>3.0</td>\n",
       "      <td>2.5</td>\n",
       "      <td>4</td>\n",
       "    </tr>\n",
       "    <tr>\n",
       "      <th>3</th>\n",
       "      <td>003885A45F42</td>\n",
       "      <td>The best time in life is when you become yours...</td>\n",
       "      <td>4.5</td>\n",
       "      <td>4.5</td>\n",
       "      <td>4.5</td>\n",
       "      <td>4.5</td>\n",
       "      <td>4.0</td>\n",
       "      <td>5.0</td>\n",
       "      <td>4</td>\n",
       "    </tr>\n",
       "    <tr>\n",
       "      <th>4</th>\n",
       "      <td>0049B1DF5CCC</td>\n",
       "      <td>Small act of kindness can impact in other peop...</td>\n",
       "      <td>2.5</td>\n",
       "      <td>3.0</td>\n",
       "      <td>3.0</td>\n",
       "      <td>3.0</td>\n",
       "      <td>2.5</td>\n",
       "      <td>2.5</td>\n",
       "      <td>7</td>\n",
       "    </tr>\n",
       "  </tbody>\n",
       "</table>\n",
       "</div>"
      ],
      "text/plain": [
       "        text_id                                          full_text  cohesion  \\\n",
       "0  0016926B079C  I think that students would benefit from learn...       3.5   \n",
       "1  0022683E9EA5  When a problem is a change you have to let it ...       2.5   \n",
       "2  00299B378633  Dear, Principal\\n\\nIf u change the school poli...       3.0   \n",
       "3  003885A45F42  The best time in life is when you become yours...       4.5   \n",
       "4  0049B1DF5CCC  Small act of kindness can impact in other peop...       2.5   \n",
       "\n",
       "   syntax  vocabulary  phraseology  grammar  conventions  miss_count  \n",
       "0     3.5         3.0          3.0      4.0          3.0           0  \n",
       "1     2.5         3.0          2.0      2.0          2.5           1  \n",
       "2     3.5         3.0          3.0      3.0          2.5           4  \n",
       "3     4.5         4.5          4.5      4.0          5.0           4  \n",
       "4     3.0         3.0          3.0      2.5          2.5           7  "
      ]
     },
     "execution_count": 53,
     "metadata": {},
     "output_type": "execute_result"
    }
   ],
   "source": [
    "df.head()"
   ]
  },
  {
   "cell_type": "code",
   "execution_count": 57,
   "id": "2b17456b-5e67-467d-a25a-78a679ddf6f9",
   "metadata": {},
   "outputs": [
    {
     "data": {
      "text/plain": [
       "conventions\n",
       "1.0    23.600000\n",
       "1.5    12.650000\n",
       "2.0    11.584577\n",
       "2.5     7.875000\n",
       "3.0     6.005213\n",
       "3.5     4.924009\n",
       "4.0     4.043388\n",
       "4.5     4.278689\n",
       "5.0     5.560000\n",
       "Name: miss_count, dtype: float64"
      ]
     },
     "execution_count": 57,
     "metadata": {},
     "output_type": "execute_result"
    }
   ],
   "source": [
    "df.groupby(['conventions'])['miss_count'].mean()"
   ]
  },
  {
   "cell_type": "code",
   "execution_count": 58,
   "id": "d5d3ca4b-b07c-4ca5-9d5f-351072b66889",
   "metadata": {},
   "outputs": [
    {
     "data": {
      "text/plain": [
       "grammar\n",
       "1.0    18.500000\n",
       "1.5    15.850000\n",
       "2.0     8.389706\n",
       "2.5     7.203509\n",
       "3.0     6.389336\n",
       "3.5     5.575000\n",
       "4.0     4.897092\n",
       "4.5     4.873134\n",
       "5.0     5.241379\n",
       "Name: miss_count, dtype: float64"
      ]
     },
     "execution_count": 58,
     "metadata": {},
     "output_type": "execute_result"
    }
   ],
   "source": [
    "df.groupby(['grammar'])['miss_count'].mean()"
   ]
  },
  {
   "cell_type": "code",
   "execution_count": 59,
   "id": "c0b93af3-66c2-4378-b11d-3914dc73711c",
   "metadata": {},
   "outputs": [
    {
     "data": {
      "text/plain": [
       "phraseology\n",
       "1.0    12.100000\n",
       "1.5    11.363636\n",
       "2.0     9.100000\n",
       "2.5     7.246114\n",
       "3.0     6.283608\n",
       "3.5     5.779333\n",
       "4.0     5.450271\n",
       "4.5     5.842593\n",
       "5.0     6.200000\n",
       "Name: miss_count, dtype: float64"
      ]
     },
     "execution_count": 59,
     "metadata": {},
     "output_type": "execute_result"
    }
   ],
   "source": [
    "df.groupby(['phraseology'])['miss_count'].mean()"
   ]
  },
  {
   "cell_type": "code",
   "execution_count": 60,
   "id": "9c818f70-8210-4299-a535-2ee39f9532de",
   "metadata": {},
   "outputs": [
    {
     "data": {
      "text/plain": [
       "vocabulary\n",
       "1.0     4.000000\n",
       "1.5    16.285714\n",
       "2.0     9.846774\n",
       "2.5     7.954545\n",
       "3.0     6.516966\n",
       "3.5     5.649454\n",
       "4.0     5.915078\n",
       "4.5     5.321739\n",
       "5.0     6.658537\n",
       "Name: miss_count, dtype: float64"
      ]
     },
     "execution_count": 60,
     "metadata": {},
     "output_type": "execute_result"
    }
   ],
   "source": [
    "df.groupby(['vocabulary'])['miss_count'].mean()"
   ]
  },
  {
   "cell_type": "code",
   "execution_count": 61,
   "id": "ac7e0055-de90-4dc9-8c17-756ef46ef1ee",
   "metadata": {},
   "outputs": [
    {
     "data": {
      "text/plain": [
       "syntax\n",
       "1.0    15.727273\n",
       "1.5    13.379310\n",
       "2.0     8.041463\n",
       "2.5     7.519666\n",
       "3.0     6.248000\n",
       "3.5     5.572088\n",
       "4.0     5.237113\n",
       "4.5     4.870000\n",
       "5.0     6.588235\n",
       "Name: miss_count, dtype: float64"
      ]
     },
     "execution_count": 61,
     "metadata": {},
     "output_type": "execute_result"
    }
   ],
   "source": [
    "df.groupby(['syntax'])['miss_count'].mean()"
   ]
  },
  {
   "cell_type": "code",
   "execution_count": 63,
   "id": "8f16b483-9e77-467f-ba63-f65ff26730c3",
   "metadata": {},
   "outputs": [
    {
     "data": {
      "text/plain": [
       "cohesion\n",
       "1.0    23.200000\n",
       "1.5    13.259259\n",
       "2.0     7.390476\n",
       "2.5     7.482278\n",
       "3.0     6.290146\n",
       "3.5     6.001012\n",
       "4.0     5.644195\n",
       "4.5     4.840000\n",
       "5.0     6.461538\n",
       "Name: miss_count, dtype: float64"
      ]
     },
     "execution_count": 63,
     "metadata": {},
     "output_type": "execute_result"
    }
   ],
   "source": [
    "df.groupby(['cohesion'])['miss_count'].mean()"
   ]
  },
  {
   "cell_type": "markdown",
   "id": "3d21f238-adbe-4c82-adea-72b589df5d67",
   "metadata": {},
   "source": [
    "#### 相関係数"
   ]
  },
  {
   "cell_type": "code",
   "execution_count": 67,
   "id": "9ccabbc3-86b9-4a5f-a7eb-923dde2e6e48",
   "metadata": {},
   "outputs": [
    {
     "name": "stdout",
     "output_type": "stream",
     "text": [
      "[[ 1.         -0.13592749]\n",
      " [-0.13592749  1.        ]]\n",
      "[[ 1.         -0.16417243]\n",
      " [-0.16417243  1.        ]]\n",
      "[[ 1.         -0.13151652]\n",
      " [-0.13151652  1.        ]]\n",
      "[[ 1.         -0.14528788]\n",
      " [-0.14528788  1.        ]]\n",
      "[[ 1.         -0.18643643]\n",
      " [-0.18643643  1.        ]]\n",
      "[[ 1.         -0.32957541]\n",
      " [-0.32957541  1.        ]]\n"
     ]
    }
   ],
   "source": [
    "miss_count = np.array(miss_count)\n",
    "col_list = ['cohesion', 'syntax', 'vocabulary','phraseology', 'grammar', 'conventions']\n",
    "for i in col_list:\n",
    "    conv = df[i].to_numpy()\n",
    "    print(np.corrcoef(miss_count, conv))"
   ]
  },
  {
   "cell_type": "code",
   "execution_count": null,
   "id": "ef6298f9-1e56-46d3-86c7-ddc66149013e",
   "metadata": {},
   "outputs": [],
   "source": [
    "miss_df = pd.DataFrame(con)"
   ]
  },
  {
   "cell_type": "code",
   "execution_count": 68,
   "id": "11c2dc6f-8dd0-4e92-b94e-fae9bdc234d1",
   "metadata": {},
   "outputs": [
    {
     "data": {
      "image/png": "[encoded data removed]",
      "text/plain": [
       "<Figure size 800x1000 with 1 Axes>"
      ]
     },
     "metadata": {},
     "output_type": "display_data"
    }
   ],
   "source": [
    "fig, ax = plt.subplots(figsize=(8.0, 10.0))\n",
    "#fig = plt.figure(figsize=(14,8))\n",
    "#ax = sns.jointplot(x = conv, y = miss_count, color = \"#6495ED\")\n",
    "ax.scatter(conv, miss_count)\n",
    "ax.invert_xaxis()"
   ]
  },
  {
   "cell_type": "code",
   "execution_count": 25,
   "id": "3ad9c9f8-e11e-45e4-8289-ac4c8ecb8079",
   "metadata": {},
   "outputs": [],
   "source": [
    "misspelled = spell.unknown(text_words)\n",
    "\n",
    "for word in misspelled:\n",
    "    # スペルミス\n",
    "    print(word)\n",
    "    # 最も可能性の高い単語\n",
    "    print(spell.correction(word))"
   ]
  },
  {
   "cell_type": "code",
   "execution_count": 24,
   "id": "96d00b69-d30e-4d76-83cd-afa855e09d56",
   "metadata": {},
   "outputs": [
    {
     "data": {
      "text/plain": [
       "set()"
      ]
     },
     "execution_count": 24,
     "metadata": {},
     "output_type": "execute_result"
    }
   ],
   "source": [
    "misspelled"
   ]
  },
  {
   "cell_type": "markdown",
   "id": "84635579-5d5a-42e0-a7a6-1ab4f7db8407",
   "metadata": {
    "tags": []
   },
   "source": [
    "### PyEnchant(使えていない)\n",
    "* pythonのスペルチェッカー"
   ]
  },
  {
   "cell_type": "code",
   "execution_count": 2,
   "id": "a9ab076d-9918-401e-8102-4e77c22c1bc6",
   "metadata": {},
   "outputs": [
    {
     "name": "stdout",
     "output_type": "stream",
     "text": [
      "Get:1 http://deb.debian.org/debian buster InRelease [122 kB]\n",
      "Get:2 http://security.debian.org/debian-security buster/updates InRelease [34.8 kB]\n",
      "Get:3 http://deb.debian.org/debian buster-updates InRelease [56.6 kB]\u001b[0m\u001b[33m\n",
      "Get:4 http://security.debian.org/debian-security buster/updates/main arm64 Packages [375 kB]\n",
      "Get:5 http://deb.debian.org/debian buster/main arm64 Packages [7737 kB]\n",
      "Get:6 http://deb.debian.org/debian buster-updates/main arm64 Packages [8780 B]\n",
      "Fetched 8334 kB in 1s (7703 kB/s)3m                       \u001b[0m\u001b[33m\u001b[33m\u001b[33m\n",
      "Reading package lists... Done\n",
      "Building dependency tree       \n",
      "Reading state information... Done\n",
      "109 packages can be upgraded. Run 'apt list --upgradable' to see them.\n",
      "Reading package lists... Done\n",
      "Building dependency tree       \n",
      "Reading state information... Done\n",
      "The following additional packages will be installed:\n",
      "  aspell aspell-en dictionaries-common emacsen-common hunspell-en-us\n",
      "  libaspell15 libenchant1c2a libhunspell-1.7-0 libtext-iconv-perl\n",
      "Suggested packages:\n",
      "  aspell-doc spellutils wordlist hunspell openoffice.org-hunspell\n",
      "  | openoffice.org-core libenchant-voikko\n",
      "The following NEW packages will be installed:\n",
      "  aspell aspell-en dictionaries-common emacsen-common enchant hunspell-en-us\n",
      "  libaspell15 libenchant1c2a libhunspell-1.7-0 libtext-iconv-perl\n",
      "0 upgraded, 10 newly installed, 0 to remove and 109 not upgraded.\n",
      "Need to get 1527 kB of archives.\n",
      "After this operation, 5925 kB of additional disk space will be used.\n",
      "Do you want to continue? [Y/n] ^C\n",
      "The following additional packages will be installed:\n",
      "  aspell aspell-en dictionaries-common emacsen-common hunspell-en-us\n",
      "  libaspell15 libenchant1c2a libhunspell-1.7-0 libtext-iconv-perl\n",
      "Suggested packages:\n",
      "  aspell-doc spellutils wordlist hunspell openoffice.org-hunspell\n",
      "  | openoffice.org-core libenchant-voikko\n",
      "The following NEW packages will be installed:\n",
      "  aspell aspell-en dictionaries-common emacsen-common enchant hunspell-en-us\n",
      "  libaspell15 libenchant1c2a libhunspell-1.7-0 libtext-iconv-perl\n",
      "0 upgraded, 10 newly installed, 0 to remove and 109 not upgraded.\n",
      "Need to get 1527 kB of archives.\n",
      "After this operation, 5925 kB of additional disk space will be used.\n",
      "Do you want to continue? [Y/n] ^C\n",
      "Requirement already satisfied: pyenchant in /usr/local/lib/python3.9/site-packages (3.2.2)\n",
      "\u001b[33mWARNING: Running pip as the 'root' user can result in broken permissions and conflicting behaviour with the system package manager. It is recommended to use a virtual environment instead: https://pip.pypa.io/warnings/venv\u001b[0m\u001b[33m\n",
      "\u001b[0m"
     ]
    }
   ],
   "source": [
    "!apt update\n",
    "!apt install enchant --fix-missing\n",
    "!apt install -qq enchant\n",
    "!pip install pyenchant"
   ]
  },
  {
   "cell_type": "code",
   "execution_count": 8,
   "id": "cd7272f8-642f-4ead-b226-39e1b821d74a",
   "metadata": {},
   "outputs": [
    {
     "name": "stdout",
     "output_type": "stream",
     "text": [
      "Requirement already satisfied: pyenchant in /usr/local/lib/python3.9/site-packages (3.2.2)\n",
      "\u001b[33mWARNING: Running pip as the 'root' user can result in broken permissions and conflicting behaviour with the system package manager. It is recommended to use a virtual environment instead: https://pip.pypa.io/warnings/venv\u001b[0m\u001b[33m\n",
      "\u001b[0m"
     ]
    }
   ],
   "source": [
    "#%%capture\n",
    "!pip install pyenchant"
   ]
  },
  {
   "cell_type": "code",
   "execution_count": 3,
   "id": "65b3d332-7383-47da-967b-476a3390620a",
   "metadata": {},
   "outputs": [
    {
     "ename": "ImportError",
     "evalue": "The 'enchant' C library was not found and maybe needs to be installed.\nSee  https://pyenchant.github.io/pyenchant/install.html\nfor details\n",
     "output_type": "error",
     "traceback": [
      "\u001b[0;31m---------------------------------------------------------------------------\u001b[0m",
      "\u001b[0;31mImportError\u001b[0m                               Traceback (most recent call last)",
      "Cell \u001b[0;32mIn [3], line 1\u001b[0m\n\u001b[0;32m----> 1\u001b[0m \u001b[38;5;28;01mimport\u001b[39;00m \u001b[38;5;21;01menchant\u001b[39;00m\n\u001b[1;32m      2\u001b[0m d \u001b[38;5;241m=\u001b[39m enchant\u001b[38;5;241m.\u001b[39mDict(\u001b[38;5;124m\"\u001b[39m\u001b[38;5;124men_US\u001b[39m\u001b[38;5;124m\"\u001b[39m)\n\u001b[1;32m      3\u001b[0m d\u001b[38;5;241m.\u001b[39mcheck(\u001b[38;5;124m\"\u001b[39m\u001b[38;5;124mHello\u001b[39m\u001b[38;5;124m\"\u001b[39m)\n",
      "File \u001b[0;32m/usr/local/lib/python3.9/site-packages/enchant/__init__.py:81\u001b[0m\n\u001b[1;32m     78\u001b[0m \u001b[38;5;28;01mimport\u001b[39;00m \u001b[38;5;21;01mwarnings\u001b[39;00m\n\u001b[1;32m     80\u001b[0m \u001b[38;5;28;01mtry\u001b[39;00m:\n\u001b[0;32m---> 81\u001b[0m     \u001b[38;5;28;01mfrom\u001b[39;00m \u001b[38;5;21;01menchant\u001b[39;00m \u001b[38;5;28;01mimport\u001b[39;00m _enchant \u001b[38;5;28;01mas\u001b[39;00m _e\n\u001b[1;32m     82\u001b[0m \u001b[38;5;28;01mexcept\u001b[39;00m \u001b[38;5;167;01mImportError\u001b[39;00m:\n\u001b[1;32m     83\u001b[0m     \u001b[38;5;28;01mif\u001b[39;00m \u001b[38;5;129;01mnot\u001b[39;00m os\u001b[38;5;241m.\u001b[39menviron\u001b[38;5;241m.\u001b[39mget(\u001b[38;5;124m\"\u001b[39m\u001b[38;5;124mPYENCHANT_IGNORE_MISSING_LIB\u001b[39m\u001b[38;5;124m\"\u001b[39m, \u001b[38;5;28;01mFalse\u001b[39;00m):\n",
      "File \u001b[0;32m/usr/local/lib/python3.9/site-packages/enchant/_enchant.py:157\u001b[0m\n\u001b[1;32m    149\u001b[0m \u001b[38;5;28;01mif\u001b[39;00m enchant_lib_path \u001b[38;5;129;01mis\u001b[39;00m \u001b[38;5;28;01mNone\u001b[39;00m:\n\u001b[1;32m    150\u001b[0m     msg \u001b[38;5;241m=\u001b[39m textwrap\u001b[38;5;241m.\u001b[39mdedent(\n\u001b[1;32m    151\u001b[0m         \u001b[38;5;124;03m\"\"\"\\\u001b[39;00m\n\u001b[1;32m    152\u001b[0m \u001b[38;5;124;03m        The 'enchant' C library was not found and maybe needs to be installed.\u001b[39;00m\n\u001b[0;32m   (...)\u001b[0m\n\u001b[1;32m    155\u001b[0m \u001b[38;5;124;03m        \"\"\"\u001b[39;00m\n\u001b[1;32m    156\u001b[0m     )\n\u001b[0;32m--> 157\u001b[0m     \u001b[38;5;28;01mraise\u001b[39;00m \u001b[38;5;167;01mImportError\u001b[39;00m(msg)\n\u001b[1;32m    160\u001b[0m find_message(\u001b[38;5;124m\"\u001b[39m\u001b[38;5;124mloading library \u001b[39m\u001b[38;5;124m\"\u001b[39m, enchant_lib_path)\n\u001b[1;32m    161\u001b[0m e \u001b[38;5;241m=\u001b[39m ctypes\u001b[38;5;241m.\u001b[39mcdll\u001b[38;5;241m.\u001b[39mLoadLibrary(enchant_lib_path)\n",
      "\u001b[0;31mImportError\u001b[0m: The 'enchant' C library was not found and maybe needs to be installed.\nSee  https://pyenchant.github.io/pyenchant/install.html\nfor details\n"
     ]
    }
   ],
   "source": [
    "import enchant\n",
    "d = enchant.Dict(\"en_US\")\n",
    "d.check(\"Hello\")"
   ]
  },
  {
   "cell_type": "code",
   "execution_count": null,
   "id": "6554a503-ecac-4e63-be2f-9db65f632120",
   "metadata": {},
   "outputs": [],
   "source": [
    "d.check(\"Helo\")"
   ]
  }
 ],
 "metadata": {
  "kernelspec": {
   "display_name": "Python 3 (ipykernel)",
   "language": "python",
   "name": "python3"
  },
  "language_info": {
   "codemirror_mode": {
    "name": "ipython",
    "version": 3
   },
   "file_extension": ".py",
   "mimetype": "text/x-python",
   "name": "python",
   "nbconvert_exporter": "python",
   "pygments_lexer": "ipython3",
   "version": "3.9.7"
  }
 },
 "nbformat": 4,
 "nbformat_minor": 5
}
