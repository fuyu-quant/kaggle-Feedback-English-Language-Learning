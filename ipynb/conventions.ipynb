{
 "cells": [
  {
   "cell_type": "markdown",
   "id": "e49191c7-5b9c-4b55-92c9-6832e5b26713",
   "metadata": {},
   "source": [
    "## Conventions\n",
    "* スペルミス，大文字，小文字，句読点の間違い"
   ]
  },
  {
   "cell_type": "code",
   "execution_count": null,
   "id": "cd7272f8-642f-4ead-b226-39e1b821d74a",
   "metadata": {},
   "outputs": [],
   "source": [
    "%%capture\n",
    "!pip install pyenchant"
   ]
  }
 ],
 "metadata": {
  "kernelspec": {
   "display_name": "Python 3 (ipykernel)",
   "language": "python",
   "name": "python3"
  },
  "language_info": {
   "codemirror_mode": {
    "name": "ipython",
    "version": 3
   },
   "file_extension": ".py",
   "mimetype": "text/x-python",
   "name": "python",
   "nbconvert_exporter": "python",
   "pygments_lexer": "ipython3",
   "version": "3.9.7"
  }
 },
 "nbformat": 4,
 "nbformat_minor": 5
}
