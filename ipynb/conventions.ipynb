{
 "cells": [
  {
   "cell_type": "markdown",
   "id": "e49191c7-5b9c-4b55-92c9-6832e5b26713",
   "metadata": {},
   "source": [
    "## Conventions\n",
    "* スペルミス\n",
    "* 文頭は大文字(コロン，疑問符)\n",
    "* 文字数も関係してる気がする(スペルミスなどが多いのに点数が高かったり，少ないのに点数が低かったりするため)\n",
    "* 引用の後は大文字になっているか\n",
    "* 曜日，月，祝日は大文字\n",
    "* 小文字，句読点の間違い\n",
    "* 固有表現抽出(https://qiita.com/m__k/items/ffd3b7774f2fde1083fa#%E5%9B%BA%E6%9C%89%E8%A1%A8%E7%8F%BE%E6%8A%BD%E5%87%BAnamed-entities)"
   ]
  },
  {
   "cell_type": "code",
   "execution_count": 400,
   "id": "aa9cf3b8-7760-465e-8142-9f2e421aaa03",
   "metadata": {},
   "outputs": [],
   "source": [
    "import pandas as pd\n",
    "import numpy as np\n",
    "import matplotlib.pyplot as plt\n",
    "import seaborn as sns\n",
    "import re\n",
    "import random"
   ]
  },
  {
   "cell_type": "markdown",
   "id": "6d66f34d-de8d-4a39-bf19-e713456c6b49",
   "metadata": {},
   "source": [
    "## スペルミス\n",
    "* https://qiita.com/seigot/items/3b29b4d03297c4275bb1"
   ]
  },
  {
   "cell_type": "markdown",
   "id": "bcec558e-abca-40e9-ad87-ca505b815d16",
   "metadata": {
    "tags": []
   },
   "source": [
    "### pyspellchecker\n",
    "* 句読点を全て削除してからが良さそう"
   ]
  },
  {
   "cell_type": "code",
   "execution_count": 4,
   "id": "071f584f-dc06-40a7-8883-eee53e2fb3f4",
   "metadata": {},
   "outputs": [
    {
     "name": "stdout",
     "output_type": "stream",
     "text": [
      "Collecting pyspellchecker\n",
      "  Downloading pyspellchecker-0.7.0-py3-none-any.whl (2.5 MB)\n",
      "\u001b[2K     \u001b[90m━━━━━━━━━━━━━━━━━━━━━━━━━━━━━━━━━━━━━━━━\u001b[0m \u001b[32m2.5/2.5 MB\u001b[0m \u001b[31m50.0 MB/s\u001b[0m eta \u001b[36m0:00:00\u001b[0ma \u001b[36m0:00:01\u001b[0m\n",
      "\u001b[?25hInstalling collected packages: pyspellchecker\n",
      "Successfully installed pyspellchecker-0.7.0\n",
      "\u001b[33mWARNING: Running pip as the 'root' user can result in broken permissions and conflicting behaviour with the system package manager. It is recommended to use a virtual environment instead: https://pip.pypa.io/warnings/venv\u001b[0m\u001b[33m\n",
      "\u001b[0m"
     ]
    }
   ],
   "source": [
    "%%capture\n",
    "!pip install pyspellchecker"
   ]
  },
  {
   "cell_type": "code",
   "execution_count": 5,
   "id": "c99c8a3a-5111-4570-b2fb-f1dcd1062ea3",
   "metadata": {},
   "outputs": [],
   "source": [
    "from spellchecker import SpellChecker\n",
    "\n",
    "spell = SpellChecker()"
   ]
  },
  {
   "cell_type": "code",
   "execution_count": 6,
   "id": "65f278c6-51dd-481b-8b50-89db2981255d",
   "metadata": {},
   "outputs": [
    {
     "name": "stdout",
     "output_type": "stream",
     "text": [
      "happening\n",
      "{'happening', 'henning', 'penning'}\n"
     ]
    }
   ],
   "source": [
    "misspelled = spell.unknown(['something', 'is', 'hapenning', 'here'])\n",
    "\n",
    "for word in misspelled:\n",
    "    # Get the one `most likely` answer\n",
    "    print(spell.correction(word))\n",
    "\n",
    "    # Get a list of `likely` options\n",
    "    print(spell.candidates(word))"
   ]
  },
  {
   "cell_type": "code",
   "execution_count": 9,
   "id": "9b9227f9-5aed-4abc-93fc-b30e8368aa1e",
   "metadata": {},
   "outputs": [],
   "source": [
    "df = pd.read_csv('/workspace/kaggle_data/train.csv')\n",
    "text = df['full_text']"
   ]
  },
  {
   "cell_type": "code",
   "execution_count": 398,
   "id": "e9c0d4b1-237a-47d5-a817-726eb283ef09",
   "metadata": {},
   "outputs": [
    {
     "data": {
      "text/plain": [
       "\"Dear, Principal\\n\\nIf u change the school policy of having a grade b average that unfair. Because many students have a C average. So that means that they cant go out for sports or other activities they want to do bad. That's like taking everything they have. What if kids want to become good at something, but now they cant because of that school policy. If they have a C average they should still be able to go out for sports or activities. A C average isn't that bad, its higher then a D average. If the school police was if you have a D average of lower they shouldn't do sports or activities. If they have a D average in school for not working hard, that's means that they in ain't going to try hard. If they have a C average and there trying hard they should be able to out for sports or activities. What if all the good people in sports have a C average in school, that means that they cant play and were going to lose every game we have. That's a good policy to get grade's up but don't take away something they care about. Everyone should be able to go out for sports if they want to. If the school policy happens, schools going to be boarding now, because now students cant go out for sports or other activities. The students that are doing good in school should feel good about themselves but we shouldn't take the other students away from the others ones. If we do this policy student will try to raised their grade but if they cant what happens they them. Should they just be out of it and think that schools boarding. If they do this its like taking away their video games. All I'm saying is that they have the right to go out for sports or activities.\""
      ]
     },
     "execution_count": 398,
     "metadata": {},
     "output_type": "execute_result"
    }
   ],
   "source": [
    "text[2]"
   ]
  },
  {
   "cell_type": "code",
   "execution_count": 72,
   "id": "9512fa88-1d98-4a2e-9574-a9e285ab1a47",
   "metadata": {},
   "outputs": [],
   "source": [
    "# 改行の削除\n",
    "new_text = text[0].replace('\\n', '')\n",
    "# 句読点を抜く\n",
    "new_text = new_text.replace('.', ' ')\n",
    "new_text = new_text.replace(',', ' ')\n",
    "\n",
    "new_text = new_text.replace('!', '')\n",
    "new_text = new_text.replace('?', '')\n",
    "new_text = new_text.replace('\"', '')\n",
    "\n",
    "new_text = new_text.replace(':', '')\n",
    "new_text = new_text.replace(';', '')\n",
    "\n",
    "# 文字列に数字が入るもの"
   ]
  },
  {
   "cell_type": "code",
   "execution_count": 73,
   "id": "a97d144e-dccc-4454-be8a-2ec6131496ca",
   "metadata": {},
   "outputs": [
    {
     "data": {
      "text/plain": [
       "\"I think that students would benefit from learning at home because they wont have to change and get up early in the morning to shower and do there hair  taking only classes helps them because at there house they'll be pay more attention  they will be comfortable at home The hardest part of school is getting ready  you wake up go brush your teeth and go to your closet and look at your cloths  after you think you picked a outfit u go look in the mirror and youll either not like it or you look and see a stain  Then you'll have to change  with the online classes you can wear anything and stay home and you wont need to stress about what to wear most students usually take showers before school  they either take it before they sleep or when they wake up  some students do both to smell good  that causes them do miss the bus and effects on there lesson time cause they come late to school  when u have online classes u wont need to miss lessons cause you can get everything set up and go take a shower and when u get out your ready to go when your home your comfortable and you pay attention  it gives then an advantage to be smarter and even pass there classmates on class work  public schools are difficult even if you try  some teacher dont know how to teach it in then way that students understand it  that causes students to fail and they may repeat the class               \""
      ]
     },
     "execution_count": 73,
     "metadata": {},
     "output_type": "execute_result"
    }
   ],
   "source": [
    "new_text"
   ]
  },
  {
   "cell_type": "code",
   "execution_count": 74,
   "id": "7da61d4d-bb8b-4711-bf62-d8caad109f69",
   "metadata": {},
   "outputs": [
    {
     "name": "stdout",
     "output_type": "stream",
     "text": [
      "['I', 'think', 'that', 'students', 'would', 'benefit', 'from', 'learning', 'at', 'home', 'because', 'they', 'wont', 'have', 'to', 'change', 'and', 'get', 'up', 'early', 'in', 'the', 'morning', 'to', 'shower', 'and', 'do', 'there', 'hair', 'taking', 'only', 'classes', 'helps', 'them', 'because', 'at', 'there', 'house', \"they'll\", 'be', 'pay', 'more', 'attention', 'they', 'will', 'be', 'comfortable', 'at', 'home', 'The', 'hardest', 'part', 'of', 'school', 'is', 'getting', 'ready', 'you', 'wake', 'up', 'go', 'brush', 'your', 'teeth', 'and', 'go', 'to', 'your', 'closet', 'and', 'look', 'at', 'your', 'cloths', 'after', 'you', 'think', 'you', 'picked', 'a', 'outfit', 'u', 'go', 'look', 'in', 'the', 'mirror', 'and', 'youll', 'either', 'not', 'like', 'it', 'or', 'you', 'look', 'and', 'see', 'a', 'stain', 'Then', \"you'll\", 'have', 'to', 'change', 'with', 'the', 'online', 'classes', 'you', 'can', 'wear', 'anything', 'and', 'stay', 'home', 'and', 'you', 'wont', 'need', 'to', 'stress', 'about', 'what', 'to', 'wear', 'most', 'students', 'usually', 'take', 'showers', 'before', 'school', 'they', 'either', 'take', 'it', 'before', 'they', 'sleep', 'or', 'when', 'they', 'wake', 'up', 'some', 'students', 'do', 'both', 'to', 'smell', 'good', 'that', 'causes', 'them', 'do', 'miss', 'the', 'bus', 'and', 'effects', 'on', 'there', 'lesson', 'time', 'cause', 'they', 'come', 'late', 'to', 'school', 'when', 'u', 'have', 'online', 'classes', 'u', 'wont', 'need', 'to', 'miss', 'lessons', 'cause', 'you', 'can', 'get', 'everything', 'set', 'up', 'and', 'go', 'take', 'a', 'shower', 'and', 'when', 'u', 'get', 'out', 'your', 'ready', 'to', 'go', 'when', 'your', 'home', 'your', 'comfortable', 'and', 'you', 'pay', 'attention', 'it', 'gives', 'then', 'an', 'advantage', 'to', 'be', 'smarter', 'and', 'even', 'pass', 'there', 'classmates', 'on', 'class', 'work', 'public', 'schools', 'are', 'difficult', 'even', 'if', 'you', 'try', 'some', 'teacher', 'dont', 'know', 'how', 'to', 'teach', 'it', 'in', 'then', 'way', 'that', 'students', 'understand', 'it', 'that', 'causes', 'students', 'to', 'fail', 'and', 'they', 'may', 'repeat', 'the', 'class']\n"
     ]
    }
   ],
   "source": [
    "text_words = new_text.split()\n",
    "print(text_words)"
   ]
  },
  {
   "cell_type": "code",
   "execution_count": null,
   "id": "4157059b-7802-442b-9f32-5f79b280fe35",
   "metadata": {},
   "outputs": [],
   "source": [
    "# 正しいのにカウントされているもの\n",
    "# you're\n",
    "# tv\n",
    "# 'がついているもの\n",
    "# `がついている\n",
    "# 1文字のもの\n",
    "# シングルクオートがついている省略表現を列挙"
   ]
  },
  {
   "cell_type": "code",
   "execution_count": 125,
   "id": "0577bb86-bff7-4f78-bf18-4bbcc1189579",
   "metadata": {},
   "outputs": [
    {
     "data": {
      "text/plain": [
       "True"
      ]
     },
     "execution_count": 125,
     "metadata": {},
     "output_type": "execute_result"
    }
   ],
   "source": [
    "str1 = \"12345\"\n",
    "\n",
    "any(chr.isdigit() for chr in str1)"
   ]
  },
  {
   "cell_type": "markdown",
   "id": "6377862f-19de-4a17-a8f7-1ed947214cb0",
   "metadata": {},
   "source": [
    "#### ミススペルをカウントする関数"
   ]
  },
  {
   "cell_type": "code",
   "execution_count": 303,
   "id": "b77a12a8-a667-452b-88ee-33a3b5eb8f2c",
   "metadata": {},
   "outputs": [],
   "source": [
    "def misspell_count(text):\n",
    "    # 改行の削除\n",
    "    text = text.replace('\\n', '')\n",
    "    text = text.replace('\\r', '')\n",
    "    # 句読点を抜く\n",
    "    text = text.replace('.', ' ')\n",
    "    text = text.replace(',', ' ')\n",
    "    text = text.replace('!', ' ')\n",
    "    text = text.replace('?', ' ')\n",
    "    # ダブルクォーテーションで囲まれているものの中身だけ取り出す\n",
    "    #text = text.strip('\"')\n",
    "    text = text.replace('\"', ' ')\n",
    "    # シングルクオートをそのまま削除するのは上手くいかない\n",
    "    #text = text.replace(\"''\", ' ')   \n",
    "    text = text.replace(':', ' ')\n",
    "    text = text.replace(';', ' ')\n",
    "    text = text.replace('/', ' ')\n",
    "    text = text.replace('-', ' ')\n",
    "    text = text.replace('(', ' ')\n",
    "    text = text.replace(')', ' ')\n",
    "    text = text.replace('_', ' ')\n",
    "    #text = text.replace('\\', ' ')\n",
    "    \n",
    "    # 固有名詞も除きたいかも\n",
    "    \n",
    "    text_words = text.split()\n",
    "    misspelled = spell.unknown(text_words)\n",
    "    count = 0\n",
    "    for word in misspelled:\n",
    "        # 一文字をミススペルに入れた方が相関係数が高い\n",
    "        #if len(word) == 1:\n",
    "         #   count = count\n",
    "        # 数字が含まれる時はカウントしない\n",
    "        # 数字が含まれているものも未知語としてカウントされるため\n",
    "        if any(chr.isdigit() for chr in word):\n",
    "            count = count\n",
    "        else:\n",
    "            count += 1\n",
    "            # スペルミス\n",
    "            #print(word)\n",
    "        # 最も可能性の高い単語\n",
    "        #print(spell.correction(word))\n",
    "    #print(count)\n",
    "    return count "
   ]
  },
  {
   "cell_type": "code",
   "execution_count": 304,
   "id": "54e5a654-f537-4fea-b96f-75bd3279d8be",
   "metadata": {},
   "outputs": [],
   "source": [
    "miss_count = []\n",
    "\n",
    "for i in range(3911):\n",
    "    check_text = text[i]\n",
    "    m_count = misspell_count(check_text)\n",
    "    miss_count.append(m_count)\n",
    "\n",
    "#miss_count"
   ]
  },
  {
   "cell_type": "markdown",
   "id": "70ad18c4-19f9-4d48-a1d6-efb928fb84e7",
   "metadata": {},
   "source": [
    "#### 各目的変数ごとの平均"
   ]
  },
  {
   "cell_type": "code",
   "execution_count": 305,
   "id": "c0655a10-97d2-4bbc-9032-cec254258eaf",
   "metadata": {},
   "outputs": [],
   "source": [
    "df['miss_count'] = miss_count"
   ]
  },
  {
   "cell_type": "code",
   "execution_count": 306,
   "id": "bb3afb75-d050-4ed0-9392-3b733dafd447",
   "metadata": {},
   "outputs": [
    {
     "data": {
      "text/html": [
       "<div>\n",
       "<style scoped>\n",
       "    .dataframe tbody tr th:only-of-type {\n",
       "        vertical-align: middle;\n",
       "    }\n",
       "\n",
       "    .dataframe tbody tr th {\n",
       "        vertical-align: top;\n",
       "    }\n",
       "\n",
       "    .dataframe thead th {\n",
       "        text-align: right;\n",
       "    }\n",
       "</style>\n",
       "<table border=\"1\" class=\"dataframe\">\n",
       "  <thead>\n",
       "    <tr style=\"text-align: right;\">\n",
       "      <th></th>\n",
       "      <th>text_id</th>\n",
       "      <th>full_text</th>\n",
       "      <th>cohesion</th>\n",
       "      <th>syntax</th>\n",
       "      <th>vocabulary</th>\n",
       "      <th>phraseology</th>\n",
       "      <th>grammar</th>\n",
       "      <th>conventions</th>\n",
       "      <th>miss_count</th>\n",
       "    </tr>\n",
       "  </thead>\n",
       "  <tbody>\n",
       "    <tr>\n",
       "      <th>0</th>\n",
       "      <td>0016926B079C</td>\n",
       "      <td>I think that students would benefit from learn...</td>\n",
       "      <td>3.5</td>\n",
       "      <td>3.5</td>\n",
       "      <td>3.0</td>\n",
       "      <td>3.0</td>\n",
       "      <td>4.0</td>\n",
       "      <td>3.0</td>\n",
       "      <td>0</td>\n",
       "    </tr>\n",
       "    <tr>\n",
       "      <th>1</th>\n",
       "      <td>0022683E9EA5</td>\n",
       "      <td>When a problem is a change you have to let it ...</td>\n",
       "      <td>2.5</td>\n",
       "      <td>2.5</td>\n",
       "      <td>3.0</td>\n",
       "      <td>2.0</td>\n",
       "      <td>2.0</td>\n",
       "      <td>2.5</td>\n",
       "      <td>1</td>\n",
       "    </tr>\n",
       "    <tr>\n",
       "      <th>2</th>\n",
       "      <td>00299B378633</td>\n",
       "      <td>Dear, Principal\\n\\nIf u change the school poli...</td>\n",
       "      <td>3.0</td>\n",
       "      <td>3.5</td>\n",
       "      <td>3.0</td>\n",
       "      <td>3.0</td>\n",
       "      <td>3.0</td>\n",
       "      <td>2.5</td>\n",
       "      <td>4</td>\n",
       "    </tr>\n",
       "    <tr>\n",
       "      <th>3</th>\n",
       "      <td>003885A45F42</td>\n",
       "      <td>The best time in life is when you become yours...</td>\n",
       "      <td>4.5</td>\n",
       "      <td>4.5</td>\n",
       "      <td>4.5</td>\n",
       "      <td>4.5</td>\n",
       "      <td>4.0</td>\n",
       "      <td>5.0</td>\n",
       "      <td>1</td>\n",
       "    </tr>\n",
       "    <tr>\n",
       "      <th>4</th>\n",
       "      <td>0049B1DF5CCC</td>\n",
       "      <td>Small act of kindness can impact in other peop...</td>\n",
       "      <td>2.5</td>\n",
       "      <td>3.0</td>\n",
       "      <td>3.0</td>\n",
       "      <td>3.0</td>\n",
       "      <td>2.5</td>\n",
       "      <td>2.5</td>\n",
       "      <td>7</td>\n",
       "    </tr>\n",
       "  </tbody>\n",
       "</table>\n",
       "</div>"
      ],
      "text/plain": [
       "        text_id                                          full_text  cohesion  \\\n",
       "0  0016926B079C  I think that students would benefit from learn...       3.5   \n",
       "1  0022683E9EA5  When a problem is a change you have to let it ...       2.5   \n",
       "2  00299B378633  Dear, Principal\\n\\nIf u change the school poli...       3.0   \n",
       "3  003885A45F42  The best time in life is when you become yours...       4.5   \n",
       "4  0049B1DF5CCC  Small act of kindness can impact in other peop...       2.5   \n",
       "\n",
       "   syntax  vocabulary  phraseology  grammar  conventions  miss_count  \n",
       "0     3.5         3.0          3.0      4.0          3.0           0  \n",
       "1     2.5         3.0          2.0      2.0          2.5           1  \n",
       "2     3.5         3.0          3.0      3.0          2.5           4  \n",
       "3     4.5         4.5          4.5      4.0          5.0           1  \n",
       "4     3.0         3.0          3.0      2.5          2.5           7  "
      ]
     },
     "execution_count": 306,
     "metadata": {},
     "output_type": "execute_result"
    }
   ],
   "source": [
    "df.head()"
   ]
  },
  {
   "cell_type": "code",
   "execution_count": 307,
   "id": "2b17456b-5e67-467d-a25a-78a679ddf6f9",
   "metadata": {},
   "outputs": [
    {
     "data": {
      "text/plain": [
       "conventions\n",
       "1.0    21.666667\n",
       "1.5    11.950000\n",
       "2.0     9.965174\n",
       "2.5     5.977041\n",
       "3.0     3.854040\n",
       "3.5     2.656388\n",
       "4.0     1.716942\n",
       "4.5     1.877049\n",
       "5.0     2.240000\n",
       "Name: miss_count, dtype: float64"
      ]
     },
     "execution_count": 307,
     "metadata": {},
     "output_type": "execute_result"
    }
   ],
   "source": [
    "df.groupby(['conventions'])['miss_count'].mean()"
   ]
  },
  {
   "cell_type": "code",
   "execution_count": 308,
   "id": "d5d3ca4b-b07c-4ca5-9d5f-351072b66889",
   "metadata": {},
   "outputs": [
    {
     "data": {
      "text/plain": [
       "grammar\n",
       "1.0    16.625000\n",
       "1.5    14.000000\n",
       "2.0     6.615809\n",
       "2.5     5.290058\n",
       "3.0     4.196177\n",
       "3.5     3.332955\n",
       "4.0     2.691275\n",
       "4.5     2.298507\n",
       "5.0     2.413793\n",
       "Name: miss_count, dtype: float64"
      ]
     },
     "execution_count": 308,
     "metadata": {},
     "output_type": "execute_result"
    }
   ],
   "source": [
    "df.groupby(['grammar'])['miss_count'].mean()"
   ]
  },
  {
   "cell_type": "code",
   "execution_count": 309,
   "id": "c0b93af3-66c2-4378-b11d-3914dc73711c",
   "metadata": {},
   "outputs": [
    {
     "data": {
      "text/plain": [
       "phraseology\n",
       "1.0    11.400000\n",
       "1.5     9.636364\n",
       "2.0     7.411429\n",
       "2.5     5.483161\n",
       "3.0     4.307025\n",
       "3.5     3.406889\n",
       "4.0     3.019892\n",
       "4.5     2.648148\n",
       "5.0     3.440000\n",
       "Name: miss_count, dtype: float64"
      ]
     },
     "execution_count": 309,
     "metadata": {},
     "output_type": "execute_result"
    }
   ],
   "source": [
    "df.groupby(['phraseology'])['miss_count'].mean()"
   ]
  },
  {
   "cell_type": "code",
   "execution_count": 310,
   "id": "9c818f70-8210-4299-a535-2ee39f9532de",
   "metadata": {},
   "outputs": [
    {
     "data": {
      "text/plain": [
       "vocabulary\n",
       "1.0     4.000000\n",
       "1.5    15.357143\n",
       "2.0     8.395161\n",
       "2.5     6.363636\n",
       "3.0     4.613440\n",
       "3.5     3.461768\n",
       "4.0     3.112652\n",
       "4.5     2.104348\n",
       "5.0     3.365854\n",
       "Name: miss_count, dtype: float64"
      ]
     },
     "execution_count": 310,
     "metadata": {},
     "output_type": "execute_result"
    }
   ],
   "source": [
    "df.groupby(['vocabulary'])['miss_count'].mean()"
   ]
  },
  {
   "cell_type": "code",
   "execution_count": 311,
   "id": "ac7e0055-de90-4dc9-8c17-756ef46ef1ee",
   "metadata": {},
   "outputs": [
    {
     "data": {
      "text/plain": [
       "syntax\n",
       "1.0    14.818182\n",
       "1.5    12.137931\n",
       "2.0     6.441463\n",
       "2.5     5.644815\n",
       "3.0     4.102400\n",
       "3.5     3.237601\n",
       "4.0     2.951031\n",
       "4.5     2.060000\n",
       "5.0     2.470588\n",
       "Name: miss_count, dtype: float64"
      ]
     },
     "execution_count": 311,
     "metadata": {},
     "output_type": "execute_result"
    }
   ],
   "source": [
    "df.groupby(['syntax'])['miss_count'].mean()"
   ]
  },
  {
   "cell_type": "code",
   "execution_count": 312,
   "id": "8f16b483-9e77-467f-ba63-f65ff26730c3",
   "metadata": {},
   "outputs": [
    {
     "data": {
      "text/plain": [
       "cohesion\n",
       "1.0    22.500000\n",
       "1.5    11.259259\n",
       "2.0     5.869841\n",
       "2.5     5.612658\n",
       "3.0     4.354015\n",
       "3.5     3.736842\n",
       "4.0     3.011236\n",
       "4.5     2.088000\n",
       "5.0     2.884615\n",
       "Name: miss_count, dtype: float64"
      ]
     },
     "execution_count": 312,
     "metadata": {},
     "output_type": "execute_result"
    }
   ],
   "source": [
    "df.groupby(['cohesion'])['miss_count'].mean()"
   ]
  },
  {
   "cell_type": "markdown",
   "id": "3d21f238-adbe-4c82-adea-72b589df5d67",
   "metadata": {},
   "source": [
    "#### 相関係数"
   ]
  },
  {
   "cell_type": "code",
   "execution_count": 313,
   "id": "9ccabbc3-86b9-4a5f-a7eb-923dde2e6e48",
   "metadata": {},
   "outputs": [
    {
     "name": "stdout",
     "output_type": "stream",
     "text": [
      "[[ 1.        -0.2065483]\n",
      " [-0.2065483  1.       ]]\n",
      "[[ 1.         -0.22868661]\n",
      " [-0.22868661  1.        ]]\n",
      "[[ 1.         -0.21807884]\n",
      " [-0.21807884  1.        ]]\n",
      "[[ 1.         -0.21463257]\n",
      " [-0.21463257  1.        ]]\n",
      "[[ 1.         -0.23730827]\n",
      " [-0.23730827  1.        ]]\n",
      "[[ 1.         -0.40318494]\n",
      " [-0.40318494  1.        ]]\n"
     ]
    }
   ],
   "source": [
    "miss_count = np.array(miss_count)\n",
    "col_list = ['cohesion', 'syntax', 'vocabulary','phraseology', 'grammar', 'conventions']\n",
    "for i in col_list:\n",
    "    conv = df[i].to_numpy()\n",
    "    print(np.corrcoef(miss_count, conv))"
   ]
  },
  {
   "cell_type": "markdown",
   "id": "d92a2372-700d-47c8-8f5c-3438affa9675",
   "metadata": {},
   "source": [
    "* 最もたかい相関係数  0.40318494"
   ]
  },
  {
   "cell_type": "code",
   "execution_count": null,
   "id": "14e77403-32b6-4474-bde1-99b0f348fadf",
   "metadata": {},
   "outputs": [],
   "source": [
    "fig, ax = plt.subplots(figsize=(8.0, 10.0))\n",
    "#fig = plt.figure(figsize=(14,8))\n",
    "#ax = sns.jointplot(x = conv, y = miss_count, color = \"#6495ED\")\n",
    "ax.scatter(conv, miss_count)\n",
    "ax.invert_xaxis()"
   ]
  },
  {
   "cell_type": "code",
   "execution_count": 86,
   "id": "3ad9c9f8-e11e-45e4-8289-ac4c8ecb8079",
   "metadata": {},
   "outputs": [],
   "source": [
    "misspelled = spell.unknown(text_words)\n",
    "\n",
    "for word in misspelled:\n",
    "    # スペルミス\n",
    "    print(word)\n",
    "    # 最も可能性の高い単語\n",
    "    print(spell.correction(word))"
   ]
  },
  {
   "cell_type": "code",
   "execution_count": 24,
   "id": "96d00b69-d30e-4d76-83cd-afa855e09d56",
   "metadata": {},
   "outputs": [
    {
     "data": {
      "text/plain": [
       "set()"
      ]
     },
     "execution_count": 24,
     "metadata": {},
     "output_type": "execute_result"
    }
   ],
   "source": [
    "misspelled"
   ]
  },
  {
   "cell_type": "markdown",
   "id": "84635579-5d5a-42e0-a7a6-1ab4f7db8407",
   "metadata": {
    "tags": []
   },
   "source": [
    "### PyEnchant(使えていない)\n",
    "* pythonのスペルチェッカー"
   ]
  },
  {
   "cell_type": "code",
   "execution_count": 2,
   "id": "a9ab076d-9918-401e-8102-4e77c22c1bc6",
   "metadata": {},
   "outputs": [
    {
     "name": "stdout",
     "output_type": "stream",
     "text": [
      "Get:1 http://deb.debian.org/debian buster InRelease [122 kB]\n",
      "Get:2 http://security.debian.org/debian-security buster/updates InRelease [34.8 kB]\n",
      "Get:3 http://deb.debian.org/debian buster-updates InRelease [56.6 kB]\u001b[0m\u001b[33m\n",
      "Get:4 http://security.debian.org/debian-security buster/updates/main arm64 Packages [375 kB]\n",
      "Get:5 http://deb.debian.org/debian buster/main arm64 Packages [7737 kB]\n",
      "Get:6 http://deb.debian.org/debian buster-updates/main arm64 Packages [8780 B]\n",
      "Fetched 8334 kB in 1s (7703 kB/s)3m                       \u001b[0m\u001b[33m\u001b[33m\u001b[33m\n",
      "Reading package lists... Done\n",
      "Building dependency tree       \n",
      "Reading state information... Done\n",
      "109 packages can be upgraded. Run 'apt list --upgradable' to see them.\n",
      "Reading package lists... Done\n",
      "Building dependency tree       \n",
      "Reading state information... Done\n",
      "The following additional packages will be installed:\n",
      "  aspell aspell-en dictionaries-common emacsen-common hunspell-en-us\n",
      "  libaspell15 libenchant1c2a libhunspell-1.7-0 libtext-iconv-perl\n",
      "Suggested packages:\n",
      "  aspell-doc spellutils wordlist hunspell openoffice.org-hunspell\n",
      "  | openoffice.org-core libenchant-voikko\n",
      "The following NEW packages will be installed:\n",
      "  aspell aspell-en dictionaries-common emacsen-common enchant hunspell-en-us\n",
      "  libaspell15 libenchant1c2a libhunspell-1.7-0 libtext-iconv-perl\n",
      "0 upgraded, 10 newly installed, 0 to remove and 109 not upgraded.\n",
      "Need to get 1527 kB of archives.\n",
      "After this operation, 5925 kB of additional disk space will be used.\n",
      "Do you want to continue? [Y/n] ^C\n",
      "The following additional packages will be installed:\n",
      "  aspell aspell-en dictionaries-common emacsen-common hunspell-en-us\n",
      "  libaspell15 libenchant1c2a libhunspell-1.7-0 libtext-iconv-perl\n",
      "Suggested packages:\n",
      "  aspell-doc spellutils wordlist hunspell openoffice.org-hunspell\n",
      "  | openoffice.org-core libenchant-voikko\n",
      "The following NEW packages will be installed:\n",
      "  aspell aspell-en dictionaries-common emacsen-common enchant hunspell-en-us\n",
      "  libaspell15 libenchant1c2a libhunspell-1.7-0 libtext-iconv-perl\n",
      "0 upgraded, 10 newly installed, 0 to remove and 109 not upgraded.\n",
      "Need to get 1527 kB of archives.\n",
      "After this operation, 5925 kB of additional disk space will be used.\n",
      "Do you want to continue? [Y/n] ^C\n",
      "Requirement already satisfied: pyenchant in /usr/local/lib/python3.9/site-packages (3.2.2)\n",
      "\u001b[33mWARNING: Running pip as the 'root' user can result in broken permissions and conflicting behaviour with the system package manager. It is recommended to use a virtual environment instead: https://pip.pypa.io/warnings/venv\u001b[0m\u001b[33m\n",
      "\u001b[0m"
     ]
    }
   ],
   "source": [
    "!apt update\n",
    "!apt install enchant --fix-missing\n",
    "!apt install -qq enchant\n",
    "!pip install pyenchant"
   ]
  },
  {
   "cell_type": "code",
   "execution_count": 8,
   "id": "cd7272f8-642f-4ead-b226-39e1b821d74a",
   "metadata": {},
   "outputs": [
    {
     "name": "stdout",
     "output_type": "stream",
     "text": [
      "Requirement already satisfied: pyenchant in /usr/local/lib/python3.9/site-packages (3.2.2)\n",
      "\u001b[33mWARNING: Running pip as the 'root' user can result in broken permissions and conflicting behaviour with the system package manager. It is recommended to use a virtual environment instead: https://pip.pypa.io/warnings/venv\u001b[0m\u001b[33m\n",
      "\u001b[0m"
     ]
    }
   ],
   "source": [
    "#%%capture\n",
    "!pip install pyenchant"
   ]
  },
  {
   "cell_type": "code",
   "execution_count": 3,
   "id": "65b3d332-7383-47da-967b-476a3390620a",
   "metadata": {},
   "outputs": [
    {
     "ename": "ImportError",
     "evalue": "The 'enchant' C library was not found and maybe needs to be installed.\nSee  https://pyenchant.github.io/pyenchant/install.html\nfor details\n",
     "output_type": "error",
     "traceback": [
      "\u001b[0;31m---------------------------------------------------------------------------\u001b[0m",
      "\u001b[0;31mImportError\u001b[0m                               Traceback (most recent call last)",
      "Cell \u001b[0;32mIn [3], line 1\u001b[0m\n\u001b[0;32m----> 1\u001b[0m \u001b[38;5;28;01mimport\u001b[39;00m \u001b[38;5;21;01menchant\u001b[39;00m\n\u001b[1;32m      2\u001b[0m d \u001b[38;5;241m=\u001b[39m enchant\u001b[38;5;241m.\u001b[39mDict(\u001b[38;5;124m\"\u001b[39m\u001b[38;5;124men_US\u001b[39m\u001b[38;5;124m\"\u001b[39m)\n\u001b[1;32m      3\u001b[0m d\u001b[38;5;241m.\u001b[39mcheck(\u001b[38;5;124m\"\u001b[39m\u001b[38;5;124mHello\u001b[39m\u001b[38;5;124m\"\u001b[39m)\n",
      "File \u001b[0;32m/usr/local/lib/python3.9/site-packages/enchant/__init__.py:81\u001b[0m\n\u001b[1;32m     78\u001b[0m \u001b[38;5;28;01mimport\u001b[39;00m \u001b[38;5;21;01mwarnings\u001b[39;00m\n\u001b[1;32m     80\u001b[0m \u001b[38;5;28;01mtry\u001b[39;00m:\n\u001b[0;32m---> 81\u001b[0m     \u001b[38;5;28;01mfrom\u001b[39;00m \u001b[38;5;21;01menchant\u001b[39;00m \u001b[38;5;28;01mimport\u001b[39;00m _enchant \u001b[38;5;28;01mas\u001b[39;00m _e\n\u001b[1;32m     82\u001b[0m \u001b[38;5;28;01mexcept\u001b[39;00m \u001b[38;5;167;01mImportError\u001b[39;00m:\n\u001b[1;32m     83\u001b[0m     \u001b[38;5;28;01mif\u001b[39;00m \u001b[38;5;129;01mnot\u001b[39;00m os\u001b[38;5;241m.\u001b[39menviron\u001b[38;5;241m.\u001b[39mget(\u001b[38;5;124m\"\u001b[39m\u001b[38;5;124mPYENCHANT_IGNORE_MISSING_LIB\u001b[39m\u001b[38;5;124m\"\u001b[39m, \u001b[38;5;28;01mFalse\u001b[39;00m):\n",
      "File \u001b[0;32m/usr/local/lib/python3.9/site-packages/enchant/_enchant.py:157\u001b[0m\n\u001b[1;32m    149\u001b[0m \u001b[38;5;28;01mif\u001b[39;00m enchant_lib_path \u001b[38;5;129;01mis\u001b[39;00m \u001b[38;5;28;01mNone\u001b[39;00m:\n\u001b[1;32m    150\u001b[0m     msg \u001b[38;5;241m=\u001b[39m textwrap\u001b[38;5;241m.\u001b[39mdedent(\n\u001b[1;32m    151\u001b[0m         \u001b[38;5;124;03m\"\"\"\\\u001b[39;00m\n\u001b[1;32m    152\u001b[0m \u001b[38;5;124;03m        The 'enchant' C library was not found and maybe needs to be installed.\u001b[39;00m\n\u001b[0;32m   (...)\u001b[0m\n\u001b[1;32m    155\u001b[0m \u001b[38;5;124;03m        \"\"\"\u001b[39;00m\n\u001b[1;32m    156\u001b[0m     )\n\u001b[0;32m--> 157\u001b[0m     \u001b[38;5;28;01mraise\u001b[39;00m \u001b[38;5;167;01mImportError\u001b[39;00m(msg)\n\u001b[1;32m    160\u001b[0m find_message(\u001b[38;5;124m\"\u001b[39m\u001b[38;5;124mloading library \u001b[39m\u001b[38;5;124m\"\u001b[39m, enchant_lib_path)\n\u001b[1;32m    161\u001b[0m e \u001b[38;5;241m=\u001b[39m ctypes\u001b[38;5;241m.\u001b[39mcdll\u001b[38;5;241m.\u001b[39mLoadLibrary(enchant_lib_path)\n",
      "\u001b[0;31mImportError\u001b[0m: The 'enchant' C library was not found and maybe needs to be installed.\nSee  https://pyenchant.github.io/pyenchant/install.html\nfor details\n"
     ]
    }
   ],
   "source": [
    "import enchant\n",
    "d = enchant.Dict(\"en_US\")\n",
    "d.check(\"Hello\")"
   ]
  },
  {
   "cell_type": "code",
   "execution_count": null,
   "id": "6554a503-ecac-4e63-be2f-9db65f632120",
   "metadata": {},
   "outputs": [],
   "source": [
    "d.check(\"Helo\")"
   ]
  },
  {
   "cell_type": "markdown",
   "id": "e1276397-a5ef-4538-be51-032437c063fa",
   "metadata": {},
   "source": [
    "## 文頭の大文字"
   ]
  },
  {
   "cell_type": "code",
   "execution_count": 301,
   "id": "6ffdd59c-031f-4896-8f10-0409d84e212a",
   "metadata": {},
   "outputs": [],
   "source": [
    "df = pd.read_csv('/workspace/kaggle_data/train.csv')\n",
    "text = df['full_text']"
   ]
  },
  {
   "cell_type": "code",
   "execution_count": 318,
   "id": "8ba79dc0-6315-41ba-873c-a3f8db14f904",
   "metadata": {},
   "outputs": [
    {
     "data": {
      "text/plain": [
       "['Dear Principal,Our school should have a community center',\n",
       " ' The reasons why, are so students can learn what our community needs, how to make our community better place, and why is community important for students to know',\n",
       " ' Its a great to have a community center to know how we can make things better',\n",
       " 'Students think community center takes their time away',\n",
       " ' but they have to learn what our community needs',\n",
       " ' students will participate in a group of students making a list what our community needs, therefore students will learn what our community needs',\n",
       " ' students will present their list of things our community needs',\n",
       " ' due to that students will be giving extra credit for the ones who have low grades',\n",
       " \"Some students don't participate because their friends say its waste of time\",\n",
       " ' it would not be waste of time when you get to know how our community can be a better place for us',\n",
       " ' students should know that the program is about our own lives, because if our community is bad well our lives are going to be bad',\n",
       " ' due to that students will want to participate and will want to make our community a better place for us',\n",
       " 'some student might say why is the community important anyways, were fine nothing is wrong',\n",
       " ' but when get to know what our community is, they would want to know about and would want to participate and know why is our community important',\n",
       " ' students will receive a good grade if they participate in this community because is like an extra credit',\n",
       " ' due to that their friends would want to enjoy the program because their friend told them about it',\n",
       " 'so principal the community center will be a great place for students to learn lots of things',\n",
       " ' so i guess this will be a good idea for our school',\n",
       " ' students will learn what our community needs, how to make our community a better place, and why is our community important',\n",
       " 'Sincerely, STUDENT_NAME']"
      ]
     },
     "execution_count": 318,
     "metadata": {},
     "output_type": "execute_result"
    }
   ],
   "source": [
    "a = text[5].replace('\\n', '')\n",
    "a = a.replace('\\r', '')\n",
    "# コロン，?,!で区切る\n",
    "a = re.split('[.?!]', a)\n",
    "a"
   ]
  },
  {
   "cell_type": "code",
   "execution_count": 319,
   "id": "2497a074-2625-4fa4-bd57-b7f766974d48",
   "metadata": {},
   "outputs": [],
   "source": [
    "def BOS_check(text):\n",
    "    count = 0\n",
    "    # 改行を無くす\n",
    "    full_text = text.replace('\\n', '')\n",
    "    full_text = full_text.replace('\\r', '')\n",
    "    # コロン，?,!で区切る\n",
    "    texts = re.split('[.?!]', full_text)\n",
    "    for i in range(len(texts)):\n",
    "        # 文を単語ごとに分割\n",
    "        text = texts[i].split()\n",
    "        # 文が空じゃないなら\n",
    "        if text != []:\n",
    "            # 一単語目の一文字目が大文字ならTrue(一文字目の前に空白があっても良い)\n",
    "            if text[0].istitle():\n",
    "                count = count\n",
    "            else:\n",
    "                count += 1\n",
    "    return count"
   ]
  },
  {
   "cell_type": "code",
   "execution_count": 320,
   "id": "06758e5e-5480-4d22-9002-d9b51beb375d",
   "metadata": {},
   "outputs": [],
   "source": [
    "# 大文字から始まらない文章をカウントする\n",
    "bos_count = []\n",
    "\n",
    "for i in range(3911):\n",
    "    check_text = text[i]\n",
    "    bos = BOS_check(check_text)\n",
    "    bos_count.append(bos)"
   ]
  },
  {
   "cell_type": "code",
   "execution_count": 321,
   "id": "3b90b310-ffc7-4ce6-bb4e-fa8d49ac9c1c",
   "metadata": {},
   "outputs": [
    {
     "data": {
      "text/html": [
       "<div>\n",
       "<style scoped>\n",
       "    .dataframe tbody tr th:only-of-type {\n",
       "        vertical-align: middle;\n",
       "    }\n",
       "\n",
       "    .dataframe tbody tr th {\n",
       "        vertical-align: top;\n",
       "    }\n",
       "\n",
       "    .dataframe thead th {\n",
       "        text-align: right;\n",
       "    }\n",
       "</style>\n",
       "<table border=\"1\" class=\"dataframe\">\n",
       "  <thead>\n",
       "    <tr style=\"text-align: right;\">\n",
       "      <th></th>\n",
       "      <th>text_id</th>\n",
       "      <th>full_text</th>\n",
       "      <th>cohesion</th>\n",
       "      <th>syntax</th>\n",
       "      <th>vocabulary</th>\n",
       "      <th>phraseology</th>\n",
       "      <th>grammar</th>\n",
       "      <th>conventions</th>\n",
       "      <th>miss_count</th>\n",
       "      <th>bos_count</th>\n",
       "    </tr>\n",
       "  </thead>\n",
       "  <tbody>\n",
       "    <tr>\n",
       "      <th>0</th>\n",
       "      <td>0016926B079C</td>\n",
       "      <td>I think that students would benefit from learn...</td>\n",
       "      <td>3.5</td>\n",
       "      <td>3.5</td>\n",
       "      <td>3.0</td>\n",
       "      <td>3.0</td>\n",
       "      <td>4.0</td>\n",
       "      <td>3.0</td>\n",
       "      <td>0</td>\n",
       "      <td>15</td>\n",
       "    </tr>\n",
       "    <tr>\n",
       "      <th>1</th>\n",
       "      <td>0022683E9EA5</td>\n",
       "      <td>When a problem is a change you have to let it ...</td>\n",
       "      <td>2.5</td>\n",
       "      <td>2.5</td>\n",
       "      <td>3.0</td>\n",
       "      <td>2.0</td>\n",
       "      <td>2.0</td>\n",
       "      <td>2.5</td>\n",
       "      <td>1</td>\n",
       "      <td>4</td>\n",
       "    </tr>\n",
       "    <tr>\n",
       "      <th>2</th>\n",
       "      <td>00299B378633</td>\n",
       "      <td>Dear, Principal\\n\\nIf u change the school poli...</td>\n",
       "      <td>3.0</td>\n",
       "      <td>3.5</td>\n",
       "      <td>3.0</td>\n",
       "      <td>3.0</td>\n",
       "      <td>3.0</td>\n",
       "      <td>2.5</td>\n",
       "      <td>4</td>\n",
       "      <td>2</td>\n",
       "    </tr>\n",
       "    <tr>\n",
       "      <th>3</th>\n",
       "      <td>003885A45F42</td>\n",
       "      <td>The best time in life is when you become yours...</td>\n",
       "      <td>4.5</td>\n",
       "      <td>4.5</td>\n",
       "      <td>4.5</td>\n",
       "      <td>4.5</td>\n",
       "      <td>4.0</td>\n",
       "      <td>5.0</td>\n",
       "      <td>1</td>\n",
       "      <td>2</td>\n",
       "    </tr>\n",
       "    <tr>\n",
       "      <th>4</th>\n",
       "      <td>0049B1DF5CCC</td>\n",
       "      <td>Small act of kindness can impact in other peop...</td>\n",
       "      <td>2.5</td>\n",
       "      <td>3.0</td>\n",
       "      <td>3.0</td>\n",
       "      <td>3.0</td>\n",
       "      <td>2.5</td>\n",
       "      <td>2.5</td>\n",
       "      <td>7</td>\n",
       "      <td>0</td>\n",
       "    </tr>\n",
       "  </tbody>\n",
       "</table>\n",
       "</div>"
      ],
      "text/plain": [
       "        text_id                                          full_text  cohesion  \\\n",
       "0  0016926B079C  I think that students would benefit from learn...       3.5   \n",
       "1  0022683E9EA5  When a problem is a change you have to let it ...       2.5   \n",
       "2  00299B378633  Dear, Principal\\n\\nIf u change the school poli...       3.0   \n",
       "3  003885A45F42  The best time in life is when you become yours...       4.5   \n",
       "4  0049B1DF5CCC  Small act of kindness can impact in other peop...       2.5   \n",
       "\n",
       "   syntax  vocabulary  phraseology  grammar  conventions  miss_count  \\\n",
       "0     3.5         3.0          3.0      4.0          3.0           0   \n",
       "1     2.5         3.0          2.0      2.0          2.5           1   \n",
       "2     3.5         3.0          3.0      3.0          2.5           4   \n",
       "3     4.5         4.5          4.5      4.0          5.0           1   \n",
       "4     3.0         3.0          3.0      2.5          2.5           7   \n",
       "\n",
       "   bos_count  \n",
       "0         15  \n",
       "1          4  \n",
       "2          2  \n",
       "3          2  \n",
       "4          0  "
      ]
     },
     "execution_count": 321,
     "metadata": {},
     "output_type": "execute_result"
    }
   ],
   "source": [
    "df['bos_count'] = bos_count\n",
    "df.head()"
   ]
  },
  {
   "cell_type": "code",
   "execution_count": 322,
   "id": "438b79d6-9b9c-4f32-b124-f22a8a9e3b51",
   "metadata": {},
   "outputs": [
    {
     "data": {
      "text/plain": [
       "cohesion\n",
       "1.0    4.100000\n",
       "1.5    5.481481\n",
       "2.0    2.603175\n",
       "2.5    2.705063\n",
       "3.0    2.172445\n",
       "3.5    1.831984\n",
       "4.0    1.533708\n",
       "4.5    1.104000\n",
       "5.0    1.076923\n",
       "Name: bos_count, dtype: float64"
      ]
     },
     "execution_count": 322,
     "metadata": {},
     "output_type": "execute_result"
    }
   ],
   "source": [
    "df.groupby(['cohesion'])['bos_count'].mean()"
   ]
  },
  {
   "cell_type": "code",
   "execution_count": 323,
   "id": "728ad997-673b-408a-a5eb-04678d268a6a",
   "metadata": {},
   "outputs": [
    {
     "data": {
      "text/plain": [
       "syntax\n",
       "1.0    5.181818\n",
       "1.5    4.517241\n",
       "2.0    3.004878\n",
       "2.5    2.373063\n",
       "3.0    2.046400\n",
       "3.5    1.829296\n",
       "4.0    1.577320\n",
       "4.5    1.380000\n",
       "5.0    1.000000\n",
       "Name: bos_count, dtype: float64"
      ]
     },
     "execution_count": 323,
     "metadata": {},
     "output_type": "execute_result"
    }
   ],
   "source": [
    "df.groupby(['syntax'])['bos_count'].mean()"
   ]
  },
  {
   "cell_type": "code",
   "execution_count": 324,
   "id": "cb8c5a93-4d40-4069-90b4-3407b30ed244",
   "metadata": {},
   "outputs": [
    {
     "data": {
      "text/plain": [
       "vocabulary\n",
       "1.0    10.000000\n",
       "1.5     5.500000\n",
       "2.0     2.604839\n",
       "2.5     2.657197\n",
       "3.0     2.248170\n",
       "3.5     1.812314\n",
       "4.0     1.864818\n",
       "4.5     1.417391\n",
       "5.0     1.365854\n",
       "Name: bos_count, dtype: float64"
      ]
     },
     "execution_count": 324,
     "metadata": {},
     "output_type": "execute_result"
    }
   ],
   "source": [
    "df.groupby(['vocabulary'])['bos_count'].mean()"
   ]
  },
  {
   "cell_type": "code",
   "execution_count": 325,
   "id": "28798809-fed9-4bc8-94af-ea0b6e6efe3a",
   "metadata": {},
   "outputs": [
    {
     "data": {
      "text/plain": [
       "phraseology\n",
       "1.0    6.600000\n",
       "1.5    2.454545\n",
       "2.0    2.900000\n",
       "2.5    2.378238\n",
       "3.0    2.228968\n",
       "3.5    1.842842\n",
       "4.0    1.678119\n",
       "4.5    1.333333\n",
       "5.0    0.960000\n",
       "Name: bos_count, dtype: float64"
      ]
     },
     "execution_count": 325,
     "metadata": {},
     "output_type": "execute_result"
    }
   ],
   "source": [
    "df.groupby(['phraseology'])['bos_count'].mean()"
   ]
  },
  {
   "cell_type": "code",
   "execution_count": 326,
   "id": "a6237687-ed05-4412-9e39-ae505aa6e251",
   "metadata": {},
   "outputs": [
    {
     "data": {
      "text/plain": [
       "grammar\n",
       "1.0    9.875000\n",
       "1.5    4.300000\n",
       "2.0    2.628676\n",
       "2.5    2.449123\n",
       "3.0    2.054326\n",
       "3.5    1.872727\n",
       "4.0    1.590604\n",
       "4.5    1.559701\n",
       "5.0    0.793103\n",
       "Name: bos_count, dtype: float64"
      ]
     },
     "execution_count": 326,
     "metadata": {},
     "output_type": "execute_result"
    }
   ],
   "source": [
    "df.groupby(['grammar'])['bos_count'].mean()"
   ]
  },
  {
   "cell_type": "code",
   "execution_count": 327,
   "id": "88f96d97-212a-4ccd-97af-6d9542c33150",
   "metadata": {},
   "outputs": [
    {
     "data": {
      "text/plain": [
       "conventions\n",
       "1.0    5.533333\n",
       "1.5    4.050000\n",
       "2.0    3.350746\n",
       "2.5    2.700255\n",
       "3.0    2.164205\n",
       "3.5    1.519824\n",
       "4.0    1.330579\n",
       "4.5    1.237705\n",
       "5.0    1.120000\n",
       "Name: bos_count, dtype: float64"
      ]
     },
     "execution_count": 327,
     "metadata": {},
     "output_type": "execute_result"
    }
   ],
   "source": [
    "df.groupby(['conventions'])['bos_count'].mean()"
   ]
  },
  {
   "cell_type": "markdown",
   "id": "bf47e523-4799-4fe8-9728-0172a295ef14",
   "metadata": {},
   "source": [
    "#### 相関係数"
   ]
  },
  {
   "cell_type": "code",
   "execution_count": 328,
   "id": "2c44038d-44b4-4d4a-98e7-afbd1edf60e0",
   "metadata": {},
   "outputs": [
    {
     "name": "stdout",
     "output_type": "stream",
     "text": [
      "[[ 1.         -0.15655561]\n",
      " [-0.15655561  1.        ]]\n",
      "[[ 1.         -0.14364267]\n",
      " [-0.14364267  1.        ]]\n",
      "[[ 1.         -0.11222132]\n",
      " [-0.11222132  1.        ]]\n",
      "[[ 1.        -0.1289345]\n",
      " [-0.1289345  1.       ]]\n",
      "[[ 1.         -0.13411744]\n",
      " [-0.13411744  1.        ]]\n",
      "[[ 1.       -0.214163]\n",
      " [-0.214163  1.      ]]\n"
     ]
    }
   ],
   "source": [
    "bos_count = np.array(bos_count)\n",
    "col_list = ['cohesion', 'syntax', 'vocabulary','phraseology', 'grammar', 'conventions']\n",
    "for i in col_list:\n",
    "    col = df[i].to_numpy()\n",
    "    print(np.corrcoef(bos_count, col))"
   ]
  },
  {
   "cell_type": "markdown",
   "id": "0d7b7f8c-bf9f-4417-957f-641defaa0317",
   "metadata": {},
   "source": [
    "## 文字数，単語数のカウント"
   ]
  },
  {
   "cell_type": "code",
   "execution_count": 340,
   "id": "4d59475f-9c33-4c71-af6a-56d2127151fb",
   "metadata": {},
   "outputs": [],
   "source": [
    "df = pd.read_csv('/workspace/kaggle_data/train.csv')\n",
    "text = df['full_text']"
   ]
  },
  {
   "cell_type": "code",
   "execution_count": 342,
   "id": "9e7bdeeb-7556-4a60-b9d8-b8b4189f376d",
   "metadata": {},
   "outputs": [
    {
     "data": {
      "text/plain": [
       "393"
      ]
     },
     "execution_count": 342,
     "metadata": {},
     "output_type": "execute_result"
    }
   ],
   "source": [
    "a = text[16].replace('\\n', ' ')\n",
    "a = a.replace('\\r', ' ')\n",
    "words_count = len(a.split())\n",
    "words_count"
   ]
  },
  {
   "cell_type": "code",
   "execution_count": 343,
   "id": "2f9ad448-2fcf-42bf-a108-24683e834e4b",
   "metadata": {},
   "outputs": [],
   "source": [
    "def word_count(text):\n",
    "    text = text.replace('\\n', ' ')\n",
    "    text = text.replace('\\r', ' ')\n",
    "    text = text.replace('.', ' ')\n",
    "    text = text.replace(',', ' ')\n",
    "    text = text.replace('!', ' ')\n",
    "    text = text.replace('?', ' ')\n",
    "    # ダブルクォーテーションで囲まれているものの中身だけ取り出す\n",
    "    #text = text.strip('\"')\n",
    "    text = text.replace('\"', ' ')\n",
    "    # シングルクオートをそのまま削除するのは上手くいかない\n",
    "    #text = text.replace(\"''\", ' ')   \n",
    "    text = text.replace(':', ' ')\n",
    "    text = text.replace(';', ' ')\n",
    "    text = text.replace('/', ' ')\n",
    "    text = text.replace('-', ' ')\n",
    "    text = text.replace('(', ' ')\n",
    "    text = text.replace(')', ' ')\n",
    "    text = text.replace('_', ' ')\n",
    "    num_word = len(text.split())\n",
    "    return num_word"
   ]
  },
  {
   "cell_type": "code",
   "execution_count": 344,
   "id": "fb7df247-8f13-41ab-9928-d7c9935421c0",
   "metadata": {},
   "outputs": [],
   "source": [
    "# 大文字から始まらない文章をカウントする\n",
    "num_words = []\n",
    "\n",
    "for i in range(3911):\n",
    "    check_text = text[i]\n",
    "    count = word_count(check_text)\n",
    "    num_words.append(count)"
   ]
  },
  {
   "cell_type": "code",
   "execution_count": 345,
   "id": "2c90a076-3954-4ed4-8973-e0df3acb8669",
   "metadata": {},
   "outputs": [
    {
     "data": {
      "text/html": [
       "<div>\n",
       "<style scoped>\n",
       "    .dataframe tbody tr th:only-of-type {\n",
       "        vertical-align: middle;\n",
       "    }\n",
       "\n",
       "    .dataframe tbody tr th {\n",
       "        vertical-align: top;\n",
       "    }\n",
       "\n",
       "    .dataframe thead th {\n",
       "        text-align: right;\n",
       "    }\n",
       "</style>\n",
       "<table border=\"1\" class=\"dataframe\">\n",
       "  <thead>\n",
       "    <tr style=\"text-align: right;\">\n",
       "      <th></th>\n",
       "      <th>text_id</th>\n",
       "      <th>full_text</th>\n",
       "      <th>cohesion</th>\n",
       "      <th>syntax</th>\n",
       "      <th>vocabulary</th>\n",
       "      <th>phraseology</th>\n",
       "      <th>grammar</th>\n",
       "      <th>conventions</th>\n",
       "      <th>word_count</th>\n",
       "    </tr>\n",
       "  </thead>\n",
       "  <tbody>\n",
       "    <tr>\n",
       "      <th>0</th>\n",
       "      <td>0016926B079C</td>\n",
       "      <td>I think that students would benefit from learn...</td>\n",
       "      <td>3.5</td>\n",
       "      <td>3.5</td>\n",
       "      <td>3.0</td>\n",
       "      <td>3.0</td>\n",
       "      <td>4.0</td>\n",
       "      <td>3.0</td>\n",
       "      <td>262</td>\n",
       "    </tr>\n",
       "    <tr>\n",
       "      <th>1</th>\n",
       "      <td>0022683E9EA5</td>\n",
       "      <td>When a problem is a change you have to let it ...</td>\n",
       "      <td>2.5</td>\n",
       "      <td>2.5</td>\n",
       "      <td>3.0</td>\n",
       "      <td>2.0</td>\n",
       "      <td>2.0</td>\n",
       "      <td>2.5</td>\n",
       "      <td>533</td>\n",
       "    </tr>\n",
       "    <tr>\n",
       "      <th>2</th>\n",
       "      <td>00299B378633</td>\n",
       "      <td>Dear, Principal\\n\\nIf u change the school poli...</td>\n",
       "      <td>3.0</td>\n",
       "      <td>3.5</td>\n",
       "      <td>3.0</td>\n",
       "      <td>3.0</td>\n",
       "      <td>3.0</td>\n",
       "      <td>2.5</td>\n",
       "      <td>320</td>\n",
       "    </tr>\n",
       "    <tr>\n",
       "      <th>3</th>\n",
       "      <td>003885A45F42</td>\n",
       "      <td>The best time in life is when you become yours...</td>\n",
       "      <td>4.5</td>\n",
       "      <td>4.5</td>\n",
       "      <td>4.5</td>\n",
       "      <td>4.5</td>\n",
       "      <td>4.0</td>\n",
       "      <td>5.0</td>\n",
       "      <td>727</td>\n",
       "    </tr>\n",
       "    <tr>\n",
       "      <th>4</th>\n",
       "      <td>0049B1DF5CCC</td>\n",
       "      <td>Small act of kindness can impact in other peop...</td>\n",
       "      <td>2.5</td>\n",
       "      <td>3.0</td>\n",
       "      <td>3.0</td>\n",
       "      <td>3.0</td>\n",
       "      <td>2.5</td>\n",
       "      <td>2.5</td>\n",
       "      <td>234</td>\n",
       "    </tr>\n",
       "  </tbody>\n",
       "</table>\n",
       "</div>"
      ],
      "text/plain": [
       "        text_id                                          full_text  cohesion  \\\n",
       "0  0016926B079C  I think that students would benefit from learn...       3.5   \n",
       "1  0022683E9EA5  When a problem is a change you have to let it ...       2.5   \n",
       "2  00299B378633  Dear, Principal\\n\\nIf u change the school poli...       3.0   \n",
       "3  003885A45F42  The best time in life is when you become yours...       4.5   \n",
       "4  0049B1DF5CCC  Small act of kindness can impact in other peop...       2.5   \n",
       "\n",
       "   syntax  vocabulary  phraseology  grammar  conventions  word_count  \n",
       "0     3.5         3.0          3.0      4.0          3.0         262  \n",
       "1     2.5         3.0          2.0      2.0          2.5         533  \n",
       "2     3.5         3.0          3.0      3.0          2.5         320  \n",
       "3     4.5         4.5          4.5      4.0          5.0         727  \n",
       "4     3.0         3.0          3.0      2.5          2.5         234  "
      ]
     },
     "execution_count": 345,
     "metadata": {},
     "output_type": "execute_result"
    }
   ],
   "source": [
    "df['word_count'] = num_words\n",
    "df.head()"
   ]
  },
  {
   "cell_type": "markdown",
   "id": "b504469a-fdca-4d5e-b3c1-75ef9a181daa",
   "metadata": {},
   "source": [
    "## 総合"
   ]
  },
  {
   "cell_type": "code",
   "execution_count": 348,
   "id": "d9f0a081-048d-4fdc-9845-1778e6d2e1d8",
   "metadata": {},
   "outputs": [],
   "source": [
    "df = pd.read_csv('/workspace/kaggle_data/train.csv')\n",
    "df['miss_count'] = miss_count\n",
    "df['bos_count'] = bos_count\n",
    "df['word_count'] = num_words\n",
    "df['miss_rate'] = df['miss_count']/df['word_count']\n",
    "df['bos_rate'] = df['bos_count']/df['word_count']"
   ]
  },
  {
   "cell_type": "code",
   "execution_count": 349,
   "id": "5f9d6efe-350b-4ab2-9cf8-2d0e098cc4d4",
   "metadata": {},
   "outputs": [
    {
     "data": {
      "text/html": [
       "<div>\n",
       "<style scoped>\n",
       "    .dataframe tbody tr th:only-of-type {\n",
       "        vertical-align: middle;\n",
       "    }\n",
       "\n",
       "    .dataframe tbody tr th {\n",
       "        vertical-align: top;\n",
       "    }\n",
       "\n",
       "    .dataframe thead th {\n",
       "        text-align: right;\n",
       "    }\n",
       "</style>\n",
       "<table border=\"1\" class=\"dataframe\">\n",
       "  <thead>\n",
       "    <tr style=\"text-align: right;\">\n",
       "      <th></th>\n",
       "      <th>text_id</th>\n",
       "      <th>full_text</th>\n",
       "      <th>cohesion</th>\n",
       "      <th>syntax</th>\n",
       "      <th>vocabulary</th>\n",
       "      <th>phraseology</th>\n",
       "      <th>grammar</th>\n",
       "      <th>conventions</th>\n",
       "      <th>miss_count</th>\n",
       "      <th>bos_count</th>\n",
       "      <th>word_count</th>\n",
       "      <th>miss_rate</th>\n",
       "      <th>bos_rate</th>\n",
       "    </tr>\n",
       "  </thead>\n",
       "  <tbody>\n",
       "    <tr>\n",
       "      <th>0</th>\n",
       "      <td>0016926B079C</td>\n",
       "      <td>I think that students would benefit from learn...</td>\n",
       "      <td>3.5</td>\n",
       "      <td>3.5</td>\n",
       "      <td>3.0</td>\n",
       "      <td>3.0</td>\n",
       "      <td>4.0</td>\n",
       "      <td>3.0</td>\n",
       "      <td>0</td>\n",
       "      <td>15</td>\n",
       "      <td>262</td>\n",
       "      <td>0.000000</td>\n",
       "      <td>0.057252</td>\n",
       "    </tr>\n",
       "    <tr>\n",
       "      <th>1</th>\n",
       "      <td>0022683E9EA5</td>\n",
       "      <td>When a problem is a change you have to let it ...</td>\n",
       "      <td>2.5</td>\n",
       "      <td>2.5</td>\n",
       "      <td>3.0</td>\n",
       "      <td>2.0</td>\n",
       "      <td>2.0</td>\n",
       "      <td>2.5</td>\n",
       "      <td>1</td>\n",
       "      <td>4</td>\n",
       "      <td>533</td>\n",
       "      <td>0.001876</td>\n",
       "      <td>0.007505</td>\n",
       "    </tr>\n",
       "    <tr>\n",
       "      <th>2</th>\n",
       "      <td>00299B378633</td>\n",
       "      <td>Dear, Principal\\n\\nIf u change the school poli...</td>\n",
       "      <td>3.0</td>\n",
       "      <td>3.5</td>\n",
       "      <td>3.0</td>\n",
       "      <td>3.0</td>\n",
       "      <td>3.0</td>\n",
       "      <td>2.5</td>\n",
       "      <td>4</td>\n",
       "      <td>2</td>\n",
       "      <td>320</td>\n",
       "      <td>0.012500</td>\n",
       "      <td>0.006250</td>\n",
       "    </tr>\n",
       "    <tr>\n",
       "      <th>3</th>\n",
       "      <td>003885A45F42</td>\n",
       "      <td>The best time in life is when you become yours...</td>\n",
       "      <td>4.5</td>\n",
       "      <td>4.5</td>\n",
       "      <td>4.5</td>\n",
       "      <td>4.5</td>\n",
       "      <td>4.0</td>\n",
       "      <td>5.0</td>\n",
       "      <td>1</td>\n",
       "      <td>2</td>\n",
       "      <td>727</td>\n",
       "      <td>0.001376</td>\n",
       "      <td>0.002751</td>\n",
       "    </tr>\n",
       "    <tr>\n",
       "      <th>4</th>\n",
       "      <td>0049B1DF5CCC</td>\n",
       "      <td>Small act of kindness can impact in other peop...</td>\n",
       "      <td>2.5</td>\n",
       "      <td>3.0</td>\n",
       "      <td>3.0</td>\n",
       "      <td>3.0</td>\n",
       "      <td>2.5</td>\n",
       "      <td>2.5</td>\n",
       "      <td>7</td>\n",
       "      <td>0</td>\n",
       "      <td>234</td>\n",
       "      <td>0.029915</td>\n",
       "      <td>0.000000</td>\n",
       "    </tr>\n",
       "    <tr>\n",
       "      <th>5</th>\n",
       "      <td>004AC288D833</td>\n",
       "      <td>Dear Principal,\\r\\n\\r\\nOur school should have ...</td>\n",
       "      <td>3.5</td>\n",
       "      <td>4.0</td>\n",
       "      <td>4.0</td>\n",
       "      <td>3.5</td>\n",
       "      <td>3.5</td>\n",
       "      <td>4.0</td>\n",
       "      <td>0</td>\n",
       "      <td>14</td>\n",
       "      <td>329</td>\n",
       "      <td>0.000000</td>\n",
       "      <td>0.042553</td>\n",
       "    </tr>\n",
       "    <tr>\n",
       "      <th>6</th>\n",
       "      <td>005661280443</td>\n",
       "      <td>Imagine if you could prove other people that y...</td>\n",
       "      <td>3.5</td>\n",
       "      <td>4.0</td>\n",
       "      <td>3.5</td>\n",
       "      <td>3.5</td>\n",
       "      <td>4.0</td>\n",
       "      <td>4.0</td>\n",
       "      <td>1</td>\n",
       "      <td>0</td>\n",
       "      <td>431</td>\n",
       "      <td>0.002320</td>\n",
       "      <td>0.000000</td>\n",
       "    </tr>\n",
       "    <tr>\n",
       "      <th>7</th>\n",
       "      <td>008DDDDD8E8D</td>\n",
       "      <td>I think it's a good idea for the estudnets to ...</td>\n",
       "      <td>2.5</td>\n",
       "      <td>2.5</td>\n",
       "      <td>2.5</td>\n",
       "      <td>2.5</td>\n",
       "      <td>2.5</td>\n",
       "      <td>2.0</td>\n",
       "      <td>22</td>\n",
       "      <td>4</td>\n",
       "      <td>387</td>\n",
       "      <td>0.056848</td>\n",
       "      <td>0.010336</td>\n",
       "    </tr>\n",
       "    <tr>\n",
       "      <th>8</th>\n",
       "      <td>009BCCC61C2A</td>\n",
       "      <td>positive attitude is the key to success. I agr...</td>\n",
       "      <td>3.0</td>\n",
       "      <td>3.0</td>\n",
       "      <td>3.5</td>\n",
       "      <td>3.5</td>\n",
       "      <td>3.0</td>\n",
       "      <td>3.0</td>\n",
       "      <td>10</td>\n",
       "      <td>1</td>\n",
       "      <td>571</td>\n",
       "      <td>0.017513</td>\n",
       "      <td>0.001751</td>\n",
       "    </tr>\n",
       "    <tr>\n",
       "      <th>9</th>\n",
       "      <td>009F4E9310CB</td>\n",
       "      <td>Asking more than one person for and advice hel...</td>\n",
       "      <td>3.0</td>\n",
       "      <td>3.0</td>\n",
       "      <td>3.5</td>\n",
       "      <td>2.5</td>\n",
       "      <td>3.0</td>\n",
       "      <td>2.5</td>\n",
       "      <td>2</td>\n",
       "      <td>6</td>\n",
       "      <td>398</td>\n",
       "      <td>0.005025</td>\n",
       "      <td>0.015075</td>\n",
       "    </tr>\n",
       "    <tr>\n",
       "      <th>10</th>\n",
       "      <td>00B21F9B726F</td>\n",
       "      <td>Do you think its a good idea for students to c...</td>\n",
       "      <td>3.0</td>\n",
       "      <td>3.5</td>\n",
       "      <td>3.5</td>\n",
       "      <td>3.5</td>\n",
       "      <td>3.5</td>\n",
       "      <td>3.0</td>\n",
       "      <td>2</td>\n",
       "      <td>4</td>\n",
       "      <td>315</td>\n",
       "      <td>0.006349</td>\n",
       "      <td>0.012698</td>\n",
       "    </tr>\n",
       "    <tr>\n",
       "      <th>11</th>\n",
       "      <td>00BCADB373EF</td>\n",
       "      <td>A positive attitude is the key to success for ...</td>\n",
       "      <td>3.5</td>\n",
       "      <td>3.0</td>\n",
       "      <td>4.0</td>\n",
       "      <td>3.5</td>\n",
       "      <td>3.0</td>\n",
       "      <td>3.0</td>\n",
       "      <td>1</td>\n",
       "      <td>0</td>\n",
       "      <td>411</td>\n",
       "      <td>0.002433</td>\n",
       "      <td>0.000000</td>\n",
       "    </tr>\n",
       "    <tr>\n",
       "      <th>12</th>\n",
       "      <td>00D281524375</td>\n",
       "      <td>Technology allows people to do many things suc...</td>\n",
       "      <td>3.5</td>\n",
       "      <td>2.5</td>\n",
       "      <td>3.5</td>\n",
       "      <td>3.0</td>\n",
       "      <td>3.0</td>\n",
       "      <td>3.0</td>\n",
       "      <td>8</td>\n",
       "      <td>0</td>\n",
       "      <td>201</td>\n",
       "      <td>0.039801</td>\n",
       "      <td>0.000000</td>\n",
       "    </tr>\n",
       "    <tr>\n",
       "      <th>13</th>\n",
       "      <td>00ED2563D0B1</td>\n",
       "      <td>Philosopher, physician, and humanitarian Alber...</td>\n",
       "      <td>3.5</td>\n",
       "      <td>3.0</td>\n",
       "      <td>3.5</td>\n",
       "      <td>3.5</td>\n",
       "      <td>3.5</td>\n",
       "      <td>4.0</td>\n",
       "      <td>2</td>\n",
       "      <td>0</td>\n",
       "      <td>682</td>\n",
       "      <td>0.002933</td>\n",
       "      <td>0.000000</td>\n",
       "    </tr>\n",
       "    <tr>\n",
       "      <th>14</th>\n",
       "      <td>011AAA636F11</td>\n",
       "      <td>Have you ever solved a math problem in less th...</td>\n",
       "      <td>4.0</td>\n",
       "      <td>3.5</td>\n",
       "      <td>3.0</td>\n",
       "      <td>4.0</td>\n",
       "      <td>3.5</td>\n",
       "      <td>4.0</td>\n",
       "      <td>8</td>\n",
       "      <td>1</td>\n",
       "      <td>685</td>\n",
       "      <td>0.011679</td>\n",
       "      <td>0.001460</td>\n",
       "    </tr>\n",
       "    <tr>\n",
       "      <th>15</th>\n",
       "      <td>01350DF42AED</td>\n",
       "      <td>When, the people decide to have a good posture...</td>\n",
       "      <td>2.0</td>\n",
       "      <td>2.0</td>\n",
       "      <td>2.0</td>\n",
       "      <td>2.0</td>\n",
       "      <td>2.0</td>\n",
       "      <td>2.0</td>\n",
       "      <td>1</td>\n",
       "      <td>2</td>\n",
       "      <td>303</td>\n",
       "      <td>0.003300</td>\n",
       "      <td>0.006601</td>\n",
       "    </tr>\n",
       "    <tr>\n",
       "      <th>16</th>\n",
       "      <td>01405C3C569D</td>\n",
       "      <td>A positive attitude is the key for be successf...</td>\n",
       "      <td>3.0</td>\n",
       "      <td>2.0</td>\n",
       "      <td>3.0</td>\n",
       "      <td>2.5</td>\n",
       "      <td>2.5</td>\n",
       "      <td>2.5</td>\n",
       "      <td>0</td>\n",
       "      <td>0</td>\n",
       "      <td>399</td>\n",
       "      <td>0.000000</td>\n",
       "      <td>0.000000</td>\n",
       "    </tr>\n",
       "    <tr>\n",
       "      <th>17</th>\n",
       "      <td>01501F95B8B2</td>\n",
       "      <td>10pm curfews is a bad idea, why? Because teens...</td>\n",
       "      <td>3.0</td>\n",
       "      <td>4.0</td>\n",
       "      <td>3.0</td>\n",
       "      <td>4.0</td>\n",
       "      <td>3.5</td>\n",
       "      <td>3.0</td>\n",
       "      <td>0</td>\n",
       "      <td>7</td>\n",
       "      <td>676</td>\n",
       "      <td>0.000000</td>\n",
       "      <td>0.010355</td>\n",
       "    </tr>\n",
       "    <tr>\n",
       "      <th>18</th>\n",
       "      <td>017802562E71</td>\n",
       "      <td>March 12, 20019\\n\\nThe technology allows peopl...</td>\n",
       "      <td>3.0</td>\n",
       "      <td>2.0</td>\n",
       "      <td>3.5</td>\n",
       "      <td>2.5</td>\n",
       "      <td>2.5</td>\n",
       "      <td>2.5</td>\n",
       "      <td>2</td>\n",
       "      <td>4</td>\n",
       "      <td>227</td>\n",
       "      <td>0.008811</td>\n",
       "      <td>0.017621</td>\n",
       "    </tr>\n",
       "    <tr>\n",
       "      <th>19</th>\n",
       "      <td>01794F5F1423</td>\n",
       "      <td>Most schools have the same lunch menu every we...</td>\n",
       "      <td>3.0</td>\n",
       "      <td>3.5</td>\n",
       "      <td>3.0</td>\n",
       "      <td>3.5</td>\n",
       "      <td>4.0</td>\n",
       "      <td>3.0</td>\n",
       "      <td>0</td>\n",
       "      <td>1</td>\n",
       "      <td>288</td>\n",
       "      <td>0.000000</td>\n",
       "      <td>0.003472</td>\n",
       "    </tr>\n",
       "    <tr>\n",
       "      <th>20</th>\n",
       "      <td>017D2125A1DE</td>\n",
       "      <td>Interducaions\\n\\n:Summer vacation should be lo...</td>\n",
       "      <td>2.5</td>\n",
       "      <td>2.5</td>\n",
       "      <td>3.0</td>\n",
       "      <td>2.0</td>\n",
       "      <td>2.0</td>\n",
       "      <td>2.5</td>\n",
       "      <td>4</td>\n",
       "      <td>3</td>\n",
       "      <td>379</td>\n",
       "      <td>0.010554</td>\n",
       "      <td>0.007916</td>\n",
       "    </tr>\n",
       "    <tr>\n",
       "      <th>21</th>\n",
       "      <td>01911AC9674D</td>\n",
       "      <td>Sometimes people have good attitude and a diff...</td>\n",
       "      <td>2.0</td>\n",
       "      <td>2.5</td>\n",
       "      <td>2.5</td>\n",
       "      <td>2.0</td>\n",
       "      <td>2.0</td>\n",
       "      <td>2.5</td>\n",
       "      <td>2</td>\n",
       "      <td>0</td>\n",
       "      <td>421</td>\n",
       "      <td>0.004751</td>\n",
       "      <td>0.000000</td>\n",
       "    </tr>\n",
       "    <tr>\n",
       "      <th>22</th>\n",
       "      <td>019BDC9DF7CD</td>\n",
       "      <td>Although some say students will not be benefit...</td>\n",
       "      <td>3.0</td>\n",
       "      <td>3.0</td>\n",
       "      <td>3.0</td>\n",
       "      <td>3.0</td>\n",
       "      <td>2.5</td>\n",
       "      <td>3.0</td>\n",
       "      <td>0</td>\n",
       "      <td>1</td>\n",
       "      <td>307</td>\n",
       "      <td>0.000000</td>\n",
       "      <td>0.003257</td>\n",
       "    </tr>\n",
       "    <tr>\n",
       "      <th>23</th>\n",
       "      <td>01A65BA4080E</td>\n",
       "      <td>Most schools let students use their cell phone...</td>\n",
       "      <td>4.0</td>\n",
       "      <td>4.0</td>\n",
       "      <td>4.0</td>\n",
       "      <td>4.0</td>\n",
       "      <td>4.5</td>\n",
       "      <td>3.5</td>\n",
       "      <td>7</td>\n",
       "      <td>0</td>\n",
       "      <td>628</td>\n",
       "      <td>0.011146</td>\n",
       "      <td>0.000000</td>\n",
       "    </tr>\n",
       "    <tr>\n",
       "      <th>24</th>\n",
       "      <td>01B3FDB3FD57</td>\n",
       "      <td>Scientist Albert Einstein once said, \"Imaginat...</td>\n",
       "      <td>4.0</td>\n",
       "      <td>4.5</td>\n",
       "      <td>5.0</td>\n",
       "      <td>4.0</td>\n",
       "      <td>5.0</td>\n",
       "      <td>4.5</td>\n",
       "      <td>0</td>\n",
       "      <td>3</td>\n",
       "      <td>537</td>\n",
       "      <td>0.000000</td>\n",
       "      <td>0.005587</td>\n",
       "    </tr>\n",
       "    <tr>\n",
       "      <th>25</th>\n",
       "      <td>01C53183305A</td>\n",
       "      <td>They are some Schools offer for Students to Le...</td>\n",
       "      <td>2.0</td>\n",
       "      <td>2.0</td>\n",
       "      <td>2.5</td>\n",
       "      <td>2.0</td>\n",
       "      <td>3.0</td>\n",
       "      <td>2.0</td>\n",
       "      <td>14</td>\n",
       "      <td>0</td>\n",
       "      <td>183</td>\n",
       "      <td>0.076503</td>\n",
       "      <td>0.000000</td>\n",
       "    </tr>\n",
       "    <tr>\n",
       "      <th>26</th>\n",
       "      <td>0230A077F5B6</td>\n",
       "      <td>some school districts offer programs that allo...</td>\n",
       "      <td>3.0</td>\n",
       "      <td>2.5</td>\n",
       "      <td>2.5</td>\n",
       "      <td>2.5</td>\n",
       "      <td>2.0</td>\n",
       "      <td>2.5</td>\n",
       "      <td>27</td>\n",
       "      <td>6</td>\n",
       "      <td>540</td>\n",
       "      <td>0.050000</td>\n",
       "      <td>0.011111</td>\n",
       "    </tr>\n",
       "    <tr>\n",
       "      <th>27</th>\n",
       "      <td>025722D0AFB7</td>\n",
       "      <td>Now a days most employers are looking for spec...</td>\n",
       "      <td>4.5</td>\n",
       "      <td>4.0</td>\n",
       "      <td>4.0</td>\n",
       "      <td>4.0</td>\n",
       "      <td>4.0</td>\n",
       "      <td>3.5</td>\n",
       "      <td>11</td>\n",
       "      <td>2</td>\n",
       "      <td>522</td>\n",
       "      <td>0.021073</td>\n",
       "      <td>0.003831</td>\n",
       "    </tr>\n",
       "    <tr>\n",
       "      <th>28</th>\n",
       "      <td>027CB6393714</td>\n",
       "      <td>Hello, my name is Generic_Name and I am a stud...</td>\n",
       "      <td>3.0</td>\n",
       "      <td>3.0</td>\n",
       "      <td>2.5</td>\n",
       "      <td>3.5</td>\n",
       "      <td>4.0</td>\n",
       "      <td>3.0</td>\n",
       "      <td>2</td>\n",
       "      <td>1</td>\n",
       "      <td>312</td>\n",
       "      <td>0.006410</td>\n",
       "      <td>0.003205</td>\n",
       "    </tr>\n",
       "    <tr>\n",
       "      <th>29</th>\n",
       "      <td>02B07248077F</td>\n",
       "      <td>I am agree everyone should be make own decisio...</td>\n",
       "      <td>2.5</td>\n",
       "      <td>2.0</td>\n",
       "      <td>3.0</td>\n",
       "      <td>2.0</td>\n",
       "      <td>2.5</td>\n",
       "      <td>2.0</td>\n",
       "      <td>16</td>\n",
       "      <td>4</td>\n",
       "      <td>226</td>\n",
       "      <td>0.070796</td>\n",
       "      <td>0.017699</td>\n",
       "    </tr>\n",
       "    <tr>\n",
       "      <th>30</th>\n",
       "      <td>02B36EBD5C66</td>\n",
       "      <td>Students can benefit from this option, but als...</td>\n",
       "      <td>4.0</td>\n",
       "      <td>4.0</td>\n",
       "      <td>4.5</td>\n",
       "      <td>3.5</td>\n",
       "      <td>3.5</td>\n",
       "      <td>4.0</td>\n",
       "      <td>0</td>\n",
       "      <td>0</td>\n",
       "      <td>419</td>\n",
       "      <td>0.000000</td>\n",
       "      <td>0.000000</td>\n",
       "    </tr>\n",
       "    <tr>\n",
       "      <th>31</th>\n",
       "      <td>0316F6288791</td>\n",
       "      <td>The new generation of students decide to take ...</td>\n",
       "      <td>3.0</td>\n",
       "      <td>2.5</td>\n",
       "      <td>3.0</td>\n",
       "      <td>3.0</td>\n",
       "      <td>2.5</td>\n",
       "      <td>3.0</td>\n",
       "      <td>3</td>\n",
       "      <td>3</td>\n",
       "      <td>443</td>\n",
       "      <td>0.006772</td>\n",
       "      <td>0.006772</td>\n",
       "    </tr>\n",
       "    <tr>\n",
       "      <th>32</th>\n",
       "      <td>032EA4B76BF5</td>\n",
       "      <td>Some people may think that positive attitude i...</td>\n",
       "      <td>3.5</td>\n",
       "      <td>3.5</td>\n",
       "      <td>3.0</td>\n",
       "      <td>3.0</td>\n",
       "      <td>3.5</td>\n",
       "      <td>3.0</td>\n",
       "      <td>0</td>\n",
       "      <td>0</td>\n",
       "      <td>249</td>\n",
       "      <td>0.000000</td>\n",
       "      <td>0.000000</td>\n",
       "    </tr>\n",
       "    <tr>\n",
       "      <th>33</th>\n",
       "      <td>036042533396</td>\n",
       "      <td>Do you ever feel like giving up just because y...</td>\n",
       "      <td>3.5</td>\n",
       "      <td>3.5</td>\n",
       "      <td>3.5</td>\n",
       "      <td>4.0</td>\n",
       "      <td>3.0</td>\n",
       "      <td>4.0</td>\n",
       "      <td>12</td>\n",
       "      <td>4</td>\n",
       "      <td>579</td>\n",
       "      <td>0.020725</td>\n",
       "      <td>0.006908</td>\n",
       "    </tr>\n",
       "    <tr>\n",
       "      <th>34</th>\n",
       "      <td>0369AD4B5726</td>\n",
       "      <td>I would agree with being honest at all times b...</td>\n",
       "      <td>2.0</td>\n",
       "      <td>3.0</td>\n",
       "      <td>3.5</td>\n",
       "      <td>3.0</td>\n",
       "      <td>3.0</td>\n",
       "      <td>3.5</td>\n",
       "      <td>3</td>\n",
       "      <td>6</td>\n",
       "      <td>1136</td>\n",
       "      <td>0.002641</td>\n",
       "      <td>0.005282</td>\n",
       "    </tr>\n",
       "    <tr>\n",
       "      <th>35</th>\n",
       "      <td>037C88B5B111</td>\n",
       "      <td>Most of the schools in around the world that c...</td>\n",
       "      <td>4.0</td>\n",
       "      <td>3.5</td>\n",
       "      <td>3.5</td>\n",
       "      <td>3.0</td>\n",
       "      <td>3.0</td>\n",
       "      <td>3.5</td>\n",
       "      <td>6</td>\n",
       "      <td>2</td>\n",
       "      <td>701</td>\n",
       "      <td>0.008559</td>\n",
       "      <td>0.002853</td>\n",
       "    </tr>\n",
       "    <tr>\n",
       "      <th>36</th>\n",
       "      <td>037ED3EA2982</td>\n",
       "      <td>Do you think positive attitude is the key to s...</td>\n",
       "      <td>3.0</td>\n",
       "      <td>2.5</td>\n",
       "      <td>3.0</td>\n",
       "      <td>3.0</td>\n",
       "      <td>3.5</td>\n",
       "      <td>3.0</td>\n",
       "      <td>0</td>\n",
       "      <td>7</td>\n",
       "      <td>591</td>\n",
       "      <td>0.000000</td>\n",
       "      <td>0.011844</td>\n",
       "    </tr>\n",
       "    <tr>\n",
       "      <th>37</th>\n",
       "      <td>0381BBE47393</td>\n",
       "      <td>Thomas Jefferson wrote, \"Determine never to be...</td>\n",
       "      <td>4.0</td>\n",
       "      <td>3.0</td>\n",
       "      <td>3.5</td>\n",
       "      <td>3.5</td>\n",
       "      <td>3.0</td>\n",
       "      <td>3.5</td>\n",
       "      <td>0</td>\n",
       "      <td>1</td>\n",
       "      <td>437</td>\n",
       "      <td>0.000000</td>\n",
       "      <td>0.002288</td>\n",
       "    </tr>\n",
       "    <tr>\n",
       "      <th>38</th>\n",
       "      <td>0383E4A36E46</td>\n",
       "      <td>If I could go to visit anywhere in the world, ...</td>\n",
       "      <td>4.0</td>\n",
       "      <td>3.0</td>\n",
       "      <td>3.5</td>\n",
       "      <td>3.0</td>\n",
       "      <td>4.0</td>\n",
       "      <td>3.0</td>\n",
       "      <td>3</td>\n",
       "      <td>8</td>\n",
       "      <td>527</td>\n",
       "      <td>0.005693</td>\n",
       "      <td>0.015180</td>\n",
       "    </tr>\n",
       "    <tr>\n",
       "      <th>39</th>\n",
       "      <td>03844422EA75</td>\n",
       "      <td>my name is Generic_Name and my story is about ...</td>\n",
       "      <td>1.0</td>\n",
       "      <td>1.0</td>\n",
       "      <td>2.0</td>\n",
       "      <td>2.0</td>\n",
       "      <td>1.5</td>\n",
       "      <td>1.0</td>\n",
       "      <td>43</td>\n",
       "      <td>1</td>\n",
       "      <td>315</td>\n",
       "      <td>0.136508</td>\n",
       "      <td>0.003175</td>\n",
       "    </tr>\n",
       "    <tr>\n",
       "      <th>40</th>\n",
       "      <td>038480498E5A</td>\n",
       "      <td>Dear Principal,\\r\\n\\r\\nI think that it is a gr...</td>\n",
       "      <td>4.0</td>\n",
       "      <td>3.0</td>\n",
       "      <td>3.5</td>\n",
       "      <td>3.5</td>\n",
       "      <td>3.0</td>\n",
       "      <td>3.5</td>\n",
       "      <td>8</td>\n",
       "      <td>0</td>\n",
       "      <td>319</td>\n",
       "      <td>0.025078</td>\n",
       "      <td>0.000000</td>\n",
       "    </tr>\n",
       "    <tr>\n",
       "      <th>41</th>\n",
       "      <td>03A3B40D651B</td>\n",
       "      <td>One of the smartest people on earth said that ...</td>\n",
       "      <td>2.5</td>\n",
       "      <td>3.0</td>\n",
       "      <td>3.5</td>\n",
       "      <td>3.0</td>\n",
       "      <td>3.5</td>\n",
       "      <td>3.0</td>\n",
       "      <td>0</td>\n",
       "      <td>1</td>\n",
       "      <td>285</td>\n",
       "      <td>0.000000</td>\n",
       "      <td>0.003509</td>\n",
       "    </tr>\n",
       "    <tr>\n",
       "      <th>42</th>\n",
       "      <td>03C9E7A15C42</td>\n",
       "      <td>I think that what\\n\\nAuther ralph waldo wrote ...</td>\n",
       "      <td>2.5</td>\n",
       "      <td>2.5</td>\n",
       "      <td>2.5</td>\n",
       "      <td>2.5</td>\n",
       "      <td>2.0</td>\n",
       "      <td>2.5</td>\n",
       "      <td>17</td>\n",
       "      <td>4</td>\n",
       "      <td>425</td>\n",
       "      <td>0.040000</td>\n",
       "      <td>0.009412</td>\n",
       "    </tr>\n",
       "    <tr>\n",
       "      <th>43</th>\n",
       "      <td>03CB73341E0E</td>\n",
       "      <td>Do you think its a good idea to have somone ma...</td>\n",
       "      <td>3.5</td>\n",
       "      <td>3.5</td>\n",
       "      <td>4.0</td>\n",
       "      <td>3.5</td>\n",
       "      <td>4.0</td>\n",
       "      <td>4.0</td>\n",
       "      <td>5</td>\n",
       "      <td>1</td>\n",
       "      <td>464</td>\n",
       "      <td>0.010776</td>\n",
       "      <td>0.002155</td>\n",
       "    </tr>\n",
       "    <tr>\n",
       "      <th>44</th>\n",
       "      <td>03CC97D3747E</td>\n",
       "      <td>Many schools have partner ships with companies...</td>\n",
       "      <td>4.0</td>\n",
       "      <td>4.5</td>\n",
       "      <td>4.5</td>\n",
       "      <td>4.5</td>\n",
       "      <td>4.5</td>\n",
       "      <td>4.0</td>\n",
       "      <td>2</td>\n",
       "      <td>3</td>\n",
       "      <td>706</td>\n",
       "      <td>0.002833</td>\n",
       "      <td>0.004249</td>\n",
       "    </tr>\n",
       "    <tr>\n",
       "      <th>45</th>\n",
       "      <td>03D00899C901</td>\n",
       "      <td>I think yes, that if you have a positive attit...</td>\n",
       "      <td>2.5</td>\n",
       "      <td>2.5</td>\n",
       "      <td>3.5</td>\n",
       "      <td>3.0</td>\n",
       "      <td>3.5</td>\n",
       "      <td>2.5</td>\n",
       "      <td>0</td>\n",
       "      <td>0</td>\n",
       "      <td>586</td>\n",
       "      <td>0.000000</td>\n",
       "      <td>0.000000</td>\n",
       "    </tr>\n",
       "    <tr>\n",
       "      <th>46</th>\n",
       "      <td>03F7CF142B70</td>\n",
       "      <td>many people say that True self-esstem does com...</td>\n",
       "      <td>4.0</td>\n",
       "      <td>3.0</td>\n",
       "      <td>3.5</td>\n",
       "      <td>3.5</td>\n",
       "      <td>3.5</td>\n",
       "      <td>3.0</td>\n",
       "      <td>5</td>\n",
       "      <td>5</td>\n",
       "      <td>303</td>\n",
       "      <td>0.016502</td>\n",
       "      <td>0.016502</td>\n",
       "    </tr>\n",
       "    <tr>\n",
       "      <th>47</th>\n",
       "      <td>0420DDE0BABD</td>\n",
       "      <td>I agree, because you threw failure to be succe...</td>\n",
       "      <td>3.0</td>\n",
       "      <td>3.0</td>\n",
       "      <td>3.0</td>\n",
       "      <td>2.5</td>\n",
       "      <td>3.0</td>\n",
       "      <td>3.0</td>\n",
       "      <td>3</td>\n",
       "      <td>1</td>\n",
       "      <td>170</td>\n",
       "      <td>0.017647</td>\n",
       "      <td>0.005882</td>\n",
       "    </tr>\n",
       "    <tr>\n",
       "      <th>48</th>\n",
       "      <td>0435196871A1</td>\n",
       "      <td>We live in a world where almost everyone has d...</td>\n",
       "      <td>3.0</td>\n",
       "      <td>3.0</td>\n",
       "      <td>2.5</td>\n",
       "      <td>2.0</td>\n",
       "      <td>2.5</td>\n",
       "      <td>2.5</td>\n",
       "      <td>1</td>\n",
       "      <td>0</td>\n",
       "      <td>593</td>\n",
       "      <td>0.001686</td>\n",
       "      <td>0.000000</td>\n",
       "    </tr>\n",
       "    <tr>\n",
       "      <th>49</th>\n",
       "      <td>043B9F48FDC2</td>\n",
       "      <td>Should all the students have to take a music, ...</td>\n",
       "      <td>3.0</td>\n",
       "      <td>3.0</td>\n",
       "      <td>3.0</td>\n",
       "      <td>3.0</td>\n",
       "      <td>3.0</td>\n",
       "      <td>3.5</td>\n",
       "      <td>18</td>\n",
       "      <td>1</td>\n",
       "      <td>1079</td>\n",
       "      <td>0.016682</td>\n",
       "      <td>0.000927</td>\n",
       "    </tr>\n",
       "  </tbody>\n",
       "</table>\n",
       "</div>"
      ],
      "text/plain": [
       "         text_id                                          full_text  cohesion  \\\n",
       "0   0016926B079C  I think that students would benefit from learn...       3.5   \n",
       "1   0022683E9EA5  When a problem is a change you have to let it ...       2.5   \n",
       "2   00299B378633  Dear, Principal\\n\\nIf u change the school poli...       3.0   \n",
       "3   003885A45F42  The best time in life is when you become yours...       4.5   \n",
       "4   0049B1DF5CCC  Small act of kindness can impact in other peop...       2.5   \n",
       "5   004AC288D833  Dear Principal,\\r\\n\\r\\nOur school should have ...       3.5   \n",
       "6   005661280443  Imagine if you could prove other people that y...       3.5   \n",
       "7   008DDDDD8E8D  I think it's a good idea for the estudnets to ...       2.5   \n",
       "8   009BCCC61C2A  positive attitude is the key to success. I agr...       3.0   \n",
       "9   009F4E9310CB  Asking more than one person for and advice hel...       3.0   \n",
       "10  00B21F9B726F  Do you think its a good idea for students to c...       3.0   \n",
       "11  00BCADB373EF  A positive attitude is the key to success for ...       3.5   \n",
       "12  00D281524375  Technology allows people to do many things suc...       3.5   \n",
       "13  00ED2563D0B1  Philosopher, physician, and humanitarian Alber...       3.5   \n",
       "14  011AAA636F11  Have you ever solved a math problem in less th...       4.0   \n",
       "15  01350DF42AED  When, the people decide to have a good posture...       2.0   \n",
       "16  01405C3C569D  A positive attitude is the key for be successf...       3.0   \n",
       "17  01501F95B8B2  10pm curfews is a bad idea, why? Because teens...       3.0   \n",
       "18  017802562E71  March 12, 20019\\n\\nThe technology allows peopl...       3.0   \n",
       "19  01794F5F1423  Most schools have the same lunch menu every we...       3.0   \n",
       "20  017D2125A1DE  Interducaions\\n\\n:Summer vacation should be lo...       2.5   \n",
       "21  01911AC9674D  Sometimes people have good attitude and a diff...       2.0   \n",
       "22  019BDC9DF7CD  Although some say students will not be benefit...       3.0   \n",
       "23  01A65BA4080E  Most schools let students use their cell phone...       4.0   \n",
       "24  01B3FDB3FD57  Scientist Albert Einstein once said, \"Imaginat...       4.0   \n",
       "25  01C53183305A  They are some Schools offer for Students to Le...       2.0   \n",
       "26  0230A077F5B6  some school districts offer programs that allo...       3.0   \n",
       "27  025722D0AFB7  Now a days most employers are looking for spec...       4.5   \n",
       "28  027CB6393714  Hello, my name is Generic_Name and I am a stud...       3.0   \n",
       "29  02B07248077F  I am agree everyone should be make own decisio...       2.5   \n",
       "30  02B36EBD5C66  Students can benefit from this option, but als...       4.0   \n",
       "31  0316F6288791  The new generation of students decide to take ...       3.0   \n",
       "32  032EA4B76BF5  Some people may think that positive attitude i...       3.5   \n",
       "33  036042533396  Do you ever feel like giving up just because y...       3.5   \n",
       "34  0369AD4B5726  I would agree with being honest at all times b...       2.0   \n",
       "35  037C88B5B111  Most of the schools in around the world that c...       4.0   \n",
       "36  037ED3EA2982  Do you think positive attitude is the key to s...       3.0   \n",
       "37  0381BBE47393  Thomas Jefferson wrote, \"Determine never to be...       4.0   \n",
       "38  0383E4A36E46  If I could go to visit anywhere in the world, ...       4.0   \n",
       "39  03844422EA75  my name is Generic_Name and my story is about ...       1.0   \n",
       "40  038480498E5A  Dear Principal,\\r\\n\\r\\nI think that it is a gr...       4.0   \n",
       "41  03A3B40D651B  One of the smartest people on earth said that ...       2.5   \n",
       "42  03C9E7A15C42  I think that what\\n\\nAuther ralph waldo wrote ...       2.5   \n",
       "43  03CB73341E0E  Do you think its a good idea to have somone ma...       3.5   \n",
       "44  03CC97D3747E  Many schools have partner ships with companies...       4.0   \n",
       "45  03D00899C901  I think yes, that if you have a positive attit...       2.5   \n",
       "46  03F7CF142B70  many people say that True self-esstem does com...       4.0   \n",
       "47  0420DDE0BABD  I agree, because you threw failure to be succe...       3.0   \n",
       "48  0435196871A1  We live in a world where almost everyone has d...       3.0   \n",
       "49  043B9F48FDC2  Should all the students have to take a music, ...       3.0   \n",
       "\n",
       "    syntax  vocabulary  phraseology  grammar  conventions  miss_count  \\\n",
       "0      3.5         3.0          3.0      4.0          3.0           0   \n",
       "1      2.5         3.0          2.0      2.0          2.5           1   \n",
       "2      3.5         3.0          3.0      3.0          2.5           4   \n",
       "3      4.5         4.5          4.5      4.0          5.0           1   \n",
       "4      3.0         3.0          3.0      2.5          2.5           7   \n",
       "5      4.0         4.0          3.5      3.5          4.0           0   \n",
       "6      4.0         3.5          3.5      4.0          4.0           1   \n",
       "7      2.5         2.5          2.5      2.5          2.0          22   \n",
       "8      3.0         3.5          3.5      3.0          3.0          10   \n",
       "9      3.0         3.5          2.5      3.0          2.5           2   \n",
       "10     3.5         3.5          3.5      3.5          3.0           2   \n",
       "11     3.0         4.0          3.5      3.0          3.0           1   \n",
       "12     2.5         3.5          3.0      3.0          3.0           8   \n",
       "13     3.0         3.5          3.5      3.5          4.0           2   \n",
       "14     3.5         3.0          4.0      3.5          4.0           8   \n",
       "15     2.0         2.0          2.0      2.0          2.0           1   \n",
       "16     2.0         3.0          2.5      2.5          2.5           0   \n",
       "17     4.0         3.0          4.0      3.5          3.0           0   \n",
       "18     2.0         3.5          2.5      2.5          2.5           2   \n",
       "19     3.5         3.0          3.5      4.0          3.0           0   \n",
       "20     2.5         3.0          2.0      2.0          2.5           4   \n",
       "21     2.5         2.5          2.0      2.0          2.5           2   \n",
       "22     3.0         3.0          3.0      2.5          3.0           0   \n",
       "23     4.0         4.0          4.0      4.5          3.5           7   \n",
       "24     4.5         5.0          4.0      5.0          4.5           0   \n",
       "25     2.0         2.5          2.0      3.0          2.0          14   \n",
       "26     2.5         2.5          2.5      2.0          2.5          27   \n",
       "27     4.0         4.0          4.0      4.0          3.5          11   \n",
       "28     3.0         2.5          3.5      4.0          3.0           2   \n",
       "29     2.0         3.0          2.0      2.5          2.0          16   \n",
       "30     4.0         4.5          3.5      3.5          4.0           0   \n",
       "31     2.5         3.0          3.0      2.5          3.0           3   \n",
       "32     3.5         3.0          3.0      3.5          3.0           0   \n",
       "33     3.5         3.5          4.0      3.0          4.0          12   \n",
       "34     3.0         3.5          3.0      3.0          3.5           3   \n",
       "35     3.5         3.5          3.0      3.0          3.5           6   \n",
       "36     2.5         3.0          3.0      3.5          3.0           0   \n",
       "37     3.0         3.5          3.5      3.0          3.5           0   \n",
       "38     3.0         3.5          3.0      4.0          3.0           3   \n",
       "39     1.0         2.0          2.0      1.5          1.0          43   \n",
       "40     3.0         3.5          3.5      3.0          3.5           8   \n",
       "41     3.0         3.5          3.0      3.5          3.0           0   \n",
       "42     2.5         2.5          2.5      2.0          2.5          17   \n",
       "43     3.5         4.0          3.5      4.0          4.0           5   \n",
       "44     4.5         4.5          4.5      4.5          4.0           2   \n",
       "45     2.5         3.5          3.0      3.5          2.5           0   \n",
       "46     3.0         3.5          3.5      3.5          3.0           5   \n",
       "47     3.0         3.0          2.5      3.0          3.0           3   \n",
       "48     3.0         2.5          2.0      2.5          2.5           1   \n",
       "49     3.0         3.0          3.0      3.0          3.5          18   \n",
       "\n",
       "    bos_count  word_count  miss_rate  bos_rate  \n",
       "0          15         262   0.000000  0.057252  \n",
       "1           4         533   0.001876  0.007505  \n",
       "2           2         320   0.012500  0.006250  \n",
       "3           2         727   0.001376  0.002751  \n",
       "4           0         234   0.029915  0.000000  \n",
       "5          14         329   0.000000  0.042553  \n",
       "6           0         431   0.002320  0.000000  \n",
       "7           4         387   0.056848  0.010336  \n",
       "8           1         571   0.017513  0.001751  \n",
       "9           6         398   0.005025  0.015075  \n",
       "10          4         315   0.006349  0.012698  \n",
       "11          0         411   0.002433  0.000000  \n",
       "12          0         201   0.039801  0.000000  \n",
       "13          0         682   0.002933  0.000000  \n",
       "14          1         685   0.011679  0.001460  \n",
       "15          2         303   0.003300  0.006601  \n",
       "16          0         399   0.000000  0.000000  \n",
       "17          7         676   0.000000  0.010355  \n",
       "18          4         227   0.008811  0.017621  \n",
       "19          1         288   0.000000  0.003472  \n",
       "20          3         379   0.010554  0.007916  \n",
       "21          0         421   0.004751  0.000000  \n",
       "22          1         307   0.000000  0.003257  \n",
       "23          0         628   0.011146  0.000000  \n",
       "24          3         537   0.000000  0.005587  \n",
       "25          0         183   0.076503  0.000000  \n",
       "26          6         540   0.050000  0.011111  \n",
       "27          2         522   0.021073  0.003831  \n",
       "28          1         312   0.006410  0.003205  \n",
       "29          4         226   0.070796  0.017699  \n",
       "30          0         419   0.000000  0.000000  \n",
       "31          3         443   0.006772  0.006772  \n",
       "32          0         249   0.000000  0.000000  \n",
       "33          4         579   0.020725  0.006908  \n",
       "34          6        1136   0.002641  0.005282  \n",
       "35          2         701   0.008559  0.002853  \n",
       "36          7         591   0.000000  0.011844  \n",
       "37          1         437   0.000000  0.002288  \n",
       "38          8         527   0.005693  0.015180  \n",
       "39          1         315   0.136508  0.003175  \n",
       "40          0         319   0.025078  0.000000  \n",
       "41          1         285   0.000000  0.003509  \n",
       "42          4         425   0.040000  0.009412  \n",
       "43          1         464   0.010776  0.002155  \n",
       "44          3         706   0.002833  0.004249  \n",
       "45          0         586   0.000000  0.000000  \n",
       "46          5         303   0.016502  0.016502  \n",
       "47          1         170   0.017647  0.005882  \n",
       "48          0         593   0.001686  0.000000  \n",
       "49          1        1079   0.016682  0.000927  "
      ]
     },
     "execution_count": 349,
     "metadata": {},
     "output_type": "execute_result"
    }
   ],
   "source": [
    "df.head(50)"
   ]
  },
  {
   "cell_type": "code",
   "execution_count": 350,
   "id": "6ca87266-0da3-4e0e-9572-bdab10d8ceaa",
   "metadata": {},
   "outputs": [
    {
     "name": "stdout",
     "output_type": "stream",
     "text": [
      "[[ 1.         -0.22176186]\n",
      " [-0.22176186  1.        ]]\n",
      "[[ 1.         -0.20052666]\n",
      " [-0.20052666  1.        ]]\n",
      "[[ 1.         -0.19412703]\n",
      " [-0.19412703  1.        ]]\n",
      "[[ 1.         -0.19799324]\n",
      " [-0.19799324  1.        ]]\n",
      "[[ 1.         -0.15859802]\n",
      " [-0.15859802  1.        ]]\n",
      "[[ 1.         -0.25271956]\n",
      " [-0.25271956  1.        ]]\n"
     ]
    }
   ],
   "source": [
    "a = df['bos_rate'].to_numpy()\n",
    "col_list = ['cohesion', 'syntax', 'vocabulary','phraseology', 'grammar', 'conventions']\n",
    "for i in col_list:\n",
    "    col = df[i].to_numpy()\n",
    "    print(np.corrcoef(a, col))"
   ]
  },
  {
   "cell_type": "code",
   "execution_count": 351,
   "id": "5807fbac-9252-4d9b-9cd6-38878781f8dd",
   "metadata": {},
   "outputs": [
    {
     "name": "stdout",
     "output_type": "stream",
     "text": [
      "[[ 1.         -0.30165381]\n",
      " [-0.30165381  1.        ]]\n",
      "[[ 1.         -0.31441128]\n",
      " [-0.31441128  1.        ]]\n",
      "[[ 1.         -0.32759314]\n",
      " [-0.32759314  1.        ]]\n",
      "[[ 1.         -0.30803942]\n",
      " [-0.30803942  1.        ]]\n",
      "[[ 1.        -0.2834608]\n",
      " [-0.2834608  1.       ]]\n",
      "[[ 1.         -0.46976156]\n",
      " [-0.46976156  1.        ]]\n"
     ]
    }
   ],
   "source": [
    "a = df['miss_rate'].to_numpy()\n",
    "col_list = ['cohesion', 'syntax', 'vocabulary','phraseology', 'grammar', 'conventions']\n",
    "for i in col_list:\n",
    "    col = df[i].to_numpy()\n",
    "    print(np.corrcoef(a, col))"
   ]
  },
  {
   "cell_type": "markdown",
   "id": "92a28d7c-93bc-4e6c-a71a-b79b5228284b",
   "metadata": {},
   "source": [
    "* 全体において最も高い相関　0.46976156"
   ]
  },
  {
   "cell_type": "code",
   "execution_count": 363,
   "id": "3343da2e-c671-41a2-8219-17494b9fcad5",
   "metadata": {},
   "outputs": [
    {
     "name": "stdout",
     "output_type": "stream",
     "text": [
      "[[ 1.         -0.34588964]\n",
      " [-0.34588964  1.        ]]\n",
      "[[ 1.         -0.34943788]\n",
      " [-0.34943788  1.        ]]\n",
      "[[ 1.         -0.35872923]\n",
      " [-0.35872923  1.        ]]\n",
      "[[ 1.         -0.34291009]\n",
      " [-0.34291009  1.        ]]\n",
      "[[ 1.        -0.3070086]\n",
      " [-0.3070086  1.       ]]\n",
      "[[ 1.         -0.50512497]\n",
      " [-0.50512497  1.        ]]\n"
     ]
    }
   ],
   "source": [
    "# ミススペルと文頭の大文字のミスから算出\n",
    "\n",
    "a = df['bos_rate'] + (df['miss_rate'] * 1.4)\n",
    "col_list = ['cohesion', 'syntax', 'vocabulary','phraseology', 'grammar', 'conventions']\n",
    "for i in col_list:\n",
    "    col = df[i].to_numpy()\n",
    "    print(np.corrcoef(a, col))"
   ]
  },
  {
   "cell_type": "markdown",
   "id": "6631e674-dda1-4bbc-bab1-af11c40c045f",
   "metadata": {},
   "source": [
    "* 文頭 + 1.4 * ミススペル　　0.50512497"
   ]
  },
  {
   "cell_type": "code",
   "execution_count": 331,
   "id": "7ba2416a-e013-47ab-a41e-ffdc3a25a1e8",
   "metadata": {},
   "outputs": [],
   "source": [
    "text = df['full_text']"
   ]
  },
  {
   "cell_type": "code",
   "execution_count": 333,
   "id": "72685d4f-8a73-4b35-ba04-6c4e392a4e8a",
   "metadata": {},
   "outputs": [
    {
     "data": {
      "text/plain": [
       "\"A positive attitude is the key for be successful person in the life make our days happy and interesting, because all do you need to do is be pleasant with yourself and the people around you, if you have a good position a way of thinking or feeling the things around you make your attitude positive.\\n\\nExample: If you are a worker of costumer service the costumer say bad things about you like you are not a good worker somethings like that, but you don't change your attitude because you know the costumer always have the reason, you never has to change your mind you know your position your attitude has to be positive and continue work with a great attitude.\\n\\nMaintain positive attitude can help you for a lot reasons. When you see the face from another person and you look his face tired, angry or mad, now you know that person don't have a positive attitude in his life or his environment, show a good face is important because the peoples know if you are ready for star doing something be active, connecting energy and thinking good make your days easy and great.\\n\\nAlthough for follow your dreams and your goals in the life you has to know yourself, give respect and receive, your attitude show the person if you are doing good. If you wanna have a good job make good trade,\\n\\nyour attitude give your personality and the peoples approve if you are the best candidate for a good job, if you are willing to have a positive attitude you can make big projects in the future.\\n\\nAnother example about positive attitude, if you are in a interview you need to show your skills and explain clearly good that you can do it, be honest and pleasant with the person that is going to confirm your job, he gonna see if you have the attitude if you are sufficient for have the job.\\n\\nClearly all the peoples know the positive attitude is the best way for creating good projects and big things your attitude can help you to make money, good jobs, a good house and a better future. Your attitude share good vibes and make the peoples around you happy the peoples that love you they gonna be happy to, just trying to do greatest things in your life with the best positive attitude.                                                                                                                                                                                                                                                                                                                                                                                                                                                                                               \""
      ]
     },
     "execution_count": 333,
     "metadata": {},
     "output_type": "execute_result"
    }
   ],
   "source": [
    "text[16]"
   ]
  },
  {
   "cell_type": "code",
   "execution_count": 338,
   "id": "fc299d07-8142-4b42-9914-de4a4700e4c0",
   "metadata": {},
   "outputs": [
    {
     "data": {
      "text/plain": [
       "['Should all the students have to take a music, a drama, or an art class',\n",
       " ' Or should it be an electives and they could be able to make their choice to take what they want',\n",
       " 'I believe that everyone have different opinion , interest, or things they want to do',\n",
       " \" They are able to make their on decision but i don't think that it has to be required to take a class that some people aren't interested in\",\n",
       " ' I am disagree with this prompt because those classes should an elective',\n",
       " \" In my opion i wouldn't take any of those classes and my reason why is because i am not going to enjoy or like the class because i am not interesting in it and there's not a required that i have to take any of those classes\",\n",
       " \" I had a friend who didn't want to come to his art class\",\n",
       " \" One day i asked him why don't you go to that class and he was like i don't like the class, i don't enjoy it at all and also i didn't choice it, they just put it in my schechule\",\n",
       " ' i was like look you should go to the office and talk to them about it',\n",
       " \" Because you dont want to be there and also you don't even come to that class and after a few days and he went to talk to his consul about it\",\n",
       " \" Less than a week he always be in his class and i was like it's your own choice to make desicion but i resolve it be cause you helped me\",\n",
       " \"But in other school i have one friend that he loves his art class and now he's taking it almost every year and he told me\",\n",
       " \" Generic_Name you should take an art class because it's really cool and you do a lot of art also i enjoy it and i really like the class but i don't know what do you like but in my perpective i would take an art class every year\",\n",
       " \" I told him look i am not going to take a class that i don't like because i'd rather be in a class that i like and i would enjoy it and i want to do stuff that i like and it will be my choice if i enjoy or not a class\",\n",
       " ' Because look there\\'s a lot of option and you can make a decicion and he told me \" Yeah you right\" and by it i just tell them everybody have to make their own decion but also remember that every decion have a concecuense',\n",
       " \" I asked a lot of people what would you do if they put you in a classs that you don't want to be in it\",\n",
       " '',\n",
       " \" They told me i just going to talk in the ofice so they can change it and i would love to come to that class but i also have the right to say something about if i don't like or i do like something cause we have a right to speak up\",\n",
       " \"We should be able to choice what we want to study we don't have to have a requiered to do things we could do things by our own\",\n",
       " \" But there might be a thing that make people think we should have a required to take classes that we don't want but also they have to think about that we are teenager and we might have our future planed but if they don't know that they have to take some classes they don't even want to take then those type of things make people think that's why we have to take classes to prove ourself\",\n",
       " \" Another things and it influence a lot that they make required to do things and students just don't want to they have to think how we feel about things and how we would react\",\n",
       " \" We all know that sometimes we are not in a mood or we are in our feeling or we just don't feel the day at all and it can affect our decion and required because people who make the required they just don't care about how would you feel or anything they just chose what they want and they say what they think will be better for a lot of students but the thing they don't think about it how would react to thing like i said earlier every decion has a consecuense and it could be good or bad but we have to deal with it\",\n",
       " \"Most of the students would like to have all classes how they want and when they cannot do something they want then there's when the things starting coming out\",\n",
       " \" Becuase they don't like it their behavior chnage and everything in that class\",\n",
       " \" So all studesnts should be able to have the right to change things and everything in their schedule but their consul should have the right to say no to things that are not important at all and they could say you are taking this class because of this reason and you can't do it\",\n",
       " ' Of course they will say something but they are taking care of their future and things they would do in life by taking any of this three classes',\n",
       " ' It might be good thing or it could be a bad thing but we just have to lisent to our students',\n",
       " \"Everyone have a right to make their own desion about classes and others things but if there's a required we are not able to do anythig\",\n",
       " ' Because we just have to respect the rules and do it without our opinion',\n",
       " ' If we are able to make a choice then our feeling and the way we would feel about classes it will be matter and we could make our decicion and we will like the thing we choose',\n",
       " ' But sometimes we just cannot make the decision and someone else would chose it for us so we just have to see the pro and con about the desicion we would make or the thing we would do without thinking',\n",
       " \" I think it shouldn't be a required to take this classes and it would be a elective class because some people wouldn't take this type of classes they are not going to enjoy it and go because they just don't like it at all and everyone have the desicion to speak up and make decision by our own\",\n",
       " '']"
      ]
     },
     "execution_count": 338,
     "metadata": {},
     "output_type": "execute_result"
    }
   ],
   "source": [
    "a = text[49].replace('\\n', '')\n",
    "a = a.replace('\\r', '')\n",
    "# コロン，?,!で区切る\n",
    "a = re.split('[.?!]', a)\n",
    "a"
   ]
  },
  {
   "cell_type": "code",
   "execution_count": 337,
   "id": "f921ba12-37ca-420c-a8eb-ffe852a734b4",
   "metadata": {},
   "outputs": [
    {
     "data": {
      "text/plain": [
       "['A positive attitude is the key for be successful person in the life make our days happy and interesting, because all do you need to do is be pleasant with yourself and the people around you, if you have a good position a way of thinking or feeling the things around you make your attitude positive',\n",
       " \"Example: If you are a worker of costumer service the costumer say bad things about you like you are not a good worker somethings like that, but you don't change your attitude because you know the costumer always have the reason, you never has to change your mind you know your position your attitude has to be positive and continue work with a great attitude\",\n",
       " 'Maintain positive attitude can help you for a lot reasons',\n",
       " \" When you see the face from another person and you look his face tired, angry or mad, now you know that person don't have a positive attitude in his life or his environment, show a good face is important because the peoples know if you are ready for star doing something be active, connecting energy and thinking good make your days easy and great\",\n",
       " 'Although for follow your dreams and your goals in the life you has to know yourself, give respect and receive, your attitude show the person if you are doing good',\n",
       " ' If you wanna have a good job make good trade,your attitude give your personality and the peoples approve if you are the best candidate for a good job, if you are willing to have a positive attitude you can make big projects in the future',\n",
       " 'Another example about positive attitude, if you are in a interview you need to show your skills and explain clearly good that you can do it, be honest and pleasant with the person that is going to confirm your job, he gonna see if you have the attitude if you are sufficient for have the job',\n",
       " 'Clearly all the peoples know the positive attitude is the best way for creating good projects and big things your attitude can help you to make money, good jobs, a good house and a better future',\n",
       " ' Your attitude share good vibes and make the peoples around you happy the peoples that love you they gonna be happy to, just trying to do greatest things in your life with the best positive attitude',\n",
       " '                                                                                                                                                                                                                                                                                                                                                                                                                                                                                               ']"
      ]
     },
     "execution_count": 337,
     "metadata": {},
     "output_type": "execute_result"
    }
   ],
   "source": [
    "a = text[16].replace('\\n', '')\n",
    "a = a.replace('\\r', '')\n",
    "# コロン，?,!で区切る\n",
    "a = re.split('[.?!]', a)\n",
    "a"
   ]
  },
  {
   "cell_type": "markdown",
   "id": "2f7bbdd1-87c6-407a-ab9b-7f09defe4647",
   "metadata": {},
   "source": [
    "## LightGBMでの予測"
   ]
  },
  {
   "cell_type": "code",
   "execution_count": 364,
   "id": "1a329787-9409-4eb1-a5e4-acd6d91691fd",
   "metadata": {},
   "outputs": [
    {
     "data": {
      "text/html": [
       "<div>\n",
       "<style scoped>\n",
       "    .dataframe tbody tr th:only-of-type {\n",
       "        vertical-align: middle;\n",
       "    }\n",
       "\n",
       "    .dataframe tbody tr th {\n",
       "        vertical-align: top;\n",
       "    }\n",
       "\n",
       "    .dataframe thead th {\n",
       "        text-align: right;\n",
       "    }\n",
       "</style>\n",
       "<table border=\"1\" class=\"dataframe\">\n",
       "  <thead>\n",
       "    <tr style=\"text-align: right;\">\n",
       "      <th></th>\n",
       "      <th>text_id</th>\n",
       "      <th>full_text</th>\n",
       "      <th>cohesion</th>\n",
       "      <th>syntax</th>\n",
       "      <th>vocabulary</th>\n",
       "      <th>phraseology</th>\n",
       "      <th>grammar</th>\n",
       "      <th>conventions</th>\n",
       "      <th>miss_count</th>\n",
       "      <th>bos_count</th>\n",
       "      <th>word_count</th>\n",
       "      <th>miss_rate</th>\n",
       "      <th>bos_rate</th>\n",
       "    </tr>\n",
       "  </thead>\n",
       "  <tbody>\n",
       "    <tr>\n",
       "      <th>0</th>\n",
       "      <td>0016926B079C</td>\n",
       "      <td>I think that students would benefit from learn...</td>\n",
       "      <td>3.5</td>\n",
       "      <td>3.5</td>\n",
       "      <td>3.0</td>\n",
       "      <td>3.0</td>\n",
       "      <td>4.0</td>\n",
       "      <td>3.0</td>\n",
       "      <td>0</td>\n",
       "      <td>15</td>\n",
       "      <td>262</td>\n",
       "      <td>0.000000</td>\n",
       "      <td>0.057252</td>\n",
       "    </tr>\n",
       "    <tr>\n",
       "      <th>1</th>\n",
       "      <td>0022683E9EA5</td>\n",
       "      <td>When a problem is a change you have to let it ...</td>\n",
       "      <td>2.5</td>\n",
       "      <td>2.5</td>\n",
       "      <td>3.0</td>\n",
       "      <td>2.0</td>\n",
       "      <td>2.0</td>\n",
       "      <td>2.5</td>\n",
       "      <td>1</td>\n",
       "      <td>4</td>\n",
       "      <td>533</td>\n",
       "      <td>0.001876</td>\n",
       "      <td>0.007505</td>\n",
       "    </tr>\n",
       "    <tr>\n",
       "      <th>2</th>\n",
       "      <td>00299B378633</td>\n",
       "      <td>Dear, Principal\\n\\nIf u change the school poli...</td>\n",
       "      <td>3.0</td>\n",
       "      <td>3.5</td>\n",
       "      <td>3.0</td>\n",
       "      <td>3.0</td>\n",
       "      <td>3.0</td>\n",
       "      <td>2.5</td>\n",
       "      <td>4</td>\n",
       "      <td>2</td>\n",
       "      <td>320</td>\n",
       "      <td>0.012500</td>\n",
       "      <td>0.006250</td>\n",
       "    </tr>\n",
       "    <tr>\n",
       "      <th>3</th>\n",
       "      <td>003885A45F42</td>\n",
       "      <td>The best time in life is when you become yours...</td>\n",
       "      <td>4.5</td>\n",
       "      <td>4.5</td>\n",
       "      <td>4.5</td>\n",
       "      <td>4.5</td>\n",
       "      <td>4.0</td>\n",
       "      <td>5.0</td>\n",
       "      <td>1</td>\n",
       "      <td>2</td>\n",
       "      <td>727</td>\n",
       "      <td>0.001376</td>\n",
       "      <td>0.002751</td>\n",
       "    </tr>\n",
       "    <tr>\n",
       "      <th>4</th>\n",
       "      <td>0049B1DF5CCC</td>\n",
       "      <td>Small act of kindness can impact in other peop...</td>\n",
       "      <td>2.5</td>\n",
       "      <td>3.0</td>\n",
       "      <td>3.0</td>\n",
       "      <td>3.0</td>\n",
       "      <td>2.5</td>\n",
       "      <td>2.5</td>\n",
       "      <td>7</td>\n",
       "      <td>0</td>\n",
       "      <td>234</td>\n",
       "      <td>0.029915</td>\n",
       "      <td>0.000000</td>\n",
       "    </tr>\n",
       "  </tbody>\n",
       "</table>\n",
       "</div>"
      ],
      "text/plain": [
       "        text_id                                          full_text  cohesion  \\\n",
       "0  0016926B079C  I think that students would benefit from learn...       3.5   \n",
       "1  0022683E9EA5  When a problem is a change you have to let it ...       2.5   \n",
       "2  00299B378633  Dear, Principal\\n\\nIf u change the school poli...       3.0   \n",
       "3  003885A45F42  The best time in life is when you become yours...       4.5   \n",
       "4  0049B1DF5CCC  Small act of kindness can impact in other peop...       2.5   \n",
       "\n",
       "   syntax  vocabulary  phraseology  grammar  conventions  miss_count  \\\n",
       "0     3.5         3.0          3.0      4.0          3.0           0   \n",
       "1     2.5         3.0          2.0      2.0          2.5           1   \n",
       "2     3.5         3.0          3.0      3.0          2.5           4   \n",
       "3     4.5         4.5          4.5      4.0          5.0           1   \n",
       "4     3.0         3.0          3.0      2.5          2.5           7   \n",
       "\n",
       "   bos_count  word_count  miss_rate  bos_rate  \n",
       "0         15         262   0.000000  0.057252  \n",
       "1          4         533   0.001876  0.007505  \n",
       "2          2         320   0.012500  0.006250  \n",
       "3          2         727   0.001376  0.002751  \n",
       "4          0         234   0.029915  0.000000  "
      ]
     },
     "execution_count": 364,
     "metadata": {},
     "output_type": "execute_result"
    }
   ],
   "source": [
    "df.head()"
   ]
  },
  {
   "cell_type": "code",
   "execution_count": 371,
   "id": "c488dfac-3a36-4791-91b2-2e723ec567b1",
   "metadata": {},
   "outputs": [],
   "source": [
    "import lightgbm as lgbm\n",
    "\n",
    "from sklearn.model_selection import train_test_split"
   ]
  },
  {
   "cell_type": "code",
   "execution_count": 372,
   "id": "ab3ff73f-4ba9-4cac-8587-23b1c87f71f1",
   "metadata": {},
   "outputs": [],
   "source": [
    "x = df[['miss_count','bos_count','word_count','miss_rate','bos_rate']]\n",
    "y = df['conventions']"
   ]
  },
  {
   "cell_type": "code",
   "execution_count": 375,
   "id": "3498b1ef-c488-4eea-b21f-a72727858906",
   "metadata": {},
   "outputs": [],
   "source": [
    "x_train,x_valid,y_train,y_valid = train_test_split(x,y,test_size = 0.3, random_state=3655)"
   ]
  },
  {
   "cell_type": "code",
   "execution_count": 379,
   "id": "d8ac72f9-cc89-420b-bd67-c78e6a11de01",
   "metadata": {},
   "outputs": [
    {
     "name": "stdout",
     "output_type": "stream",
     "text": [
      "[LightGBM] [Warning] Auto-choosing col-wise multi-threading, the overhead of testing was 0.001119 seconds.\n",
      "You can set `force_col_wise=true` to remove the overhead.\n",
      "[LightGBM] [Info] Total Bins 821\n",
      "[LightGBM] [Info] Number of data points in the train set: 2737, number of used features: 5\n",
      "[LightGBM] [Info] Start training from score 3.071246\n",
      "Training until validation scores don't improve for 20 rounds\n",
      "[10]\ttraining's rmse: 0.60747\tvalid_1's rmse: 0.605989\n",
      "[20]\ttraining's rmse: 0.57837\tvalid_1's rmse: 0.584795\n",
      "[30]\ttraining's rmse: 0.564741\tvalid_1's rmse: 0.577608\n",
      "[40]\ttraining's rmse: 0.557666\tvalid_1's rmse: 0.575333\n",
      "[50]\ttraining's rmse: 0.553032\tvalid_1's rmse: 0.575127\n",
      "[60]\ttraining's rmse: 0.549615\tvalid_1's rmse: 0.575744\n",
      "Early stopping, best iteration is:\n",
      "[46]\ttraining's rmse: 0.554705\tvalid_1's rmse: 0.574914\n",
      "[LightGBM] [Warning] Unknown parameter: num_interation\n"
     ]
    }
   ],
   "source": [
    "\n",
    "categorical_features = []\n",
    "\n",
    "#LightGBM用の訓練データセットを作成\n",
    "lgb_train = lgb.Dataset(x_train,y_train,categorical_feature=categorical_features,free_raw_data=False)\n",
    "\n",
    "#LightGBM用の評価データセットを作成\n",
    "lgb_eval = lgb.Dataset(x_valid,y_valid,reference=lgb_train,categorical_feature=categorical_features,free_raw_data=False)\n",
    "\n",
    "\n",
    "#ハイパーパラメータを設定\n",
    "params = {\n",
    "    'boosting_type': 'gbdt',\n",
    "\n",
    "    #'objective': 'binary', 二値分類\n",
    "    'objective': 'regression', #回帰\n",
    "    \n",
    "    'metric':'rmse',\n",
    "    #'metric': {'l2', 'l1'}, \n",
    "\n",
    "    'num_leaves': 10,\n",
    "    'learning_rate': 0.05,\n",
    "    #'feature_fraction': 0.9,\n",
    "    #'bagging_fraction': 0.8,\n",
    "    #'bagging_freq': 5,\n",
    "    #'vervose': 0\n",
    "    \n",
    "}\n",
    "\n",
    "#LightGBMの学習\n",
    "lgbm_model = lgbm.train(params,lgb_train,\n",
    "                 valid_sets=[lgb_train,lgb_eval],\n",
    "                 verbose_eval=10,\n",
    "                 num_boost_round=100,\n",
    "                 early_stopping_rounds= 20)\n",
    "\n",
    "#最もスコアの良いモデルの保存\n",
    "optimum_boost_rounds = lgbm_model.best_iteration\n",
    "\n",
    "#LightGBMの予測\n",
    "y_pred = lgbm_model.predict(x_valid,num_interation=lgbm_model.best_iteration)"
   ]
  },
  {
   "cell_type": "markdown",
   "id": "b1a111a6-b45d-4054-8fda-325cbaa845b5",
   "metadata": {},
   "source": [
    "## 線形回帰"
   ]
  },
  {
   "cell_type": "code",
   "execution_count": 380,
   "id": "4a15fcd4-88c4-446a-83cb-7bb7d74da6e4",
   "metadata": {},
   "outputs": [
    {
     "data": {
      "text/plain": [
       "LinearRegression()"
      ]
     },
     "execution_count": 380,
     "metadata": {},
     "output_type": "execute_result"
    }
   ],
   "source": [
    "from sklearn.linear_model import LinearRegression\n",
    "from sklearn.metrics import mean_squared_error\n",
    "\n",
    "\n",
    "lr = LinearRegression()\n",
    "lr.fit(x_train, y_train)"
   ]
  },
  {
   "cell_type": "code",
   "execution_count": 383,
   "id": "353ca773-9164-4a8b-a231-f950789ee392",
   "metadata": {},
   "outputs": [
    {
     "data": {
      "text/plain": [
       "0.5832381459822951"
      ]
     },
     "execution_count": 383,
     "metadata": {},
     "output_type": "execute_result"
    }
   ],
   "source": [
    "y_pred = lr.predict(x_valid) \n",
    "mean_squared_error(y_valid, y_pred,squared=False) # RMSE"
   ]
  },
  {
   "cell_type": "markdown",
   "id": "85246ef4-40da-4da5-b191-09cb7c9266e9",
   "metadata": {},
   "source": [
    "# word count"
   ]
  },
  {
   "cell_type": "code",
   "execution_count": 384,
   "id": "500ba33b-fcf7-43b1-a373-1cbc21538daf",
   "metadata": {},
   "outputs": [
    {
     "data": {
      "text/html": [
       "<div>\n",
       "<style scoped>\n",
       "    .dataframe tbody tr th:only-of-type {\n",
       "        vertical-align: middle;\n",
       "    }\n",
       "\n",
       "    .dataframe tbody tr th {\n",
       "        vertical-align: top;\n",
       "    }\n",
       "\n",
       "    .dataframe thead th {\n",
       "        text-align: right;\n",
       "    }\n",
       "</style>\n",
       "<table border=\"1\" class=\"dataframe\">\n",
       "  <thead>\n",
       "    <tr style=\"text-align: right;\">\n",
       "      <th></th>\n",
       "      <th>text_id</th>\n",
       "      <th>full_text</th>\n",
       "      <th>cohesion</th>\n",
       "      <th>syntax</th>\n",
       "      <th>vocabulary</th>\n",
       "      <th>phraseology</th>\n",
       "      <th>grammar</th>\n",
       "      <th>conventions</th>\n",
       "      <th>miss_count</th>\n",
       "      <th>bos_count</th>\n",
       "      <th>word_count</th>\n",
       "      <th>miss_rate</th>\n",
       "      <th>bos_rate</th>\n",
       "    </tr>\n",
       "  </thead>\n",
       "  <tbody>\n",
       "    <tr>\n",
       "      <th>0</th>\n",
       "      <td>0016926B079C</td>\n",
       "      <td>I think that students would benefit from learn...</td>\n",
       "      <td>3.5</td>\n",
       "      <td>3.5</td>\n",
       "      <td>3.0</td>\n",
       "      <td>3.0</td>\n",
       "      <td>4.0</td>\n",
       "      <td>3.0</td>\n",
       "      <td>0</td>\n",
       "      <td>15</td>\n",
       "      <td>262</td>\n",
       "      <td>0.000000</td>\n",
       "      <td>0.057252</td>\n",
       "    </tr>\n",
       "    <tr>\n",
       "      <th>1</th>\n",
       "      <td>0022683E9EA5</td>\n",
       "      <td>When a problem is a change you have to let it ...</td>\n",
       "      <td>2.5</td>\n",
       "      <td>2.5</td>\n",
       "      <td>3.0</td>\n",
       "      <td>2.0</td>\n",
       "      <td>2.0</td>\n",
       "      <td>2.5</td>\n",
       "      <td>1</td>\n",
       "      <td>4</td>\n",
       "      <td>533</td>\n",
       "      <td>0.001876</td>\n",
       "      <td>0.007505</td>\n",
       "    </tr>\n",
       "    <tr>\n",
       "      <th>2</th>\n",
       "      <td>00299B378633</td>\n",
       "      <td>Dear, Principal\\n\\nIf u change the school poli...</td>\n",
       "      <td>3.0</td>\n",
       "      <td>3.5</td>\n",
       "      <td>3.0</td>\n",
       "      <td>3.0</td>\n",
       "      <td>3.0</td>\n",
       "      <td>2.5</td>\n",
       "      <td>4</td>\n",
       "      <td>2</td>\n",
       "      <td>320</td>\n",
       "      <td>0.012500</td>\n",
       "      <td>0.006250</td>\n",
       "    </tr>\n",
       "    <tr>\n",
       "      <th>3</th>\n",
       "      <td>003885A45F42</td>\n",
       "      <td>The best time in life is when you become yours...</td>\n",
       "      <td>4.5</td>\n",
       "      <td>4.5</td>\n",
       "      <td>4.5</td>\n",
       "      <td>4.5</td>\n",
       "      <td>4.0</td>\n",
       "      <td>5.0</td>\n",
       "      <td>1</td>\n",
       "      <td>2</td>\n",
       "      <td>727</td>\n",
       "      <td>0.001376</td>\n",
       "      <td>0.002751</td>\n",
       "    </tr>\n",
       "    <tr>\n",
       "      <th>4</th>\n",
       "      <td>0049B1DF5CCC</td>\n",
       "      <td>Small act of kindness can impact in other peop...</td>\n",
       "      <td>2.5</td>\n",
       "      <td>3.0</td>\n",
       "      <td>3.0</td>\n",
       "      <td>3.0</td>\n",
       "      <td>2.5</td>\n",
       "      <td>2.5</td>\n",
       "      <td>7</td>\n",
       "      <td>0</td>\n",
       "      <td>234</td>\n",
       "      <td>0.029915</td>\n",
       "      <td>0.000000</td>\n",
       "    </tr>\n",
       "  </tbody>\n",
       "</table>\n",
       "</div>"
      ],
      "text/plain": [
       "        text_id                                          full_text  cohesion  \\\n",
       "0  0016926B079C  I think that students would benefit from learn...       3.5   \n",
       "1  0022683E9EA5  When a problem is a change you have to let it ...       2.5   \n",
       "2  00299B378633  Dear, Principal\\n\\nIf u change the school poli...       3.0   \n",
       "3  003885A45F42  The best time in life is when you become yours...       4.5   \n",
       "4  0049B1DF5CCC  Small act of kindness can impact in other peop...       2.5   \n",
       "\n",
       "   syntax  vocabulary  phraseology  grammar  conventions  miss_count  \\\n",
       "0     3.5         3.0          3.0      4.0          3.0           0   \n",
       "1     2.5         3.0          2.0      2.0          2.5           1   \n",
       "2     3.5         3.0          3.0      3.0          2.5           4   \n",
       "3     4.5         4.5          4.5      4.0          5.0           1   \n",
       "4     3.0         3.0          3.0      2.5          2.5           7   \n",
       "\n",
       "   bos_count  word_count  miss_rate  bos_rate  \n",
       "0         15         262   0.000000  0.057252  \n",
       "1          4         533   0.001876  0.007505  \n",
       "2          2         320   0.012500  0.006250  \n",
       "3          2         727   0.001376  0.002751  \n",
       "4          0         234   0.029915  0.000000  "
      ]
     },
     "execution_count": 384,
     "metadata": {},
     "output_type": "execute_result"
    }
   ],
   "source": [
    "df.head()"
   ]
  },
  {
   "cell_type": "code",
   "execution_count": 385,
   "id": "b8739e3f-2265-4c80-9ed9-47c0ba1c10a7",
   "metadata": {},
   "outputs": [
    {
     "name": "stdout",
     "output_type": "stream",
     "text": [
      "[[1.         0.21959199]\n",
      " [0.21959199 1.        ]]\n",
      "[[1.         0.18890172]\n",
      " [0.18890172 1.        ]]\n",
      "[[1.         0.27140807]\n",
      " [0.27140807 1.        ]]\n",
      "[[1.         0.21438339]\n",
      " [0.21438339 1.        ]]\n",
      "[[1.         0.08084063]\n",
      " [0.08084063 1.        ]]\n",
      "[[1.         0.14374432]\n",
      " [0.14374432 1.        ]]\n"
     ]
    }
   ],
   "source": [
    "# 単語数と評価の相関\n",
    "\n",
    "a = df['word_count']\n",
    "col_list = ['cohesion', 'syntax', 'vocabulary','phraseology', 'grammar', 'conventions']\n",
    "for i in col_list:\n",
    "    col = df[i].to_numpy()\n",
    "    print(np.corrcoef(a, col))"
   ]
  },
  {
   "cell_type": "code",
   "execution_count": 390,
   "id": "9d81f343-e827-46d8-b9d1-57eeea5262c4",
   "metadata": {},
   "outputs": [
    {
     "data": {
      "text/plain": [
       "<AxesSubplot:xlabel='conventions', ylabel='miss_rate'>"
      ]
     },
     "execution_count": 390,
     "metadata": {},
     "output_type": "execute_result"
    },
    {
     "data": {
      "image/png": "[encoded data removed]",
      "text/plain": [
       "<Figure size 2000x3000 with 1 Axes>"
      ]
     },
     "metadata": {},
     "output_type": "display_data"
    }
   ],
   "source": [
    "#x = df['conventions']\n",
    "#y = df['miss_count']\n",
    "plt.figure(figsize=(20, 30))\n",
    "#plt.scatter(x, y)\n",
    "sns.stripplot(x=\"conventions\", y=\"miss_rate\", data = df)"
   ]
  },
  {
   "cell_type": "code",
   "execution_count": 397,
   "id": "dbe582c2-964c-4255-b10f-cc0b4d99edff",
   "metadata": {},
   "outputs": [
    {
     "data": {
      "text/plain": [
       "<AxesSubplot:xlabel='conventions', ylabel='miss_rate'>"
      ]
     },
     "execution_count": 397,
     "metadata": {},
     "output_type": "execute_result"
    },
    {
     "data": {
      "image/png": "[encoded data removed]",
      "text/plain": [
       "<Figure size 3000x6000 with 1 Axes>"
      ]
     },
     "metadata": {},
     "output_type": "display_data"
    }
   ],
   "source": [
    "plt.figure(figsize=(30, 60))\n",
    "sns.boxplot(x=\"conventions\", y=\"miss_rate\", data = df)"
   ]
  },
  {
   "cell_type": "code",
   "execution_count": null,
   "id": "93083e61-96d8-4933-bab1-da943c4653f3",
   "metadata": {},
   "outputs": [],
   "source": []
  }
 ],
 "metadata": {
  "kernelspec": {
   "display_name": "Python 3 (ipykernel)",
   "language": "python",
   "name": "python3"
  },
  "language_info": {
   "codemirror_mode": {
    "name": "ipython",
    "version": 3
   },
   "file_extension": ".py",
   "mimetype": "text/x-python",
   "name": "python",
   "nbconvert_exporter": "python",
   "pygments_lexer": "ipython3",
   "version": "3.9.7"
  }
 },
 "nbformat": 4,
 "nbformat_minor": 5
}
