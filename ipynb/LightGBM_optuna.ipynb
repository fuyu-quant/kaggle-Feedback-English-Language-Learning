{
 "cells": [
  {
   "cell_type": "markdown",
   "id": "b619c0e2-cb02-493e-958c-7f8439517ff1",
   "metadata": {},
   "source": [
    "## ハイパラ探索"
   ]
  },
  {
   "cell_type": "code",
   "execution_count": 1,
   "id": "c49b5c1e-a8fb-409e-9a02-682a972ae772",
   "metadata": {},
   "outputs": [],
   "source": [
    "%%capture\n",
    "!pip install optuna"
   ]
  },
  {
   "cell_type": "code",
   "execution_count": 2,
   "id": "31b1d959-e8fd-4f59-a7a2-0a9607ad75e9",
   "metadata": {},
   "outputs": [],
   "source": [
    "import optuna\n",
    "import lightgbm as lgbm"
   ]
  },
  {
   "cell_type": "code",
   "execution_count": null,
   "id": "4a7866d0-701c-4073-9ed0-450ab9a11410",
   "metadata": {},
   "outputs": [],
   "source": [
    "def objective(trial):\n",
    "    param = {\n",
    "        'boosting_type': 'gbdt',\n",
    "        'objective': 'regression', #回帰\n",
    "        #'objective': 'multiclass',\n",
    "        #'num_class': 3,\n",
    "        # カテゴリの試行を行うパラメータ\n",
    "        #'boosting_type': trial.suggest_categorical('boosting_type', ['gbdt', 'dart']),\n",
    "        # 整数値の試行を行うパラメータ\n",
    "        'num_leavrs': trial.suggest_int('num_leaves', 10, 100),\n",
    "        # 対数値の試行を行うパラメータ\n",
    "        'learning_rate': trial.suggest_loguniform('learning_rate', 1e-3, 1.0),\n",
    "        # 連続値の試行を行うパラメータ\n",
    "        'feature_fraction': trial.suggest_uniform('feature_fraction', 0, 1),\n",
    "        # 離散値の試行を行うパラメータ(qは試行を行う間隔を調整する)\n",
    "        #'min_child_samples': trial.suggest_discrete_uniform('min_child_samples', 1, 10, 1)\n",
    "    }\n",
    "    \n",
    "    train_xy = lgbm.Dataset(train_x, train_y)\n",
    "    val_xy = lgbm.Dataset(test_x, test_y, reference=train_xy)\n",
    "\n",
    "    gbm = lgbm.train(param, train_xy,valid_sets = val_xy)\n",
    "    \n",
    "    pred_proba = gbm.predict(test_x)\n",
    "    pred = np.argmax(pred_proba, axis=1)\n",
    "    \n",
    "    auc = roc_auc_score(test_y, pred_proba, multi_class = 'ovr')\n",
    "    return auc\n",
    "\n",
    "\n",
    "study = optuna.create_study(direction='minimize')\n",
    "optuna.logging.disable_default_handler()\n",
    "study.optimize(objective, n_trials=100)"
   ]
  },
  {
   "cell_type": "code",
   "execution_count": 3,
   "id": "1e135f2c-d683-4c31-981d-307fad5750e1",
   "metadata": {},
   "outputs": [],
   "source": [
    "\n",
    "\n",
    "a = 2.73740527 + 2.75795948 + 2.75779647 + 2.65270397 + 2.75859398 + 2.75642107 + 2.84802281 + 2.79767242 + 2.68485293 + 3.03161365 "
   ]
  },
  {
   "cell_type": "code",
   "execution_count": 4,
   "id": "18fd310c-216f-4950-a14e-de558e19c218",
   "metadata": {},
   "outputs": [
    {
     "data": {
      "text/plain": [
       "2.7783042050000004"
      ]
     },
     "execution_count": 4,
     "metadata": {},
     "output_type": "execute_result"
    }
   ],
   "source": [
    "a/10"
   ]
  },
  {
   "cell_type": "code",
   "execution_count": null,
   "id": "8905eb11-ab6c-4ce3-861a-8783959b398b",
   "metadata": {},
   "outputs": [],
   "source": []
  }
 ],
 "metadata": {
  "kernelspec": {
   "display_name": "Python 3 (ipykernel)",
   "language": "python",
   "name": "python3"
  },
  "language_info": {
   "codemirror_mode": {
    "name": "ipython",
    "version": 3
   },
   "file_extension": ".py",
   "mimetype": "text/x-python",
   "name": "python",
   "nbconvert_exporter": "python",
   "pygments_lexer": "ipython3",
   "version": "3.9.7"
  }
 },
 "nbformat": 4,
 "nbformat_minor": 5
}
