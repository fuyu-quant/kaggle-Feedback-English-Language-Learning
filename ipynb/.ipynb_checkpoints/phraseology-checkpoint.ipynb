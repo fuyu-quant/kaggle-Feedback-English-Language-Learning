{
 "cells": [
  {
   "cell_type": "markdown",
   "id": "4815c708-0edd-4a0e-a24c-e4b9cabaeaad",
   "metadata": {},
   "source": [
    "# Phraseology\n",
    "* BERTなど\n",
    "* n_gramで得点別に見る\n",
    "* アテンションをみる"
   ]
  },
  {
   "cell_type": "markdown",
   "id": "72901994-33eb-42e1-bc3f-1d8b7b228c8a",
   "metadata": {},
   "source": [
    "#### 参考リンク\n",
    "* https://www.nltk.org/\n",
    "* https://qiita.com/RyoJimmer/items/1e26448f088760822547\n",
    "* https://qiita.com/3000manJPY/items/1c553a89b2c70edaa960\n",
    "* https://www.nihongo-appliedlinguistics.net/wp/archives/96"
   ]
  },
  {
   "cell_type": "code",
   "execution_count": null,
   "id": "7278f7da-1a40-40bf-8797-cdf455907a1c",
   "metadata": {},
   "outputs": [],
   "source": []
  }
 ],
 "metadata": {
  "kernelspec": {
   "display_name": "Python 3 (ipykernel)",
   "language": "python",
   "name": "python3"
  },
  "language_info": {
   "codemirror_mode": {
    "name": "ipython",
    "version": 3
   },
   "file_extension": ".py",
   "mimetype": "text/x-python",
   "name": "python",
   "nbconvert_exporter": "python",
   "pygments_lexer": "ipython3",
   "version": "3.9.7"
  }
 },
 "nbformat": 4,
 "nbformat_minor": 5
}
