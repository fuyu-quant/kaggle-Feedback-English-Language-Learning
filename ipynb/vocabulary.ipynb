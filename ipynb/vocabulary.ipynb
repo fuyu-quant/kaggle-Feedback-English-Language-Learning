{
 "cells": [
  {
   "cell_type": "markdown",
   "id": "e7d7f514-e336-411d-90e3-1b279be05c6f",
   "metadata": {},
   "source": [
    "# vocabulary\n",
    "* TF,IDF"
   ]
  },
  {
   "cell_type": "code",
   "execution_count": null,
   "id": "eb290024-da82-45c5-8857-2e7773519dae",
   "metadata": {},
   "outputs": [],
   "source": []
  }
 ],
 "metadata": {
  "kernelspec": {
   "display_name": "Python 3 (ipykernel)",
   "language": "python",
   "name": "python3"
  },
  "language_info": {
   "codemirror_mode": {
    "name": "ipython",
    "version": 3
   },
   "file_extension": ".py",
   "mimetype": "text/x-python",
   "name": "python",
   "nbconvert_exporter": "python",
   "pygments_lexer": "ipython3",
   "version": "3.9.7"
  }
 },
 "nbformat": 4,
 "nbformat_minor": 5
}
