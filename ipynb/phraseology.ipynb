{
 "cells": [
  {
   "cell_type": "markdown",
   "id": "4815c708-0edd-4a0e-a24c-e4b9cabaeaad",
   "metadata": {},
   "source": [
    "# Phraseology\n",
    "* イディオム，コロケーション，Lexical bundlesを柔軟かつ効果的に使えている，正確に使えている．  \n",
    "https://www.nihongo-appliedlinguistics.net/wp/archives/96\n",
    "* BERTなど\n",
    "* n_gramで得点別に見る\n",
    "* アテンションをみる"
   ]
  },
  {
   "cell_type": "markdown",
   "id": "72901994-33eb-42e1-bc3f-1d8b7b228c8a",
   "metadata": {},
   "source": [
    "#### 参考リンク\n",
    "* https://www.nltk.org/\n",
    "* https://qiita.com/RyoJimmer/items/1e26448f088760822547\n",
    "* https://qiita.com/3000manJPY/items/1c553a89b2c70edaa960"
   ]
  },
  {
   "cell_type": "code",
   "execution_count": 1,
   "id": "6f8688ab-71cb-4d63-ad33-ac84d2e11030",
   "metadata": {},
   "outputs": [
    {
     "name": "stdout",
     "output_type": "stream",
     "text": [
      "Collecting nltk\n",
      "  Downloading nltk-3.7-py3-none-any.whl (1.5 MB)\n",
      "\u001b[2K     \u001b[90m━━━━━━━━━━━━━━━━━━━━━━━━━━━━━━━━━━━━━━━━\u001b[0m \u001b[32m1.5/1.5 MB\u001b[0m \u001b[31m42.4 MB/s\u001b[0m eta \u001b[36m0:00:00\u001b[0m00:01\u001b[0m\n",
      "\u001b[?25hRequirement already satisfied: click in /usr/local/lib/python3.9/site-packages (from nltk) (8.1.3)\n",
      "Requirement already satisfied: joblib in /usr/local/lib/python3.9/site-packages (from nltk) (1.2.0)\n",
      "Requirement already satisfied: tqdm in /usr/local/lib/python3.9/site-packages (from nltk) (4.64.1)\n",
      "Collecting regex>=2021.8.3\n",
      "  Downloading regex-2022.10.31-cp39-cp39-manylinux_2_17_aarch64.manylinux2014_aarch64.whl (769 kB)\n",
      "\u001b[2K     \u001b[90m━━━━━━━━━━━━━━━━━━━━━━━━━━━━━━━━━━━━━━\u001b[0m \u001b[32m769.3/769.3 kB\u001b[0m \u001b[31m45.0 MB/s\u001b[0m eta \u001b[36m0:00:00\u001b[0m\n",
      "\u001b[?25hInstalling collected packages: regex, nltk\n",
      "Successfully installed nltk-3.7 regex-2022.10.31\n",
      "\u001b[33mWARNING: Running pip as the 'root' user can result in broken permissions and conflicting behaviour with the system package manager. It is recommended to use a virtual environment instead: https://pip.pypa.io/warnings/venv\u001b[0m\u001b[33m\n",
      "\u001b[0m"
     ]
    }
   ],
   "source": [
    "!pip install nltk"
   ]
  },
  {
   "cell_type": "code",
   "execution_count": 2,
   "id": "7278f7da-1a40-40bf-8797-cdf455907a1c",
   "metadata": {},
   "outputs": [],
   "source": [
    "import nltk"
   ]
  },
  {
   "cell_type": "code",
   "execution_count": null,
   "id": "27bee292-2a1b-4b28-a7ef-77e15e2f14a7",
   "metadata": {},
   "outputs": [],
   "source": []
  }
 ],
 "metadata": {
  "kernelspec": {
   "display_name": "Python 3 (ipykernel)",
   "language": "python",
   "name": "python3"
  },
  "language_info": {
   "codemirror_mode": {
    "name": "ipython",
    "version": 3
   },
   "file_extension": ".py",
   "mimetype": "text/x-python",
   "name": "python",
   "nbconvert_exporter": "python",
   "pygments_lexer": "ipython3",
   "version": "3.9.7"
  }
 },
 "nbformat": 4,
 "nbformat_minor": 5
}
