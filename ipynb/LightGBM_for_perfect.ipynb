{
 "cells": [
  {
   "cell_type": "markdown",
   "id": "8becd405-1441-4a63-a148-d1ce37e53cb5",
   "metadata": {},
   "source": [
    "## Perfect.csv用のLightGBM"
   ]
  },
  {
   "cell_type": "code",
   "execution_count": null,
   "id": "c06e2c0e-c880-477c-a546-68331f7869e7",
   "metadata": {},
   "outputs": [],
   "source": [
    "def train_lgbm(params, t_list, column, fold, df):\n",
    "    print(f'fold:{fold}')\n",
    "    print(f'columns:{column}')\n",
    "    \n",
    "    deberta_df = pd.read_csv(data_path + f'fold{fold}.csv')\n",
    "    df['cohesion'] = deberta_df['cohesion']\n",
    "    df['syntax'] = deberta_df['syntax']\n",
    "    df['vocabulary'] = deberta_df['vocabulary']\n",
    "    df['phraseology'] = deberta_df['phraseology']\n",
    "    df['grammar'] = deberta_df['grammar']\n",
    "    df['conventions'] = deberta_df['conventions']\n",
    "    df['fold'] = deberta_df['fold']\n",
    "    \n",
    "    df_train = df[df.fold != fold]\n",
    "    df_valid = df[df.fold == fold]\n",
    "        \n",
    "    # 学習データ\n",
    "    x_train = df_train.drop(t_list, axis = 1)\n",
    "    y_train = df_train[f'target-{column}']\n",
    "        \n",
    "    # 評価用データ\n",
    "    x_valid = df_valid.drop(t_list, axis = 1)\n",
    "    y_valid = df_valid[f'target-{column}']\n",
    "        \n",
    "    categorical_features = []\n",
    "        \n",
    "    #LightGBM用の訓練データセットを作成\n",
    "    lgb_train = lgbm.Dataset(x_train,y_train,categorical_feature=categorical_features,free_raw_data=False)\n",
    "\n",
    "    #LightGBM用の評価データセットを作成\n",
    "    lgb_eval = lgbm.Dataset(x_valid,y_valid,reference=lgb_train,categorical_feature=categorical_features,free_raw_data=False)\n",
    "\n",
    "    #LightGBMの学習\n",
    "    lgbm_model = lgbm.train(params,\n",
    "                            lgb_train,\n",
    "                            valid_sets=[lgb_train,lgb_eval],\n",
    "                            verbose_eval=100,\n",
    "                            # 計算回数\n",
    "                            num_boost_round=3000,\n",
    "                            early_stopping_rounds= 200\n",
    "                           )\n",
    "    \n",
    "    preds = lgbm_model.predict(x_valid)\n",
    "    rmse = np.sqrt(mean_squared_error(y_valid, preds))\n",
    "    print(rmse)\n",
    "    \n",
    "    file = f'lgbm_{column}_{fold}.pkl'\n",
    "    pickle.dump(lgbm_model, open(save_path + file, 'wb'))\n",
    "    \n",
    "    del df, lgb_train, lgb_eval\n",
    "    return rmse, lgbm_model"
   ]
  },
  {
   "cell_type": "code",
   "execution_count": null,
   "id": "ed15691c-4725-41c3-927e-4ba1fb17b05e",
   "metadata": {},
   "outputs": [],
   "source": [
    "0.44905\n",
    "0.42415\n",
    "0.430138\n",
    "0.413216"
   ]
  },
  {
   "cell_type": "code",
   "execution_count": null,
   "id": "7b50a288-0d21-4057-a33c-cb6a45d53060",
   "metadata": {},
   "outputs": [],
   "source": [
    "0.447626\n",
    "0.423544\n",
    "0.430148\n",
    "0.415338"
   ]
  },
  {
   "cell_type": "code",
   "execution_count": null,
   "id": "218f73ec-e44c-43ac-b1eb-13ef0c2a4dfd",
   "metadata": {},
   "outputs": [],
   "source": [
    "(0.444326 + 0.419902 + 0.424559 + 0.40874)/4"
   ]
  }
 ],
 "metadata": {
  "kernelspec": {
   "display_name": "Python 3 (ipykernel)",
   "language": "python",
   "name": "python3"
  },
  "language_info": {
   "codemirror_mode": {
    "name": "ipython",
    "version": 3
   },
   "file_extension": ".py",
   "mimetype": "text/x-python",
   "name": "python",
   "nbconvert_exporter": "python",
   "pygments_lexer": "ipython3",
   "version": "3.9.7"
  }
 },
 "nbformat": 4,
 "nbformat_minor": 5
}
