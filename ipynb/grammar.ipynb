{
 "cells": [
  {
   "cell_type": "markdown",
   "id": "1eb0d3af-e51c-4fc5-be14-7e4d6b406ef8",
   "metadata": {},
   "source": [
    "# Grammar\n",
    "* 文法や用法を正しく理解し，誤りがほとんどない\n",
    "* https://gingerit.readthedocs.io/en/latest/\n",
    "* https://predictivehacks.com/languagetool-grammar-and-spell-checker-in-python/\n",
    "* https://pypi.org/project/grammar-check/"
   ]
  },
  {
   "cell_type": "code",
   "execution_count": null,
   "id": "c297b428-151b-4226-a07b-9aecea4a6d7b",
   "metadata": {},
   "outputs": [],
   "source": []
  }
 ],
 "metadata": {
  "kernelspec": {
   "display_name": "Python 3 (ipykernel)",
   "language": "python",
   "name": "python3"
  },
  "language_info": {
   "codemirror_mode": {
    "name": "ipython",
    "version": 3
   },
   "file_extension": ".py",
   "mimetype": "text/x-python",
   "name": "python",
   "nbconvert_exporter": "python",
   "pygments_lexer": "ipython3",
   "version": "3.9.7"
  }
 },
 "nbformat": 4,
 "nbformat_minor": 5
}
