{
 "cells": [
  {
   "cell_type": "markdown",
   "id": "939816f4-9e40-4356-8346-3593fa7fea39",
   "metadata": {},
   "source": [
    "# AWS SageMakerで実行するためのnotebook\n",
    "* [SageMakerとGitHubの連携方法](https://predictivehacks.com/aws-sagemaker-and-github-integration/)"
   ]
  },
  {
   "cell_type": "code",
   "execution_count": null,
   "id": "2217ba76-b129-44a5-9b57-3c841b93cf74",
   "metadata": {},
   "outputs": [],
   "source": [
    "import sagemaker\n",
    "from sagemaker.estimator import Estimator\n",
    "\n",
    "session = sagemaker.Session()\n",
    "role = sagemaker.get_execution_role()"
   ]
  },
  {
   "cell_type": "code",
   "execution_count": null,
   "id": "dd00478f-668d-4ff9-a667-336110893417",
   "metadata": {},
   "outputs": [],
   "source": [
    "estimator = Estimator(\n",
    "    # AWSの用意したdocker image\n",
    "    # conda環境なのでpipを使うと壊れてしまう可能性がある\n",
    "    image_uri=\"763104351884.dkr.ecr.ap-northeast-1.amazonaws.com/pytorch-training:1.12.0-cpu-py38-ubuntu20.04-sagemaker\",\n",
    "    # 自作のdocker image\n",
    "    role=role,\n",
    "    instance_type=\"ml.m5.xlarge\",\n",
    "    instance_count=1,\n",
    "    code_location=\"s3://fuyu-bucket/sagemaker/logs\", \n",
    "    output_path=\"s3://fuyu-bucket/sagemaker/logs\", \n",
    "    sagemaker_session=session,\n",
    "    entry_point=\"src/train.py\"\n",
    ")\n",
    "\n",
    "\n",
    "estimator.fit({\n",
    "    # 入力データの設定\n",
    "    # Training　Jobではバケット名以降が/opt/ml/input/data/~にコピーされる\n",
    "    \"wallpaper\": \"s3://fuyu-bucket/wallpaper/\"\n",
    "})"
   ]
  }
 ],
 "metadata": {
  "kernelspec": {
   "display_name": "conda_pytorch_p38",
   "language": "python",
   "name": "conda_pytorch_p38"
  },
  "language_info": {
   "codemirror_mode": {
    "name": "ipython",
    "version": 3
   },
   "file_extension": ".py",
   "mimetype": "text/x-python",
   "name": "python",
   "nbconvert_exporter": "python",
   "pygments_lexer": "ipython3",
   "version": "3.8.12"
  }
 },
 "nbformat": 4,
 "nbformat_minor": 5
}
